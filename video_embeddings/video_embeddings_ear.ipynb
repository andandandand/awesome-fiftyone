{
  "cells": [
    {
      "cell_type": "markdown",
      "metadata": {},
      "source": [
        "<div style=\"text-align: center;\">\n",
        "    <h1>Video Embeddings with FiftyOne</h1>\n",
        "    <h2>Elderly Action Recognition Challenge</h2>\n",
        "    <h2>Video Data Analysis with FiftyOne</h2>\n",
        "</div>\n",
        "\n",
        "This notebook walks you through the process of generating and visualizing video embeddings for the [Elderly Action Recognition Challenge](https://voxel51.com/computer-vision-events/elderly-action-recognition-challenge-wacv-2025) using the [FiftyOne](https://docs.voxel51.com/) platform. It covers key steps such as downloading the dataset, applying the [Hiera Video Embeddings plugin](https://github.com/harpreetsahota204/hiera-video-embeddings-plugin), generating embeddings, and visualizing the results. By the end, you'll be equipped to analyze video data and extract insights using embeddings.\n",
        "\n",
        "---\n",
        "\n",
        "**Useful Links:**\n",
        "- [Challenge Overview](https://voxel51.com/computer-vision-events/elderly-action-recognition-challenge-wacv-2025/)\n",
        "- [FiftyOne Documentation](https://docs.voxel51.com/)\n",
        "- [Hiera Video Embeddings Plugin](https://github.com/harpreetsahota204/hiera-video-embeddings-plugin)\n",
        "\n",
        "---\n",
        "\n",
        "<div style=\"text-align: center;\">\n",
        "    <img src=\"https://github.com/user-attachments/assets/a97ed6ff-8aa8-4911-98b0-6f8dce36ab83\" alt=\"challenge-logo\" width=\"200\" style=\"margin-right: 20px;\">\n",
        "    <img src=\"https://github.com/user-attachments/assets/6b1d05e4-3da3-4591-b70f-764e5ad0e5da\" alt=\"fiftyone-logo\" width=\"200\">\n",
        "</div>\n",
        "\n",
        "---\n",
        "\n",
        "**Goal**: Equip participants with the tools to generate meaningful video embeddings, visualize them, and submit their results to advance the field of action recognition for the elderly."
      ]
    },
    {
      "cell_type": "markdown",
      "metadata": {},
      "source": [
        "## Requirements anf FiftyOne Installation\n",
        "\n",
        "First thing you need to do is create a Python environment in your system, if you are not familiar with that please take a look of this [ReadmeFile](https://github.com/voxel51/fiftyone-examples?tab=readme-ov-file#-prerequisites-for-beginners-), where we will explain how to create the environment. After that be sure you activate the created environment and install FiftyOne there and the necessary packages, as ```umap-learn``` for dimensionality reduction (UMAP visualization). For more details on installing FiftyOne, check out FiftyOne Installation Guide.\n",
        "\n",
        "Don't forget to restart the kernel after you run the next line. It is needed just one time."
      ]
    },
    {
      "cell_type": "code",
      "execution_count": null,
      "metadata": {
        "id": "FELbGz_bBBc4"
      },
      "outputs": [],
      "source": [
        "!pip install fiftyone umap-learn huggingface-hub ipywidgets"
      ]
    },
    {
      "cell_type": "markdown",
      "metadata": {},
      "source": [
        "## Imports\n",
        "In this section, we import all the necessary libraries and modules to work with the dataset. In the rest of the notebook we could see other commented imports for educational purposes."
      ]
    },
    {
      "cell_type": "code",
      "execution_count": 4,
      "metadata": {
        "id": "MZfAqUl6A6RN"
      },
      "outputs": [],
      "source": [
        "import fiftyone as fo\n",
        "from fiftyone.utils.huggingface import load_from_hub\n",
        "import fiftyone.operators as foo\n",
        "import fiftyone.brain as fob\n",
        "\n",
        "import os"
      ]
    },
    {
      "cell_type": "markdown",
      "metadata": {},
      "source": [
        "Here, we load the dataset from Hugging Face Hub using ```load_from_hub()```. The dataset [```\"Voxel51/GMNCSA24-FO\"```](https://huggingface.co/datasets/Voxel51/GMNCSA24-FO) is specified, and you can adjust the number of samples with arguments like max_samples. Learn more about loading datasets in FiftyOne from the [docs](https://docs.voxel51.com/user_guide/dataset_creation/index.html)."
      ]
    },
    {
      "cell_type": "code",
      "execution_count": 7,
      "metadata": {},
      "outputs": [
        {
          "name": "stdout",
          "output_type": "stream",
          "text": [
            "Downloading config file fiftyone.yml from Voxel51/GMNCSA24-FO\n",
            "Loading dataset\n",
            "Importing samples...\n",
            " 100% |█████████████████| 335/335 [7.2ms elapsed, 0s remaining, 46.6K samples/s]       \n",
            "Importing frames...\n",
            " 100% |█████████████████████| 0/0 [742.0us elapsed, ? remaining, ? samples/s] \n",
            "Downloading 335 media files...\n"
          ]
        },
        {
          "name": "stderr",
          "output_type": "stream",
          "text": [
            "100%|██████████| 4/4 [00:16<00:00,  4.23s/it]\n"
          ]
        }
      ],
      "source": [
        "from fiftyone.utils.huggingface import load_from_hub\n",
        "\n",
        "dataset = load_from_hub(\"Voxel51/GMNCSA24-FO\", overwrite=True)"
      ]
    },
    {
      "cell_type": "markdown",
      "metadata": {},
      "source": [
        "## Install the plugin\n",
        "In this cell, we download and install the [Hiera Video Embeddings Plugin](https://github.com/harpreetsahota204/hiera-video-embeddings-plugin) and its dependencies using the FiftyOne plugin manager. The plugin enables the computation of video embeddings. More about plugins in FiftyOne can be found here.\n",
        "\n",
        "> **Note:** Remember that a plugin in FiftyOne is an extension that adds new functionality or features to the platform, such as custom operators, embeddings, or integrations with other tools, allowing users to enhance their dataset management and analysis workflows."
      ]
    },
    {
      "cell_type": "code",
      "execution_count": 17,
      "metadata": {
        "id": "n6Y71nKcBkxp"
      },
      "outputs": [
        {
          "name": "stdout",
          "output_type": "stream",
          "text": [
            "Downloading harpreetsahota204/hiera-video-embeddings-plugin...\n",
            "  103.9Kb [6.5ms elapsed, ? remaining, 15.7Mb/s]   \n",
            "Copying plugin '@harpreetsahota/hiera_video_embeddings' to '/Users/paularamos/fiftyone/__plugins__/@harpreetsahota/hiera_video_embeddings'\n",
            "Collecting hiera-transformer\n",
            "  Downloading hiera_transformer-0.1.4-py3-none-any.whl.metadata (16 kB)\n",
            "Collecting torch>=1.8.1 (from hiera-transformer)\n",
            "  Downloading torch-2.6.0-cp313-none-macosx_11_0_arm64.whl.metadata (28 kB)\n",
            "Collecting timm>=0.4.12 (from hiera-transformer)\n",
            "  Using cached timm-1.0.14-py3-none-any.whl.metadata (50 kB)\n",
            "Requirement already satisfied: tqdm in ./test_env/lib/python3.13/site-packages (from hiera-transformer) (4.67.1)\n",
            "Requirement already satisfied: packaging in ./test_env/lib/python3.13/site-packages (from hiera-transformer) (24.2)\n",
            "Collecting torchvision (from timm>=0.4.12->hiera-transformer)\n",
            "  Downloading torchvision-0.21.0-cp313-cp313-macosx_11_0_arm64.whl.metadata (6.1 kB)\n",
            "Requirement already satisfied: pyyaml in ./test_env/lib/python3.13/site-packages (from timm>=0.4.12->hiera-transformer) (6.0.2)\n",
            "Requirement already satisfied: huggingface_hub in ./test_env/lib/python3.13/site-packages (from timm>=0.4.12->hiera-transformer) (0.28.1)\n",
            "Collecting safetensors (from timm>=0.4.12->hiera-transformer)\n",
            "  Using cached safetensors-0.5.2-cp38-abi3-macosx_11_0_arm64.whl.metadata (3.8 kB)\n",
            "Requirement already satisfied: filelock in ./test_env/lib/python3.13/site-packages (from torch>=1.8.1->hiera-transformer) (3.17.0)\n",
            "Requirement already satisfied: typing-extensions>=4.10.0 in ./test_env/lib/python3.13/site-packages (from torch>=1.8.1->hiera-transformer) (4.12.2)\n",
            "Requirement already satisfied: networkx in ./test_env/lib/python3.13/site-packages (from torch>=1.8.1->hiera-transformer) (3.4.2)\n",
            "Requirement already satisfied: jinja2 in ./test_env/lib/python3.13/site-packages (from torch>=1.8.1->hiera-transformer) (3.1.5)\n",
            "Requirement already satisfied: fsspec in ./test_env/lib/python3.13/site-packages (from torch>=1.8.1->hiera-transformer) (2024.12.0)\n",
            "Requirement already satisfied: setuptools in ./test_env/lib/python3.13/site-packages (from torch>=1.8.1->hiera-transformer) (75.8.0)\n",
            "Collecting sympy==1.13.1 (from torch>=1.8.1->hiera-transformer)\n",
            "  Using cached sympy-1.13.1-py3-none-any.whl.metadata (12 kB)\n",
            "Collecting mpmath<1.4,>=1.1.0 (from sympy==1.13.1->torch>=1.8.1->hiera-transformer)\n",
            "  Using cached mpmath-1.3.0-py3-none-any.whl.metadata (8.6 kB)\n",
            "Requirement already satisfied: requests in ./test_env/lib/python3.13/site-packages (from huggingface_hub->timm>=0.4.12->hiera-transformer) (2.32.3)\n",
            "Requirement already satisfied: MarkupSafe>=2.0 in ./test_env/lib/python3.13/site-packages (from jinja2->torch>=1.8.1->hiera-transformer) (3.0.2)\n",
            "Requirement already satisfied: numpy in ./test_env/lib/python3.13/site-packages (from torchvision->timm>=0.4.12->hiera-transformer) (2.1.3)\n",
            "Requirement already satisfied: pillow!=8.3.*,>=5.3.0 in ./test_env/lib/python3.13/site-packages (from torchvision->timm>=0.4.12->hiera-transformer) (11.1.0)\n",
            "Requirement already satisfied: charset-normalizer<4,>=2 in ./test_env/lib/python3.13/site-packages (from requests->huggingface_hub->timm>=0.4.12->hiera-transformer) (3.4.1)\n",
            "Requirement already satisfied: idna<4,>=2.5 in ./test_env/lib/python3.13/site-packages (from requests->huggingface_hub->timm>=0.4.12->hiera-transformer) (3.10)\n",
            "Requirement already satisfied: urllib3<3,>=1.21.1 in ./test_env/lib/python3.13/site-packages (from requests->huggingface_hub->timm>=0.4.12->hiera-transformer) (2.3.0)\n",
            "Requirement already satisfied: certifi>=2017.4.17 in ./test_env/lib/python3.13/site-packages (from requests->huggingface_hub->timm>=0.4.12->hiera-transformer) (2025.1.31)\n",
            "Downloading hiera_transformer-0.1.4-py3-none-any.whl (31 kB)\n",
            "Using cached timm-1.0.14-py3-none-any.whl (2.4 MB)\n",
            "Downloading torch-2.6.0-cp313-none-macosx_11_0_arm64.whl (66.5 MB)\n",
            "\u001b[2K   \u001b[90m━━━━━━━━━━━━━━━━━━━━━━━━━━━━━━━━━━━━━━━━\u001b[0m \u001b[32m66.5/66.5 MB\u001b[0m \u001b[31m59.1 MB/s\u001b[0m eta \u001b[36m0:00:00\u001b[0ma \u001b[36m0:00:01\u001b[0m\n",
            "\u001b[?25hUsing cached sympy-1.13.1-py3-none-any.whl (6.2 MB)\n",
            "Using cached safetensors-0.5.2-cp38-abi3-macosx_11_0_arm64.whl (408 kB)\n",
            "Downloading torchvision-0.21.0-cp313-cp313-macosx_11_0_arm64.whl (1.8 MB)\n",
            "\u001b[2K   \u001b[90m━━━━━━━━━━━━━━━━━━━━━━━━━━━━━━━━━━━━━━━━\u001b[0m \u001b[32m1.8/1.8 MB\u001b[0m \u001b[31m53.5 MB/s\u001b[0m eta \u001b[36m0:00:00\u001b[0m\n",
            "\u001b[?25hUsing cached mpmath-1.3.0-py3-none-any.whl (536 kB)\n",
            "Installing collected packages: mpmath, sympy, safetensors, torch, torchvision, timm, hiera-transformer\n",
            "Successfully installed hiera-transformer-0.1.4 mpmath-1.3.0 safetensors-0.5.2 sympy-1.13.1 timm-1.0.14 torch-2.6.0 torchvision-0.21.0\n",
            "Requirement already satisfied: timm in ./test_env/lib/python3.13/site-packages (1.0.14)\n",
            "Requirement already satisfied: torch in ./test_env/lib/python3.13/site-packages (from timm) (2.6.0)\n",
            "Requirement already satisfied: torchvision in ./test_env/lib/python3.13/site-packages (from timm) (0.21.0)\n",
            "Requirement already satisfied: pyyaml in ./test_env/lib/python3.13/site-packages (from timm) (6.0.2)\n",
            "Requirement already satisfied: huggingface_hub in ./test_env/lib/python3.13/site-packages (from timm) (0.28.1)\n",
            "Requirement already satisfied: safetensors in ./test_env/lib/python3.13/site-packages (from timm) (0.5.2)\n",
            "Requirement already satisfied: filelock in ./test_env/lib/python3.13/site-packages (from huggingface_hub->timm) (3.17.0)\n",
            "Requirement already satisfied: fsspec>=2023.5.0 in ./test_env/lib/python3.13/site-packages (from huggingface_hub->timm) (2024.12.0)\n",
            "Requirement already satisfied: packaging>=20.9 in ./test_env/lib/python3.13/site-packages (from huggingface_hub->timm) (24.2)\n",
            "Requirement already satisfied: requests in ./test_env/lib/python3.13/site-packages (from huggingface_hub->timm) (2.32.3)\n",
            "Requirement already satisfied: tqdm>=4.42.1 in ./test_env/lib/python3.13/site-packages (from huggingface_hub->timm) (4.67.1)\n",
            "Requirement already satisfied: typing-extensions>=3.7.4.3 in ./test_env/lib/python3.13/site-packages (from huggingface_hub->timm) (4.12.2)\n",
            "Requirement already satisfied: networkx in ./test_env/lib/python3.13/site-packages (from torch->timm) (3.4.2)\n",
            "Requirement already satisfied: jinja2 in ./test_env/lib/python3.13/site-packages (from torch->timm) (3.1.5)\n",
            "Requirement already satisfied: setuptools in ./test_env/lib/python3.13/site-packages (from torch->timm) (75.8.0)\n",
            "Requirement already satisfied: sympy==1.13.1 in ./test_env/lib/python3.13/site-packages (from torch->timm) (1.13.1)\n",
            "Requirement already satisfied: mpmath<1.4,>=1.1.0 in ./test_env/lib/python3.13/site-packages (from sympy==1.13.1->torch->timm) (1.3.0)\n",
            "Requirement already satisfied: numpy in ./test_env/lib/python3.13/site-packages (from torchvision->timm) (2.1.3)\n",
            "Requirement already satisfied: pillow!=8.3.*,>=5.3.0 in ./test_env/lib/python3.13/site-packages (from torchvision->timm) (11.1.0)\n",
            "Requirement already satisfied: MarkupSafe>=2.0 in ./test_env/lib/python3.13/site-packages (from jinja2->torch->timm) (3.0.2)\n",
            "Requirement already satisfied: charset-normalizer<4,>=2 in ./test_env/lib/python3.13/site-packages (from requests->huggingface_hub->timm) (3.4.1)\n",
            "Requirement already satisfied: idna<4,>=2.5 in ./test_env/lib/python3.13/site-packages (from requests->huggingface_hub->timm) (3.10)\n",
            "Requirement already satisfied: urllib3<3,>=1.21.1 in ./test_env/lib/python3.13/site-packages (from requests->huggingface_hub->timm) (2.3.0)\n",
            "Requirement already satisfied: certifi>=2017.4.17 in ./test_env/lib/python3.13/site-packages (from requests->huggingface_hub->timm) (2025.1.31)\n"
          ]
        }
      ],
      "source": [
        "!fiftyone plugins download https://github.com/harpreetsahota204/hiera-video-embeddings-plugin\n",
        "!fiftyone plugins requirements @harpreetsahota/hiera_video_embeddings --install"
      ]
    },
    {
      "cell_type": "markdown",
      "metadata": {},
      "source": [
        "## Requirements for running a plugin\n",
        "We configure the environment to allow legacy orchestrators, which might be needed for compatibility with specific tasks or plugins in FiftyOne. For more on orchestrators, refer to [FiftyOne Orchestrator](https://docs.voxel51.com/plugins/using_plugins.html#setting-up-an-orchestrator)."
      ]
    },
    {
      "cell_type": "code",
      "execution_count": 18,
      "metadata": {
        "id": "ijZgwoQ_Bx3v"
      },
      "outputs": [],
      "source": [
        "#running in terminal --> export FIFTYONE_ALLOW_LEGACY_ORCHESTRATORS=true or here with the next line\n",
        "#import os\n",
        "\n",
        "os.environ['FIFTYONE_ALLOW_LEGACY_ORCHESTRATORS'] = 'true'"
      ]
    },
    {
      "cell_type": "markdown",
      "metadata": {},
      "source": [
        "Before running the plugin, you must launch the delegated service in the terminal. This service handles distributed or offloaded tasks, like embedding computation. For more on the delegated service, check out the [FiftyOne Delegated Service documentation](https://docs.voxel51.com/plugins/using_plugins.html#managing-delegated-operations)."
      ]
    },
    {
      "cell_type": "markdown",
      "metadata": {},
      "source": [
        "- Open a new terminal within the same Python Env and execute this line\n",
        "\n",
        "\n",
        "```fiftyone delegated launch```\n",
        "\n",
        "\n",
        "We should see in the terminal somthing like this:\n",
        "\n",
        "\n",
        "![Image](https://github.com/user-attachments/assets/61058374-1521-4e10-8781-0a72daa76538)\n",
        "\n",
        "Disable and delete previous plugins if needed:\n",
        "\n",
        "```\n",
        "fiftyone plugins disable --all\n",
        "fiftyone plugins delete --all\n",
        "```"
      ]
    },
    {
      "cell_type": "markdown",
      "metadata": {},
      "source": [
        "## Initialize the Embedding Operator\n",
        " We initialize the embedding operator from the Hiera plugin to compute video embeddings. The operator provides the functionality needed to generate embeddings for the dataset. Learn more about operators in FiftyOne [here](https://docs.voxel51.com/api/fiftyone.operators.html)."
      ]
    },
    {
      "cell_type": "code",
      "execution_count": 19,
      "metadata": {
        "id": "iDLSFTcsB31q"
      },
      "outputs": [],
      "source": [
        "import fiftyone.operators as foo\n",
        "\n",
        "embedding_operator = foo.get_operator(\"@harpreetsahota/hiera_video_embeddings/compute_hiera_video_embeddings\")"
      ]
    },
    {
      "cell_type": "markdown",
      "metadata": {
        "id": "qBy_-sA9CEN_"
      },
      "source": [
        "## Compute First Set of Video Embeddings\n",
        "In this cell, the embedding_operator is applied to compute video embeddings using the Hiera model (```hiera_base_16x224```). The embeddings are saved to the ```emb_test_1``` field, and they are normalized (```normalize=True```). This will generate terminal embeddings for video frames."
      ]
    },
    {
      "cell_type": "markdown",
      "metadata": {},
      "source": [
        "\n",
        "> **Note: With plugins, you can add new functionality to the FiftyOne App, create integrations with other tools and APIs, render custom panels, and add custom actions to menus.With With FiftyOne, you can even write plugins that allow users to execute long-running tasks from within the App that run on a connected compute cluster.\n",
        "Get started with plugins by installing some popular plugins, then try your hand at writing your own!\n",
        "For more on plugins types, refer to the [plugin documentation](https://docs.voxel51.com/plugins/index.html)."
      ]
    },
    {
      "cell_type": "code",
      "execution_count": 20,
      "metadata": {
        "id": "UVuTYeKeB95s"
      },
      "outputs": [
        {
          "data": {
            "text/plain": [
              "<fiftyone.operators.executor.ExecutionResult at 0x1426fb0e0>"
            ]
          },
          "execution_count": 20,
          "metadata": {},
          "output_type": "execute_result"
        }
      ],
      "source": [
        "await embedding_operator(\n",
        "    dataset,\n",
        "    model_name=\"hiera_base_16x224\",\n",
        "    checkpoint=\"mae_k400_ft_k400\",\n",
        "    embedding_types=\"terminal\",\n",
        "    emb_field=\"emb_test_1\",\n",
        "    normalize=True,\n",
        "    delegate=True\n",
        "    )"
      ]
    },
    {
      "cell_type": "markdown",
      "metadata": {},
      "source": [
        "Wait for the operation to complete. "
      ]
    },
    {
      "cell_type": "markdown",
      "metadata": {},
      "source": [
        "## Alternative: To use FiftyOne APP\n",
        "\n",
        "For this step you can also use the APP, open the Operator Icon and look for the Hiera Operator and there you can select your preferences. \n",
        "\n",
        "```session = fo.launch_app(dataset)```\n",
        "\n",
        "Operator Icon:\n",
        "![Image](https://github.com/user-attachments/assets/1de84a27-526c-4f13-b50d-e542502b1bfa)\n",
        "\n",
        "\n",
        "Select the Hiera Video Embeddings Operator:\n",
        "![Image](https://github.com/user-attachments/assets/fdddc48a-9000-4da3-96f3-92b2646cd33e)\n",
        "\n",
        "Fill the form:\n",
        "![Image](https://github.com/user-attachments/assets/149f2ec0-3c7e-4ee0-8e2f-c18846a105a4)"
      ]
    },
    {
      "cell_type": "markdown",
      "metadata": {},
      "source": [
        "After computing the embeddings, you need to reload the dataset to access the new embedding fields (```emb_test_1```)."
      ]
    },
    {
      "cell_type": "code",
      "execution_count": 23,
      "metadata": {},
      "outputs": [
        {
          "name": "stdout",
          "output_type": "stream",
          "text": [
            "Name:        Voxel51/GMNCSA24-FO\n",
            "Media type:  video\n",
            "Num samples: 335\n",
            "Persistent:  False\n",
            "Tags:        []\n",
            "Sample fields:\n",
            "    id:               fiftyone.core.fields.ObjectIdField\n",
            "    filepath:         fiftyone.core.fields.StringField\n",
            "    tags:             fiftyone.core.fields.ListField(fiftyone.core.fields.StringField)\n",
            "    metadata:         fiftyone.core.fields.EmbeddedDocumentField(fiftyone.core.metadata.VideoMetadata)\n",
            "    created_at:       fiftyone.core.fields.DateTimeField\n",
            "    last_modified_at: fiftyone.core.fields.DateTimeField\n",
            "    sample_id:        fiftyone.core.fields.ObjectIdField\n",
            "    support:          fiftyone.core.fields.FrameSupportField\n",
            "    events:           fiftyone.core.fields.EmbeddedDocumentField(fiftyone.core.labels.Classification)\n",
            "    emb_test_1:       fiftyone.core.fields.VectorField\n",
            "Frame fields:\n",
            "    id:               fiftyone.core.fields.ObjectIdField\n",
            "    frame_number:     fiftyone.core.fields.FrameNumberField\n",
            "    created_at:       fiftyone.core.fields.DateTimeField\n",
            "    last_modified_at: fiftyone.core.fields.DateTimeField\n"
          ]
        }
      ],
      "source": [
        "dataset.reload()\n",
        "print(dataset)"
      ]
    },
    {
      "cell_type": "markdown",
      "metadata": {},
      "source": [
        "Check your dataset, looking for the embeddings field calles ```emb_test_1```\n",
        "\n",
        "![Image](https://github.com/user-attachments/assets/f3e020a4-a927-465f-8f90-c76b3626039e)"
      ]
    },
    {
      "cell_type": "markdown",
      "metadata": {},
      "source": [
        "## Visualize the Embeddings Using UMAP\n",
        "Here, we use UMAP (Uniform Manifold Approximation and Projection) to reduce the dimensionality of the embeddings to 2D for visualization. This is useful for understanding the structure and relationships between the embeddings. For more on UMAP in FiftyOne, check the [Brain documentation](https://docs.voxel51.com/brain.html#visualizing-embeddings)."
      ]
    },
    {
      "cell_type": "code",
      "execution_count": 24,
      "metadata": {},
      "outputs": [
        {
          "name": "stdout",
          "output_type": "stream",
          "text": [
            "Generating visualization...\n"
          ]
        },
        {
          "name": "stderr",
          "output_type": "stream",
          "text": [
            "/Users/paularamos/Documents/GitHub/awesome-fiftyone/video_embeddings/test_env/lib/python3.13/site-packages/sklearn/utils/deprecation.py:151: FutureWarning: 'force_all_finite' was renamed to 'ensure_all_finite' in 1.6 and will be removed in 1.8.\n",
            "  warnings.warn(\n"
          ]
        },
        {
          "name": "stdout",
          "output_type": "stream",
          "text": [
            "UMAP( verbose=True)\n",
            "Sat Feb  1 08:50:59 2025 Construct fuzzy simplicial set\n",
            "Sat Feb  1 08:50:59 2025 Finding Nearest Neighbors\n",
            "Sat Feb  1 08:50:59 2025 Finished Nearest Neighbor Search\n",
            "Sat Feb  1 08:50:59 2025 Construct embedding\n"
          ]
        },
        {
          "name": "stderr",
          "output_type": "stream",
          "text": [
            "Epochs completed: 100%| ██████████ 500/500 [00:00]"
          ]
        },
        {
          "name": "stdout",
          "output_type": "stream",
          "text": [
            "\tcompleted  0  /  500 epochs\n",
            "\tcompleted  50  /  500 epochs\n",
            "\tcompleted  100  /  500 epochs\n",
            "\tcompleted  150  /  500 epochs\n",
            "\tcompleted  200  /  500 epochs\n",
            "\tcompleted  250  /  500 epochs\n",
            "\tcompleted  300  /  500 epochs\n",
            "\tcompleted  350  /  500 epochs\n",
            "\tcompleted  400  /  500 epochs\n",
            "\tcompleted  450  /  500 epochs\n",
            "Sat Feb  1 08:50:59 2025 Finished embedding\n"
          ]
        },
        {
          "name": "stderr",
          "output_type": "stream",
          "text": [
            "\n"
          ]
        }
      ],
      "source": [
        "#import fiftyone.brain as fob\n",
        "\n",
        "results = fob.compute_visualization(\n",
        "    dataset,\n",
        "    embeddings=\"emb_test_1\", # or whichever embedding field\n",
        "    method=\"umap\",\n",
        "    brain_key=\"emb_viz_1\",\n",
        "    num_dims=2,\n",
        "    verbose=True,\n",
        ")"
      ]
    },
    {
      "cell_type": "markdown",
      "metadata": {},
      "source": [
        "Wait until the operation is ready, check the terminal where you execute ```fiftyone delegated launch```. This process time will depend on the number of samples you have in your dataset or view.\n",
        "\n",
        "![Image](https://github.com/user-attachments/assets/e46323a7-7de0-482c-93d8-169869780237)\n",
        "\n",
        "\n",
        "\n",
        "![Image](https://github.com/user-attachments/assets/9148c0f7-4b84-4146-9541-9da328fec727)"
      ]
    },
    {
      "cell_type": "code",
      "execution_count": null,
      "metadata": {},
      "outputs": [],
      "source": [
        "## Launch FiftyOne APP\n",
        "session = fo.launch_app(dataset)\n",
        "session.freeze()"
      ]
    },
    {
      "cell_type": "markdown",
      "metadata": {},
      "source": [
        "##  Verify the Brain Run Was Successful\n",
        "We check if the brain run was successful (dataset.has_brain_runs) and view the list of brain runs. You can load the results for the embedding visualization by calling dataset.load_brain_results()."
      ]
    },
    {
      "cell_type": "code",
      "execution_count": 25,
      "metadata": {},
      "outputs": [
        {
          "data": {
            "text/plain": [
              "array([-1.62456706e-01,  1.42509893e-01,  2.82073580e-02, -3.32412511e-01,\n",
              "       -3.05628106e-02,  4.05462921e-01,  2.42151812e-01,  8.07870738e-03,\n",
              "        6.63925827e-01,  6.74422607e-02,  2.61222124e-01, -6.64945841e-01,\n",
              "        5.38978398e-01,  6.64280057e-01,  2.17230186e-01, -7.81381577e-02,\n",
              "        1.09162733e-01,  1.40530944e-01,  2.84134865e-01,  3.69161189e-01,\n",
              "       -6.60031676e-01, -1.73182964e-01, -9.98321295e-01, -4.56319489e-02,\n",
              "        9.21102166e-02,  4.77855355e-01,  9.49432194e-01,  1.41382849e+00,\n",
              "       -1.15292102e-01,  1.49507588e-02,  2.68596321e-01, -5.70652373e-02,\n",
              "       -1.85752302e-01, -3.02214831e-01,  4.66969609e-01, -2.34535076e-02,\n",
              "        4.67020273e-01,  3.40447687e-02, -3.02124619e-01,  1.01528168e-01,\n",
              "       -1.86585352e-01,  8.77562314e-02, -1.87962905e-01, -8.47835988e-02,\n",
              "        2.68085629e-01, -3.18618506e-01, -2.06036083e-02,  8.17718059e-02,\n",
              "        5.98581955e-02, -4.06609833e-01, -1.02172479e-01, -1.44649327e-01,\n",
              "       -2.16971375e-02, -1.10759929e-01, -7.61316717e-02, -2.22970992e-01,\n",
              "       -1.68844730e-01,  9.03748274e-01,  1.50771901e-01,  1.10477701e-01,\n",
              "        1.12219870e-01, -1.00651085e+00, -3.65713418e-01,  3.73422056e-01,\n",
              "        4.13699806e-01,  8.85057509e-01,  3.62241387e-01, -5.61040878e-01,\n",
              "       -4.62243289e-01, -6.92831099e-01,  1.06770486e-01,  3.75734717e-01,\n",
              "        5.30962348e-01, -7.37697542e-01,  1.45349532e-01,  1.16437763e-01,\n",
              "       -2.32658222e-01,  7.46023357e-01,  6.12845957e-01, -4.54667471e-02,\n",
              "       -1.48612142e-01, -1.70205846e-01, -2.72414088e-01, -4.27904844e-01,\n",
              "       -1.57058525e+00,  8.14079881e-01, -3.43475997e-01,  3.08714300e-01,\n",
              "       -3.07088822e-01, -3.40362638e-01, -1.19784994e+01, -5.29477336e-02,\n",
              "       -9.97180194e-02, -1.47779673e-01,  2.95810163e-01, -4.28324342e-01,\n",
              "        9.52945203e-02,  9.09920633e-02,  2.76102304e-01, -5.94743341e-03,\n",
              "       -1.09266773e-01, -6.13156796e-01, -2.15225607e-01,  4.23460215e-01,\n",
              "        7.27023035e-02, -1.49885938e-02, -1.59462526e-01, -5.08191474e-02,\n",
              "        1.48314729e-01, -2.02965178e-02,  2.24955499e-01,  2.75591105e-01,\n",
              "        6.75680757e-01,  6.34448290e-01,  4.94108170e-01,  8.56864929e-01,\n",
              "       -4.20638211e-02, -1.34792805e+00,  4.76079017e-01, -2.43060850e-02,\n",
              "        1.87891066e-01, -9.47605073e-03, -2.77191788e-01,  4.34197843e-01,\n",
              "       -2.38679871e-01, -2.15064138e-01, -1.40446320e-01,  2.03945667e-01,\n",
              "       -7.62661755e-01,  4.19628531e-01,  9.93345857e-01, -1.52635202e-01,\n",
              "        5.33375919e-01,  6.42170012e-01, -1.10075843e+00,  1.65837295e-02,\n",
              "       -4.53590512e-01, -2.31914088e-01,  8.25142115e-02, -7.02954948e-01,\n",
              "       -4.47097689e-01,  9.37625766e-01,  4.67582107e-01,  1.19693235e-01,\n",
              "        4.66264218e-01,  4.15453911e-02,  4.88697737e-01,  4.12684172e-01,\n",
              "        3.76005381e-01, -8.12792420e-01,  8.79334033e-01,  2.96557575e-01,\n",
              "        1.76430836e-01,  8.03973913e-01, -2.84600221e-02,  1.60198256e-01,\n",
              "       -3.04702073e-01,  3.11871767e-01,  7.57023990e-02,  2.67273724e-01,\n",
              "        5.40070832e-01,  1.70114741e-01,  7.05406249e-01, -4.68865037e-04,\n",
              "       -2.07997993e-01, -4.39679801e-01,  2.96023995e-01, -2.08422482e-01,\n",
              "        1.95313290e-01,  1.32821947e-01,  1.65139794e-01,  3.33210558e-01,\n",
              "        3.84593815e-01, -7.82134056e-01, -2.02259287e-01,  1.36112726e+00,\n",
              "       -4.69104201e-01,  7.56259039e-02,  7.31513262e-01, -1.93257004e-01,\n",
              "        2.81955935e-02,  7.61675239e-02, -8.78829777e-01,  2.14350805e-01,\n",
              "       -3.98272783e-01,  6.43594384e-01, -4.71045107e-01,  3.29451226e-02,\n",
              "        2.04081178e-01,  2.90919662e-01,  2.28384256e-01,  1.13977158e+00,\n",
              "        8.67347419e-02,  6.69973373e-01,  3.65651548e-02, -7.56668299e-02,\n",
              "       -5.75976782e-02, -1.38762429e-01,  6.57685578e-01, -5.72289884e-01,\n",
              "        2.52981901e-01,  1.15064830e-01,  5.24691790e-02, -2.65709385e-02,\n",
              "       -5.55006444e-01,  7.11649597e-01, -2.64595777e-01, -3.84925246e-01,\n",
              "        1.14094675e-01,  2.01085731e-01,  2.17645481e-01,  7.67356932e-01,\n",
              "       -4.53710668e-02,  3.87106001e-01, -1.14242718e-01, -2.24977329e-01,\n",
              "        1.90580320e-02, -1.00495920e-01,  8.26216578e-01, -9.06680763e-01,\n",
              "       -6.75144434e-01,  1.72264099e-01, -1.06771559e-01,  3.07370663e-01,\n",
              "       -5.10705280e+00,  1.59998104e-01, -4.80827898e-01,  3.04877579e-01,\n",
              "       -5.40411234e-01, -7.29915500e-02, -1.08877194e+00,  3.63946736e-01,\n",
              "       -2.47099623e-01,  2.88946390e-01,  5.40242255e-01,  5.30099511e-01,\n",
              "       -2.43208066e-01, -2.56840706e-01, -2.94284314e-01,  1.50678623e-02,\n",
              "       -2.26410195e-01,  1.25045490e+00, -4.19668943e-01, -2.26419136e-01,\n",
              "       -1.63665950e-01,  4.79238629e-02, -8.12074482e-01,  1.09714717e-01,\n",
              "       -2.80158192e-01,  1.33728147e-01,  5.64262092e-01,  8.74721110e-02,\n",
              "        1.26328707e-01, -7.11539239e-02,  4.12583470e-01, -2.82800466e-01,\n",
              "        5.40457726e-01, -2.87029028e-01,  3.27579230e-02,  2.07253873e-01,\n",
              "        2.36181602e-01,  7.07724154e-01,  1.18058741e-01,  1.68639863e+00,\n",
              "        6.19873405e-02,  3.60701025e-01,  2.41703182e-01,  1.69149101e-01,\n",
              "        1.09802291e-01, -2.11053610e-01,  7.13484108e-01,  1.67948231e-01,\n",
              "       -1.51991233e-01,  1.38602499e-02, -5.27691662e-01, -2.61968046e-01,\n",
              "        2.87064672e-01,  3.26415986e-01,  5.80189943e-01, -4.36028838e-03,\n",
              "        3.40193838e-01,  5.25776207e-01,  6.08604997e-02, -3.03928345e-01,\n",
              "        2.05264136e-01, -4.85880189e-02,  4.63027626e-01,  4.54058126e-03,\n",
              "        2.57232338e-01, -3.32520574e-01,  4.30463910e-01, -4.21026081e-01,\n",
              "       -2.98299402e-01, -2.23435506e-01,  1.98724374e-01, -1.81820363e-01,\n",
              "        5.32479621e-02, -4.85213846e-01,  4.83526617e-01, -3.00093263e-01,\n",
              "       -4.38728720e-01, -4.17226739e-02,  3.91040295e-01, -3.76658618e-01,\n",
              "       -1.20465025e-01, -5.03488064e-01, -4.86060292e-01, -2.38223121e-01,\n",
              "        3.91621709e-01,  2.97036111e-01, -4.01071191e-01,  1.79800928e-01,\n",
              "        2.77037621e-02,  6.07106328e-01,  9.70143266e-03,  1.41442180e-01,\n",
              "        5.27907610e-01, -5.02864778e-01,  2.11536884e-01, -6.95520461e-01,\n",
              "       -2.26232454e-01, -1.60438225e-01, -1.41065323e+00,  5.31374276e-01,\n",
              "       -1.01854146e-01, -2.27317363e-01, -9.75645781e-02, -6.34239018e-02,\n",
              "        1.54521585e-01,  1.50042742e-01,  5.89559674e-02,  6.88672960e-02,\n",
              "       -2.06413865e-02,  5.97599261e-02,  4.45838958e-01,  1.35422528e+00,\n",
              "        1.78284142e-02,  1.33103952e-01,  1.66050971e+00,  1.57702137e-02,\n",
              "        3.21873426e-01,  4.63300735e-01,  3.26396734e-01,  3.15281861e-02,\n",
              "       -1.61199406e-01, -1.14344731e-01, -6.75620437e-02, -2.31791779e-01,\n",
              "       -1.53642118e-01,  7.79484138e-02, -3.81796658e-01,  5.85016787e-01,\n",
              "       -4.30789858e-01,  3.22551340e-01, -3.04138362e-01, -2.68377662e-01,\n",
              "        1.58456564e-01,  7.13656485e-01,  8.41745317e-01,  2.18377686e+00,\n",
              "        2.37608701e-01, -4.70126778e-01,  5.71706831e-01, -4.73473221e-01,\n",
              "       -4.56687272e-01,  2.21446946e-01, -2.02116966e-01, -2.46334240e-01,\n",
              "        1.67345375e-01, -1.52684197e-01,  5.91231585e-01, -2.87528820e-02,\n",
              "        3.33747059e-01,  3.00488845e-02,  9.55830395e-01,  2.42905140e-01,\n",
              "       -2.69569129e-01, -1.55866668e-01, -7.96278119e-01, -6.72266066e-01,\n",
              "       -3.83727193e-01,  8.14343616e-02, -4.32987541e-01,  1.52661249e-01,\n",
              "       -1.52289703e-01, -3.12377155e-01,  1.87897533e-01,  4.99051780e-01,\n",
              "        3.42861503e-01, -5.84703326e-01, -4.97989744e-01,  2.00210586e-02,\n",
              "       -7.59919286e-01,  1.25483260e-01,  9.01096165e-02,  4.58251178e-01,\n",
              "       -7.75049776e-02,  5.74793577e-01,  1.00186625e+01, -4.93572146e-01,\n",
              "        2.30472907e-01,  4.21686292e-01,  1.12130672e-01, -6.84214234e-02,\n",
              "       -8.61112893e-01, -1.12759709e-01,  6.28283978e-01,  4.45548058e-01,\n",
              "        7.06873417e-01, -5.65486737e-02,  1.13887653e-01,  7.86944926e-02,\n",
              "        3.41526419e-01,  5.25358856e-01,  6.79574981e-02,  4.18787539e-01,\n",
              "       -2.92311430e-01, -4.78918731e-01,  3.09328705e-01,  8.39264542e-02,\n",
              "        2.14947946e-03,  5.41656673e-01, -3.95460546e-01,  6.08906388e-01,\n",
              "        6.10191047e-01,  6.83645010e-01,  8.45836997e-01,  1.88881427e-01,\n",
              "        2.65295953e-01, -4.53549325e-01, -8.51382613e-02, -2.47428998e-01,\n",
              "        1.49646297e-01,  2.91844979e-02, -1.11366594e+00, -5.87419093e-01,\n",
              "        4.85228896e-01,  3.20517659e-01, -2.79370874e-01,  6.95671141e-02,\n",
              "       -9.99519676e-02,  3.38206813e-03,  2.43597124e-02, -3.10288183e-02,\n",
              "        5.23885861e-02,  8.08966756e-02,  1.44212544e-02, -2.86055356e-01,\n",
              "        9.68987465e-01, -5.00752866e-01,  6.00470126e-01, -3.25111657e-01,\n",
              "       -2.49003783e-01, -2.37718187e-02,  2.45122239e-01, -1.03614092e+00,\n",
              "        6.34731054e-01,  3.37325037e-01,  7.27202520e-02, -3.40244502e-01,\n",
              "        7.79003054e-02,  2.49549761e-01, -3.41246217e-01,  1.05690524e-01,\n",
              "       -1.79002434e-01,  4.63378876e-01,  4.76625040e-02, -3.02994430e-01,\n",
              "       -4.20540683e-02, -5.57629824e-01,  2.24683419e-01,  1.81765601e-01,\n",
              "        2.95911908e-01,  5.87417424e-01,  1.13590822e-01,  4.16124195e-01,\n",
              "       -9.71723348e-02,  5.11043906e-01,  7.64968753e-01, -2.29149556e+00,\n",
              "        4.99652892e-01,  6.52206913e-02,  1.17364597e+00, -2.58594543e-01,\n",
              "       -2.53180116e-01, -4.62216824e-01,  3.08082104e-01,  1.13386858e+00,\n",
              "        2.20538557e-01, -1.98599637e-01,  3.00214812e-03,  3.30215633e-01,\n",
              "       -1.12700030e-01, -5.50802238e-02, -1.97798051e-02,  3.16859931e-01,\n",
              "       -9.59388018e-02, -4.23526391e-03, -2.16274425e-01,  1.72547787e-01,\n",
              "        6.79264307e-01, -6.54794097e-01,  1.54258266e-01,  3.98665309e-01,\n",
              "        3.54329869e-03,  1.89493030e-01,  1.42148960e+00,  2.09453121e-01,\n",
              "        3.40419292e-01, -2.27073222e-01,  4.15538698e-01, -4.31608967e-03,\n",
              "       -4.07298237e-01, -3.13705206e-01, -1.00758255e-01, -6.62749112e-02,\n",
              "       -1.55738667e-01,  4.39867675e-01,  5.21672964e-01,  3.02432477e-01,\n",
              "       -6.71020895e-02, -1.16395071e-01, -6.77040517e-01,  7.07582235e-02,\n",
              "        2.22270459e-01, -8.54663104e-02,  1.97898880e-01,  5.13989866e-01,\n",
              "        2.09580854e-01, -5.97740173e-01,  3.14059913e-01,  7.74609685e-01,\n",
              "        6.74813688e-02,  2.15477914e-01, -1.68598056e-01,  1.84185535e-01,\n",
              "        1.70019403e-01,  2.06499308e-01,  5.33374846e-01,  9.23137218e-02,\n",
              "        2.14581951e-01,  4.45591271e-01, -1.47649080e-01, -1.60886914e-01,\n",
              "        2.39950627e-01, -8.87089431e-01, -2.36011848e-01,  8.82673681e-01,\n",
              "       -2.91013084e-02,  1.84684113e-01,  2.98466444e-01,  2.90094763e-01,\n",
              "       -6.34012163e-01,  2.38439754e-01, -2.70166129e-01,  3.52023125e-01,\n",
              "       -2.17365876e-01, -9.11417305e-02, -1.81024313e-01,  2.41471335e-01,\n",
              "        1.98251292e-01, -3.17642123e-01, -3.90955240e-01,  6.84480786e-01,\n",
              "       -2.25172326e-01, -5.21517098e-01, -2.03056201e-01,  3.15863520e-01,\n",
              "        4.24262643e-01,  3.93417515e-02, -1.30070299e-01,  4.88969237e-01,\n",
              "        3.21083754e-01, -1.80227965e-01, -1.68195292e-02,  2.07334802e-01,\n",
              "        4.22863901e-01,  1.95627008e-02,  3.86577994e-01,  1.06240118e+00,\n",
              "        4.39715236e-01, -4.48956452e-02, -1.00683883e-01, -1.91932440e-01,\n",
              "       -7.00259268e-01,  3.46458107e-01,  2.28420179e-02,  1.09062806e-01,\n",
              "       -4.45466638e-01, -3.76118660e-01,  3.53996038e-01, -4.73826170e-01,\n",
              "       -9.37866509e-01, -6.59220576e-01,  3.16067755e-01, -6.04284443e-02,\n",
              "       -2.55212843e-01,  8.82619433e-03,  2.26646379e-01, -1.30760595e-01,\n",
              "        1.29654929e-01, -1.47769094e-01, -4.79986556e-02, -5.62740743e-01,\n",
              "        8.37352872e-02,  2.27032118e-02,  2.07274154e-01, -1.31790653e-01,\n",
              "        6.53962940e-02,  6.81876987e-02, -2.32955620e-01,  2.98960626e-01,\n",
              "        8.72949302e-01, -4.20079082e-01,  2.56567001e-01, -2.29502365e-01,\n",
              "        8.49812806e-01, -3.90081704e-02,  4.34257358e-01, -1.69458240e-01,\n",
              "        2.26959050e-01,  2.08064109e-01, -3.63507897e-01, -1.13984537e+00,\n",
              "        1.43773004e-01,  7.70619333e-01, -6.79970562e-01,  1.06044173e-01,\n",
              "        4.59713131e-01, -1.05163559e-01, -9.21583176e-01, -3.54598314e-01,\n",
              "        1.64043903e-03, -1.00499272e-01,  4.13200676e-01, -1.79704685e+01,\n",
              "        2.53248587e-03, -6.82939142e-02,  1.29363537e-01, -7.32978880e-02,\n",
              "        7.01859593e-02,  2.08596677e-01, -1.07055247e-01,  2.20108151e-01,\n",
              "        2.02318177e-01, -2.58208141e-02,  9.18564796e-02, -1.18074149e-01,\n",
              "        2.88657069e-01, -4.14641559e-01,  2.11812094e-01, -9.70493071e-03,\n",
              "       -2.22107857e-01,  3.00218344e-01, -1.95560798e-01,  6.41160429e-01,\n",
              "       -1.06017694e-01, -1.08999923e-01,  1.06987274e+00,  6.52856082e-02,\n",
              "       -1.51329190e-01, -3.09850983e-02, -3.11087854e-02,  1.92484111e-01,\n",
              "       -9.47403461e-02, -3.12300205e-01, -1.99616477e-01,  3.13314378e-01,\n",
              "        1.99592441e-01,  8.72659624e-01,  1.17062792e-01, -1.05719432e-01,\n",
              "       -5.71815252e-01, -6.33355230e-02, -3.03015381e-01, -1.14543632e-01,\n",
              "        1.26031637e-01,  2.44828105e-01, -2.96504438e-01,  7.65877843e-01,\n",
              "       -1.21495858e-01, -4.91048187e-01,  1.20375228e+00,  8.88310194e-01,\n",
              "       -3.13670933e-01,  2.70570576e-01,  4.28062767e-01,  1.00463164e+00,\n",
              "       -1.69045460e+00,  2.65700836e-02,  7.04964846e-02, -2.81322598e-01,\n",
              "       -4.04573858e-01,  1.97395086e-01, -2.36586884e-01,  9.66551304e-02,\n",
              "       -9.38454390e-01,  9.21804309e-02,  3.41904819e-01,  7.20314026e-01,\n",
              "        1.42857686e-01, -3.90611216e-02, -5.29022455e-01, -4.98610407e-01,\n",
              "        8.00201073e-02, -3.40289354e-01,  1.62562221e-01,  1.16451395e+00,\n",
              "       -5.28435469e-01, -4.88543242e-01,  3.28129619e-01,  7.11046636e-01,\n",
              "        4.87035185e-01, -1.03942141e-01, -4.94656004e-02,  6.41647935e-01,\n",
              "        3.42625111e-01, -4.57720608e-01, -6.86199486e-01,  6.13034785e-01,\n",
              "       -4.19796295e-02,  4.15835857e-01,  1.39661774e-01, -3.33337128e-01,\n",
              "        7.05830932e-01,  6.04284585e-01, -1.62801027e-01, -1.64750725e-01,\n",
              "       -2.97831118e-01, -4.19875123e-02,  3.59326303e-01,  1.98815882e-01,\n",
              "       -1.50686368e-01,  2.37034774e+00, -1.26046136e-01,  3.43926221e-01,\n",
              "        1.29390016e-01, -2.82073826e-01,  4.39424455e-01, -4.45166349e-01,\n",
              "        3.80923420e-01,  2.38238513e-01, -1.00698233e-01, -1.23659647e+00,\n",
              "       -2.79365815e-02, -1.92215629e-02,  1.62497461e-01, -5.22852480e-01,\n",
              "        1.18634984e-01, -8.96552861e-01, -3.83909531e-02, -2.73787469e-01,\n",
              "        5.39574683e-01, -6.78077638e-01,  1.92991257e+00,  1.63718283e+00,\n",
              "       -2.74616528e+00,  7.66888320e-01, -5.97468652e-02, -2.74763316e-01,\n",
              "        5.65404594e-01, -1.33058101e-01, -7.55891055e-02, -4.52417254e-01,\n",
              "        1.59410000e-01, -2.36383244e-01,  2.37882227e-01, -6.37527525e-01],\n",
              "      dtype=float32)"
            ]
          },
          "execution_count": 25,
          "metadata": {},
          "output_type": "execute_result"
        }
      ],
      "source": [
        "dataset.has_brain_runs\n",
        "dataset.list_brain_runs()\n",
        "dataset.load_brain_results(\"emb_viz_1\")\n",
        "dataset.first()['emb_test_1']"
      ]
    },
    {
      "cell_type": "markdown",
      "metadata": {},
      "source": [
        "## Compute Second Set of Video Embeddings\n",
        "\n",
        "The goal of this cell is to illustrate you can run different video embeddings in the same project, in this case we will use a different model in the same plugin.\n",
        "\n",
        "This step computes a second set of embeddings using a slightly different model (```hiera_base_plus_16x224```). The embeddings are saved to the ```emb_test_2``` field with normalization. This demonstrates how different model architectures can generate distinct embeddings for the same dataset."
      ]
    },
    {
      "cell_type": "code",
      "execution_count": 28,
      "metadata": {},
      "outputs": [
        {
          "data": {
            "text/plain": [
              "<fiftyone.operators.executor.ExecutionResult at 0x347e2a0d0>"
            ]
          },
          "execution_count": 28,
          "metadata": {},
          "output_type": "execute_result"
        }
      ],
      "source": [
        "await embedding_operator(\n",
        "    dataset,\n",
        "    model_name=\"hiera_base_plus_16x224\",\n",
        "    checkpoint=\"mae_k400_ft_k400\",\n",
        "    embedding_types=\"terminal\",\n",
        "    emb_field=\"emb_test_2\",\n",
        "    normalize=True,\n",
        "    delegate=True\n",
        "    )"
      ]
    },
    {
      "cell_type": "markdown",
      "metadata": {
        "id": "-w9X6wiaCXmP"
      },
      "source": [
        "Check if ```emb_test_2``` was created."
      ]
    },
    {
      "cell_type": "code",
      "execution_count": 30,
      "metadata": {
        "id": "yjbeRfmXB9yp"
      },
      "outputs": [
        {
          "name": "stdout",
          "output_type": "stream",
          "text": [
            "Name:        Voxel51/GMNCSA24-FO\n",
            "Media type:  video\n",
            "Num samples: 335\n",
            "Persistent:  False\n",
            "Tags:        []\n",
            "Sample fields:\n",
            "    id:               fiftyone.core.fields.ObjectIdField\n",
            "    filepath:         fiftyone.core.fields.StringField\n",
            "    tags:             fiftyone.core.fields.ListField(fiftyone.core.fields.StringField)\n",
            "    metadata:         fiftyone.core.fields.EmbeddedDocumentField(fiftyone.core.metadata.VideoMetadata)\n",
            "    created_at:       fiftyone.core.fields.DateTimeField\n",
            "    last_modified_at: fiftyone.core.fields.DateTimeField\n",
            "    sample_id:        fiftyone.core.fields.ObjectIdField\n",
            "    support:          fiftyone.core.fields.FrameSupportField\n",
            "    events:           fiftyone.core.fields.EmbeddedDocumentField(fiftyone.core.labels.Classification)\n",
            "    emb_test_1:       fiftyone.core.fields.VectorField\n",
            "    emb_test_2:       fiftyone.core.fields.VectorField\n",
            "Frame fields:\n",
            "    id:               fiftyone.core.fields.ObjectIdField\n",
            "    frame_number:     fiftyone.core.fields.FrameNumberField\n",
            "    created_at:       fiftyone.core.fields.DateTimeField\n",
            "    last_modified_at: fiftyone.core.fields.DateTimeField\n"
          ]
        }
      ],
      "source": [
        "print(dataset)\n",
        "dataset.reload()"
      ]
    },
    {
      "cell_type": "markdown",
      "metadata": {
        "id": "OJ_IbyNXCanI"
      },
      "source": [
        "Repeat the compute_visualization section."
      ]
    },
    {
      "cell_type": "code",
      "execution_count": 31,
      "metadata": {},
      "outputs": [
        {
          "name": "stdout",
          "output_type": "stream",
          "text": [
            "Generating visualization...\n"
          ]
        },
        {
          "name": "stderr",
          "output_type": "stream",
          "text": [
            "/Users/paularamos/Documents/GitHub/awesome-fiftyone/video_embeddings/test_env/lib/python3.13/site-packages/sklearn/utils/deprecation.py:151: FutureWarning: 'force_all_finite' was renamed to 'ensure_all_finite' in 1.6 and will be removed in 1.8.\n",
            "  warnings.warn(\n"
          ]
        },
        {
          "name": "stdout",
          "output_type": "stream",
          "text": [
            "UMAP( verbose=True)\n",
            "Sat Feb  1 09:07:38 2025 Construct fuzzy simplicial set\n",
            "Sat Feb  1 09:07:38 2025 Finding Nearest Neighbors\n",
            "Sat Feb  1 09:07:38 2025 Finished Nearest Neighbor Search\n",
            "Sat Feb  1 09:07:38 2025 Construct embedding\n"
          ]
        },
        {
          "name": "stderr",
          "output_type": "stream",
          "text": [
            "Epochs completed: 100%| ██████████ 500/500 [00:00]"
          ]
        },
        {
          "name": "stdout",
          "output_type": "stream",
          "text": [
            "\tcompleted  0  /  500 epochs\n",
            "\tcompleted  50  /  500 epochs\n",
            "\tcompleted  100  /  500 epochs\n",
            "\tcompleted  150  /  500 epochs\n",
            "\tcompleted  200  /  500 epochs\n",
            "\tcompleted  250  /  500 epochs\n",
            "\tcompleted  300  /  500 epochs\n",
            "\tcompleted  350  /  500 epochs\n",
            "\tcompleted  400  /  500 epochs\n",
            "\tcompleted  450  /  500 epochs\n",
            "Sat Feb  1 09:07:38 2025 Finished embedding\n"
          ]
        },
        {
          "name": "stderr",
          "output_type": "stream",
          "text": [
            "\n"
          ]
        }
      ],
      "source": [
        "results = fob.compute_visualization(\n",
        "    dataset,\n",
        "    embeddings=\"emb_test_2\", # or whichever embedding field\n",
        "    method=\"umap\",\n",
        "    brain_key=\"emb_viz_2\",\n",
        "    num_dims=2,\n",
        "    verbose=True,\n",
        ")"
      ]
    },
    {
      "cell_type": "markdown",
      "metadata": {},
      "source": [
        "Let's take a look of the results in the APP:\n",
        "\n",
        "Check the ```brain_key``` are in the list of Embeddings Panel:\n",
        "\n",
        "![Image](https://github.com/user-attachments/assets/d74d68f8-1e14-462b-956c-db60c278d004)\n",
        "\n",
        "Exploring Embeddings emb_test_1:\n",
        "\n",
        "![Image](https://github.com/user-attachments/assets/37de8ac9-2db4-4eb1-b46a-081eaa8c64b4)\n",
        "\n",
        "Exploring Embeddings emb_test_2:\n",
        "\n",
        "![Image](https://github.com/user-attachments/assets/b2e6a849-25fa-4264-875d-dc15185c9c06)\n"
      ]
    }
  ],
  "metadata": {
    "accelerator": "GPU",
    "colab": {
      "gpuType": "A100",
      "machine_shape": "hm",
      "provenance": []
    },
    "kernelspec": {
      "display_name": "test_env",
      "language": "python",
      "name": "python3"
    },
    "language_info": {
      "codemirror_mode": {
        "name": "ipython",
        "version": 3
      },
      "file_extension": ".py",
      "mimetype": "text/x-python",
      "name": "python",
      "nbconvert_exporter": "python",
      "pygments_lexer": "ipython3",
      "version": "3.13.1"
    },
    "widgets": {
      "application/vnd.jupyter.widget-state+json": {
        "3ec693d99de44896b7f1b12773f87e11": {
          "model_module": "@jupyter-widgets/base",
          "model_module_version": "1.2.0",
          "model_name": "LayoutModel",
          "state": {
            "_model_module": "@jupyter-widgets/base",
            "_model_module_version": "1.2.0",
            "_model_name": "LayoutModel",
            "_view_count": null,
            "_view_module": "@jupyter-widgets/base",
            "_view_module_version": "1.2.0",
            "_view_name": "LayoutView",
            "align_content": null,
            "align_items": null,
            "align_self": null,
            "border": null,
            "bottom": null,
            "display": null,
            "flex": null,
            "flex_flow": null,
            "grid_area": null,
            "grid_auto_columns": null,
            "grid_auto_flow": null,
            "grid_auto_rows": null,
            "grid_column": null,
            "grid_gap": null,
            "grid_row": null,
            "grid_template_areas": null,
            "grid_template_columns": null,
            "grid_template_rows": null,
            "height": null,
            "justify_content": null,
            "justify_items": null,
            "left": null,
            "margin": null,
            "max_height": null,
            "max_width": null,
            "min_height": null,
            "min_width": null,
            "object_fit": null,
            "object_position": null,
            "order": null,
            "overflow": null,
            "overflow_x": null,
            "overflow_y": null,
            "padding": null,
            "right": null,
            "top": null,
            "visibility": null,
            "width": null
          }
        },
        "43255f69752d43c9b53e37aab34b31b5": {
          "model_module": "@jupyter-widgets/base",
          "model_module_version": "1.2.0",
          "model_name": "LayoutModel",
          "state": {
            "_model_module": "@jupyter-widgets/base",
            "_model_module_version": "1.2.0",
            "_model_name": "LayoutModel",
            "_view_count": null,
            "_view_module": "@jupyter-widgets/base",
            "_view_module_version": "1.2.0",
            "_view_name": "LayoutView",
            "align_content": null,
            "align_items": null,
            "align_self": null,
            "border": null,
            "bottom": null,
            "display": null,
            "flex": null,
            "flex_flow": null,
            "grid_area": null,
            "grid_auto_columns": null,
            "grid_auto_flow": null,
            "grid_auto_rows": null,
            "grid_column": null,
            "grid_gap": null,
            "grid_row": null,
            "grid_template_areas": null,
            "grid_template_columns": null,
            "grid_template_rows": null,
            "height": null,
            "justify_content": null,
            "justify_items": null,
            "left": null,
            "margin": null,
            "max_height": null,
            "max_width": null,
            "min_height": null,
            "min_width": null,
            "object_fit": null,
            "object_position": null,
            "order": null,
            "overflow": null,
            "overflow_x": null,
            "overflow_y": null,
            "padding": null,
            "right": null,
            "top": null,
            "visibility": null,
            "width": null
          }
        },
        "5f57fa0c2e094e7dab1f584e2cc96c5e": {
          "model_module": "@jupyter-widgets/controls",
          "model_module_version": "1.5.0",
          "model_name": "HTMLModel",
          "state": {
            "_dom_classes": [],
            "_model_module": "@jupyter-widgets/controls",
            "_model_module_version": "1.5.0",
            "_model_name": "HTMLModel",
            "_view_count": null,
            "_view_module": "@jupyter-widgets/controls",
            "_view_module_version": "1.5.0",
            "_view_name": "HTMLView",
            "description": "",
            "description_tooltip": null,
            "layout": "IPY_MODEL_3ec693d99de44896b7f1b12773f87e11",
            "placeholder": "​",
            "style": "IPY_MODEL_a57ecdc981a34d488b73cd4a9d5f0fca",
            "value": " 500/500 [00:02]"
          }
        },
        "618fe64127f14fd58ef25676fec568b9": {
          "model_module": "@jupyter-widgets/controls",
          "model_module_version": "1.5.0",
          "model_name": "DescriptionStyleModel",
          "state": {
            "_model_module": "@jupyter-widgets/controls",
            "_model_module_version": "1.5.0",
            "_model_name": "DescriptionStyleModel",
            "_view_count": null,
            "_view_module": "@jupyter-widgets/base",
            "_view_module_version": "1.2.0",
            "_view_name": "StyleView",
            "description_width": ""
          }
        },
        "6ed08fc9d999407fa1c8f469c651091b": {
          "model_module": "@jupyter-widgets/base",
          "model_module_version": "1.2.0",
          "model_name": "LayoutModel",
          "state": {
            "_model_module": "@jupyter-widgets/base",
            "_model_module_version": "1.2.0",
            "_model_name": "LayoutModel",
            "_view_count": null,
            "_view_module": "@jupyter-widgets/base",
            "_view_module_version": "1.2.0",
            "_view_name": "LayoutView",
            "align_content": null,
            "align_items": null,
            "align_self": null,
            "border": null,
            "bottom": null,
            "display": null,
            "flex": null,
            "flex_flow": null,
            "grid_area": null,
            "grid_auto_columns": null,
            "grid_auto_flow": null,
            "grid_auto_rows": null,
            "grid_column": null,
            "grid_gap": null,
            "grid_row": null,
            "grid_template_areas": null,
            "grid_template_columns": null,
            "grid_template_rows": null,
            "height": null,
            "justify_content": null,
            "justify_items": null,
            "left": null,
            "margin": null,
            "max_height": null,
            "max_width": null,
            "min_height": null,
            "min_width": null,
            "object_fit": null,
            "object_position": null,
            "order": null,
            "overflow": null,
            "overflow_x": null,
            "overflow_y": null,
            "padding": null,
            "right": null,
            "top": null,
            "visibility": null,
            "width": null
          }
        },
        "72c6e2503c2445119f52fbe0da19371a": {
          "model_module": "@jupyter-widgets/controls",
          "model_module_version": "1.5.0",
          "model_name": "HBoxModel",
          "state": {
            "_dom_classes": [],
            "_model_module": "@jupyter-widgets/controls",
            "_model_module_version": "1.5.0",
            "_model_name": "HBoxModel",
            "_view_count": null,
            "_view_module": "@jupyter-widgets/controls",
            "_view_module_version": "1.5.0",
            "_view_name": "HBoxView",
            "box_style": "",
            "children": [
              "IPY_MODEL_a326741796974b4ea9bf94a761a64aea",
              "IPY_MODEL_7ec3a60671eb4beb92e238be8947eab5",
              "IPY_MODEL_5f57fa0c2e094e7dab1f584e2cc96c5e"
            ],
            "layout": "IPY_MODEL_43255f69752d43c9b53e37aab34b31b5"
          }
        },
        "73d1329dfbf247a49519425b38468c8a": {
          "model_module": "@jupyter-widgets/controls",
          "model_module_version": "1.5.0",
          "model_name": "ProgressStyleModel",
          "state": {
            "_model_module": "@jupyter-widgets/controls",
            "_model_module_version": "1.5.0",
            "_model_name": "ProgressStyleModel",
            "_view_count": null,
            "_view_module": "@jupyter-widgets/base",
            "_view_module_version": "1.2.0",
            "_view_name": "StyleView",
            "bar_color": null,
            "description_width": ""
          }
        },
        "7ec3a60671eb4beb92e238be8947eab5": {
          "model_module": "@jupyter-widgets/controls",
          "model_module_version": "1.5.0",
          "model_name": "FloatProgressModel",
          "state": {
            "_dom_classes": [],
            "_model_module": "@jupyter-widgets/controls",
            "_model_module_version": "1.5.0",
            "_model_name": "FloatProgressModel",
            "_view_count": null,
            "_view_module": "@jupyter-widgets/controls",
            "_view_module_version": "1.5.0",
            "_view_name": "ProgressView",
            "bar_style": "success",
            "description": "",
            "description_tooltip": null,
            "layout": "IPY_MODEL_a8a9b794046047b9abcaa89a5bbe8a7a",
            "max": 500,
            "min": 0,
            "orientation": "horizontal",
            "style": "IPY_MODEL_73d1329dfbf247a49519425b38468c8a",
            "value": 500
          }
        },
        "a326741796974b4ea9bf94a761a64aea": {
          "model_module": "@jupyter-widgets/controls",
          "model_module_version": "1.5.0",
          "model_name": "HTMLModel",
          "state": {
            "_dom_classes": [],
            "_model_module": "@jupyter-widgets/controls",
            "_model_module_version": "1.5.0",
            "_model_name": "HTMLModel",
            "_view_count": null,
            "_view_module": "@jupyter-widgets/controls",
            "_view_module_version": "1.5.0",
            "_view_name": "HTMLView",
            "description": "",
            "description_tooltip": null,
            "layout": "IPY_MODEL_6ed08fc9d999407fa1c8f469c651091b",
            "placeholder": "​",
            "style": "IPY_MODEL_618fe64127f14fd58ef25676fec568b9",
            "value": "Epochs completed: 100%| "
          }
        },
        "a57ecdc981a34d488b73cd4a9d5f0fca": {
          "model_module": "@jupyter-widgets/controls",
          "model_module_version": "1.5.0",
          "model_name": "DescriptionStyleModel",
          "state": {
            "_model_module": "@jupyter-widgets/controls",
            "_model_module_version": "1.5.0",
            "_model_name": "DescriptionStyleModel",
            "_view_count": null,
            "_view_module": "@jupyter-widgets/base",
            "_view_module_version": "1.2.0",
            "_view_name": "StyleView",
            "description_width": ""
          }
        },
        "a8a9b794046047b9abcaa89a5bbe8a7a": {
          "model_module": "@jupyter-widgets/base",
          "model_module_version": "1.2.0",
          "model_name": "LayoutModel",
          "state": {
            "_model_module": "@jupyter-widgets/base",
            "_model_module_version": "1.2.0",
            "_model_name": "LayoutModel",
            "_view_count": null,
            "_view_module": "@jupyter-widgets/base",
            "_view_module_version": "1.2.0",
            "_view_name": "LayoutView",
            "align_content": null,
            "align_items": null,
            "align_self": null,
            "border": null,
            "bottom": null,
            "display": null,
            "flex": null,
            "flex_flow": null,
            "grid_area": null,
            "grid_auto_columns": null,
            "grid_auto_flow": null,
            "grid_auto_rows": null,
            "grid_column": null,
            "grid_gap": null,
            "grid_row": null,
            "grid_template_areas": null,
            "grid_template_columns": null,
            "grid_template_rows": null,
            "height": null,
            "justify_content": null,
            "justify_items": null,
            "left": null,
            "margin": null,
            "max_height": null,
            "max_width": null,
            "min_height": null,
            "min_width": null,
            "object_fit": null,
            "object_position": null,
            "order": null,
            "overflow": null,
            "overflow_x": null,
            "overflow_y": null,
            "padding": null,
            "right": null,
            "top": null,
            "visibility": null,
            "width": null
          }
        }
      }
    }
  },
  "nbformat": 4,
  "nbformat_minor": 0
}
