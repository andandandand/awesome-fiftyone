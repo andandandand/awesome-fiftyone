{
 "cells": [
  {
   "cell_type": "markdown",
   "id": "6888a2ad",
   "metadata": {},
   "source": [
    "\n",
    "# FiftyOne Workshop: Understanding and Using Embeddings (March 12th 2025)\n",
    "\n",
    "Welcome to this hands-on workshop where we will explore **embeddings** and their importance in Visual AI. \n",
    "Embeddings play a crucial role in **image search, clustering, anomaly detection, and representation learning**.\n",
    "In this notebook, we will learn how to generate, visualize, and explore embeddings using **FiftyOne**.\n",
    "\n",
    "![Image](https://github.com/user-attachments/assets/e933af62-6233-4781-afdd-b31be4265fc0)\n",
    "\n",
    "## 🏆 Learning Objectives:\n",
    "- Understand what embeddings are and why they matter in Visual AI.\n",
    "- Learn how to compute and store embeddings in FiftyOne.\n",
    "- Use embeddings for similarity search and visualization.\n",
    "- Leverage FiftyOne's interactive tools to explore embeddings.\n",
    "\n",
    "---\n"
   ]
  },
  {
   "cell_type": "markdown",
   "id": "cdd4c2d9",
   "metadata": {},
   "source": [
    "\n",
    "## 📌 What Are Embeddings?\n",
    "\n",
    "Embeddings are **vector representations** of data (images, videos, text, etc.) that capture meaningful characteristics. \n",
    "For images, embeddings store compressed feature representations learned by deep learning models. These features enable tasks such as:\n",
    "- **Similarity Search**: Find images that are visually similar.\n",
    "- **Clustering**: Group images with shared characteristics.\n",
    "- **Anomaly Detection**: Identify outliers in datasets.\n",
    "- **Transfer Learning**: Use learned embeddings to improve other AI tasks.\n",
    "\n",
    "### 🔗 Further Reading:\n",
    "- [Introduction to Embeddings](https://www.tensorflow.org/text/guide/word_embeddings)\n",
    "- [Feature Representations in Deep Learning](https://pytorch.org/tutorials/beginner/nlp/word_embeddings_tutorial.html)\n"
   ]
  },
  {
   "cell_type": "markdown",
   "id": "34dbec8d",
   "metadata": {},
   "source": [
    "\n",
    "## 📥 Generating Embeddings in FiftyOne\n",
    "\n",
    "FiftyOne provides seamless integration for embedding computation. \n",
    "You can extract embeddings using pre-trained deep learning models (such as CLIP, ResNet, or custom models) and store them in FiftyOne datasets.\n",
    "\n",
    "### How It Works:\n",
    "1. Load a dataset in FiftyOne.\n",
    "2. Extract embeddings from a model.\n",
    "3. Store and visualize embeddings.\n",
    "\n",
    "🔗 **Relevant Documentation:** [Computing and Storing Embeddings](https://voxel51.com/docs/fiftyone/user_guide/brain.html#computing-embeddings)\n",
    "\n",
    "<div style=\"border-left: 4px solid #3498db; padding: 6px;\">\n",
    "<strong>Note:</strong> You must install the `umap-learn>=0.5` package in order to use UMAP-based visualization. This is recommended, as UMAP is awesome! If you do not wish to install UMAP, try `method='tsne'` instead\n"
   ]
  },
  {
   "cell_type": "code",
   "execution_count": null,
   "metadata": {},
   "outputs": [],
   "source": [
    "#!pip install umap-learn"
   ]
  },
  {
   "cell_type": "code",
   "execution_count": null,
   "metadata": {},
   "outputs": [
    {
     "name": "stdout",
     "output_type": "stream",
     "text": [
      "Downloading config file fiftyone.yml from Voxel51/mvtec-ad\n",
      "Loading dataset\n",
      "Importing samples...\n",
      " 100% |███████████████| 5354/5354 [62.5ms elapsed, 0s remaining, 85.7K samples/s]   \n",
      "Migrating dataset 'Voxel51/mvtec-ad' to v1.3.0\n",
      "Dataset 'mvtec-ad_2' does not exist. Creating a new one...\n",
      "Name:        mvtec-ad_2\n",
      "Media type:  image\n",
      "Num samples: 5354\n",
      "Persistent:  True\n",
      "Tags:        []\n",
      "Sample fields:\n",
      "    id:               fiftyone.core.fields.ObjectIdField\n",
      "    filepath:         fiftyone.core.fields.StringField\n",
      "    tags:             fiftyone.core.fields.ListField(fiftyone.core.fields.StringField)\n",
      "    metadata:         fiftyone.core.fields.EmbeddedDocumentField(fiftyone.core.metadata.ImageMetadata)\n",
      "    created_at:       fiftyone.core.fields.DateTimeField\n",
      "    last_modified_at: fiftyone.core.fields.DateTimeField\n",
      "    category:         fiftyone.core.fields.EmbeddedDocumentField(fiftyone.core.labels.Classification)\n",
      "    defect:           fiftyone.core.fields.EmbeddedDocumentField(fiftyone.core.labels.Classification)\n",
      "    split:            fiftyone.core.fields.StringField\n",
      "    defect_mask:      fiftyone.core.fields.EmbeddedDocumentField(fiftyone.core.labels.Segmentation)\n"
     ]
    }
   ],
   "source": [
    "# Compute embeddings for MVTec AD using CLIP\n",
    "import fiftyone as fo\n",
    "import fiftyone.brain as fob\n",
    "import fiftyone.zoo.models as fozm\n",
    "import fiftyone.utils.huggingface as fouh # Hugging Face integration\n",
    "\n",
    "# Load the dataset\n",
    "dataset_ = fouh.load_from_hub(\"Voxel51/mvtec-ad\", persistent=True, overwrite=True)\n",
    "#dataset = fo.load_dataset(\"Voxel51/mvtec-ad\") # Use this CLI if you already have the dataset \n",
    "                                               # in your disk or if this is not the first time you run this notebook \n",
    "\n",
    "# Define the new dataset name\n",
    "dataset_name = \"mvtec-ad_2\"\n",
    "\n",
    "# Check if the dataset exists\n",
    "if dataset_name in fo.list_datasets():\n",
    "    print(f\"Dataset '{dataset_name}' exists. Loading...\")\n",
    "    dataset = fo.load_dataset(dataset_name)\n",
    "else:\n",
    "    print(f\"Dataset '{dataset_name}' does not exist. Creating a new one...\")\n",
    "    # Clone the dataset with a new name and make it persistent\n",
    "    dataset = dataset_.clone(dataset_name, persistent=True)\n",
    "\n",
    "# Load a pre-trained model (e.g., CLIP)\n",
    "model = fozm.load_zoo_model(\"clip-vit-base32-torch\")\n",
    "\n",
    "print(dataset)\n"
   ]
  },
  {
   "cell_type": "markdown",
   "id": "5596cbed",
   "metadata": {},
   "source": [
    "\n",
    "## 🔍 Exploring and Visualizing Embeddings\n",
    "\n",
    "Once embeddings are generated, we can visualize them using **dimensionality reduction techniques** like:\n",
    "- **t-SNE (t-Distributed Stochastic Neighbor Embedding)**\n",
    "- **UMAP (Uniform Manifold Approximation and Projection)**\n",
    "\n",
    "These methods reduce the high-dimensional feature space into 2D/3D representations for interactive visualization.\n",
    "\n",
    "🔗 **Relevant Documentation:** [Visualizing Embeddings in FiftyOne](https://docs.voxel51.com/brain.html#visualizing-embeddings), [Dimensionality Reduction](https://docs.voxel51.com/brain.html#visualizing-embeddings)\n",
    "\n",
    "<div style=\"border-left: 4px solid #3498db; padding: 6px;\">\n",
    "<strong>Note:</strong> Be patience, it will take about 5-10 minutes to compute the embeddings.\n"
   ]
  },
  {
   "cell_type": "code",
   "execution_count": 2,
   "metadata": {},
   "outputs": [
    {
     "name": "stdout",
     "output_type": "stream",
     "text": [
      "Computing embeddings...\n",
      " 100% |███████████████| 5354/5354 [4.6m elapsed, 0s remaining, 22.1 samples/s]      \n",
      "Generating visualization...\n"
     ]
    },
    {
     "name": "stderr",
     "output_type": "stream",
     "text": [
      "/Users/paularamos/Documents/fiftyone_CVPR/py311_anomalib200b3/lib/python3.11/site-packages/sklearn/utils/deprecation.py:151: FutureWarning: 'force_all_finite' was renamed to 'ensure_all_finite' in 1.6 and will be removed in 1.8.\n",
      "  warnings.warn(\n",
      "OMP: Info #276: omp_set_nested routine deprecated, please use omp_set_max_active_levels instead.\n"
     ]
    },
    {
     "name": "stdout",
     "output_type": "stream",
     "text": [
      "UMAP( verbose=True)\n",
      "Wed Mar  5 17:45:46 2025 Construct fuzzy simplicial set\n",
      "Wed Mar  5 17:45:46 2025 Finding Nearest Neighbors\n",
      "Wed Mar  5 17:45:46 2025 Building RP forest with 9 trees\n",
      "Wed Mar  5 17:45:49 2025 NN descent for 12 iterations\n",
      "\t 1  /  12\n",
      "\t 2  /  12\n",
      "\t 3  /  12\n",
      "\tStopping threshold met -- exiting after 3 iterations\n",
      "Wed Mar  5 17:45:53 2025 Finished Nearest Neighbor Search\n",
      "Wed Mar  5 17:45:54 2025 Construct embedding\n"
     ]
    },
    {
     "data": {
      "application/vnd.jupyter.widget-view+json": {
       "model_id": "1d273a25a8cf472c90bc4281dd2cfad7",
       "version_major": 2,
       "version_minor": 0
      },
      "text/plain": [
       "Epochs completed:   0%|            0/500 [00:00]"
      ]
     },
     "metadata": {},
     "output_type": "display_data"
    },
    {
     "name": "stdout",
     "output_type": "stream",
     "text": [
      "\tcompleted  0  /  500 epochs\n",
      "\tcompleted  50  /  500 epochs\n",
      "\tcompleted  100  /  500 epochs\n",
      "\tcompleted  150  /  500 epochs\n",
      "\tcompleted  200  /  500 epochs\n",
      "\tcompleted  250  /  500 epochs\n",
      "\tcompleted  300  /  500 epochs\n",
      "\tcompleted  350  /  500 epochs\n",
      "\tcompleted  400  /  500 epochs\n",
      "\tcompleted  450  /  500 epochs\n",
      "Wed Mar  5 17:45:55 2025 Finished embedding\n"
     ]
    },
    {
     "data": {
      "text/plain": [
       "<fiftyone.brain.visualization.VisualizationResults at 0x33a76d650>"
      ]
     },
     "execution_count": 2,
     "metadata": {},
     "output_type": "execute_result"
    }
   ],
   "source": [
    "fob.compute_visualization(\n",
    "    dataset,\n",
    "    model=model,\n",
    "    embeddings=\"mvtec_emb\",\n",
    "    brain_key=\"mvtec_embeddings\",\n",
    "    method=\"umap\",  # Change to \"tsne\" for t-SNE\n",
    "    num_dims=2  # Reduce to 2D\n",
    ")"
   ]
  },
  {
   "cell_type": "code",
   "execution_count": 3,
   "metadata": {},
   "outputs": [
    {
     "name": "stdout",
     "output_type": "stream",
     "text": [
      "Name:        mvtec-ad_2\n",
      "Media type:  image\n",
      "Num samples: 5354\n",
      "Persistent:  True\n",
      "Tags:        []\n",
      "Sample fields:\n",
      "    id:               fiftyone.core.fields.ObjectIdField\n",
      "    filepath:         fiftyone.core.fields.StringField\n",
      "    tags:             fiftyone.core.fields.ListField(fiftyone.core.fields.StringField)\n",
      "    metadata:         fiftyone.core.fields.EmbeddedDocumentField(fiftyone.core.metadata.ImageMetadata)\n",
      "    created_at:       fiftyone.core.fields.DateTimeField\n",
      "    last_modified_at: fiftyone.core.fields.DateTimeField\n",
      "    category:         fiftyone.core.fields.EmbeddedDocumentField(fiftyone.core.labels.Classification)\n",
      "    defect:           fiftyone.core.fields.EmbeddedDocumentField(fiftyone.core.labels.Classification)\n",
      "    split:            fiftyone.core.fields.StringField\n",
      "    defect_mask:      fiftyone.core.fields.EmbeddedDocumentField(fiftyone.core.labels.Segmentation)\n",
      "    mvtec_emb:        fiftyone.core.fields.VectorField\n",
      "<Sample: {\n",
      "    'id': '6621d76a324f6e05d5838ef7',\n",
      "    'media_type': 'image',\n",
      "    'filepath': '/Users/paularamos/fiftyone/huggingface/hub/Voxel51/mvtec-ad/data/data_53/009-101.png',\n",
      "    'tags': [],\n",
      "    'metadata': None,\n",
      "    'created_at': datetime.datetime(2025, 3, 5, 22, 40, 50, 892000),\n",
      "    'last_modified_at': datetime.datetime(2025, 3, 5, 22, 45, 44, 830000),\n",
      "    'category': <Classification: {\n",
      "        'id': '6621d769324f6e05d5837a0b',\n",
      "        'tags': [],\n",
      "        'label': 'grid',\n",
      "        'confidence': None,\n",
      "        'logits': None,\n",
      "    }>,\n",
      "    'defect': <Classification: {\n",
      "        'id': '6621d769324f6e05d5837a0c',\n",
      "        'tags': [],\n",
      "        'label': 'thread',\n",
      "        'confidence': None,\n",
      "        'logits': None,\n",
      "    }>,\n",
      "    'split': 'test',\n",
      "    'defect_mask': <Segmentation: {\n",
      "        'id': '6621d769324f6e05d5837a0d',\n",
      "        'tags': [],\n",
      "        'mask': None,\n",
      "        'mask_path': '/Users/paularamos/fiftyone/huggingface/hub/Voxel51/mvtec-ad/fields/defect_mask/defect_mask_12/009_mask-71.png',\n",
      "    }>,\n",
      "    'mvtec_emb': array([-9.28766802e-02,  1.64180905e-01, -3.74797881e-01, -4.43001390e-01,\n",
      "            3.86028141e-01,  1.50726512e-01,  2.94204235e-01,  1.09781873e+00,\n",
      "            1.89438805e-01, -3.63733098e-02,  1.58634305e-01, -1.00730009e-01,\n",
      "           -1.53823063e-01, -3.26453388e-01, -2.21780419e-01,  5.86627498e-02,\n",
      "           -1.71470884e-02,  1.78265661e-01, -6.11011162e-02,  5.82027912e-01,\n",
      "            2.30288967e-01, -7.84283876e-02, -2.47792646e-01,  7.15824068e-02,\n",
      "            1.25575170e-01, -8.76066983e-02, -2.37844739e-04, -1.91079266e-03,\n",
      "           -8.96343663e-02,  1.02408126e-01,  5.74049167e-02, -2.74349302e-01,\n",
      "            2.35032197e-02,  3.39473873e-01, -4.86210763e-01, -1.94934592e-01,\n",
      "           -5.25923610e-01,  1.97867379e-01, -3.40173990e-01, -9.72789168e-01,\n",
      "           -2.88423523e-03, -1.59039572e-01, -1.52795479e-01, -3.52211177e-01,\n",
      "            1.81882337e-01, -5.88594377e-01,  1.60877436e-01, -2.84757912e-02,\n",
      "           -2.34829053e-01, -2.26416543e-01, -6.79775834e-01, -5.16024083e-02,\n",
      "            2.24484131e-01, -3.36759925e-01, -2.12654576e-01,  1.85865700e-01,\n",
      "           -1.46022871e-01, -2.86000609e-01,  1.25391558e-02, -9.73343924e-02,\n",
      "            2.12012082e-01, -8.97600576e-02, -2.67315447e-01, -8.64220709e-02,\n",
      "           -6.06636584e-01, -2.35379100e-01,  1.89495414e-01, -4.68960613e-01,\n",
      "            1.52852386e-01,  9.93812233e-02, -3.54326397e-01,  1.17821209e-02,\n",
      "           -7.31207728e-02, -1.99837700e-01, -2.43268371e-01, -2.71779329e-01,\n",
      "           -2.07025811e-01,  1.16785392e-01,  1.23414911e-01, -2.68769711e-01,\n",
      "            2.47506022e-01,  1.62200719e-01, -6.04837954e-01, -2.37912685e-01,\n",
      "            1.41951442e-01,  3.97790849e-01,  1.31690156e+00, -2.06256315e-01,\n",
      "            3.03132921e-01, -7.07770810e-02, -4.19081211e-01, -2.25270316e-01,\n",
      "           -9.54112053e+00,  7.87482977e-01,  7.19318613e-02,  1.77922353e-01,\n",
      "           -1.62829548e-01,  1.49855763e-01, -4.57981825e-01, -6.83433235e-01,\n",
      "            1.36732534e-01,  3.19284022e-01, -4.47304435e-02, -2.05477208e-01,\n",
      "            4.36930954e-01,  3.03070426e-01, -2.26641870e+00,  4.61190380e-02,\n",
      "           -1.24173090e-01, -8.14766362e-02, -3.15893143e-01, -5.78888774e-01,\n",
      "           -1.03504546e-01, -2.85093665e-01, -2.03636244e-01, -2.40191981e-01,\n",
      "           -4.65769678e-01, -4.34664100e-01,  1.49070174e-02,  4.46961552e-01,\n",
      "            3.16125661e-01, -1.06314979e-01, -1.62697602e-02,  3.59953761e-01,\n",
      "           -1.01280615e-01, -7.43034184e-02, -1.57348931e-01, -1.32474646e-01,\n",
      "            4.73559707e-01,  4.81499881e-01,  1.29258141e-01, -2.63818085e-01,\n",
      "            3.03674221e-01,  1.22197032e+00,  2.36693978e-01, -4.74158190e-02,\n",
      "            5.79685979e-02, -6.38022542e-01, -3.73307854e-01, -3.04637905e-02,\n",
      "           -1.54874280e-01,  1.55894250e-01, -6.78578138e-01, -3.32143456e-02,\n",
      "           -3.69997442e-01,  1.89562455e-01,  6.79676756e-02,  3.46777618e-01,\n",
      "           -2.49330863e-01,  1.22860692e-01, -5.24528861e-01, -9.35033262e-02,\n",
      "            7.45757163e-01, -6.00125231e-02, -5.19816391e-02, -4.89205599e-01,\n",
      "            3.66162300e-01,  4.11347419e-01,  4.67604548e-01,  4.87755954e-01,\n",
      "            2.86345124e-01, -1.62171528e-01,  2.54186332e-01,  1.93382740e-01,\n",
      "           -5.55020683e-02,  4.03951667e-02, -3.64034235e-01,  4.94150221e-01,\n",
      "           -4.74252641e-01,  8.13451260e-02, -5.82972094e-02, -3.09016649e-02,\n",
      "            1.70217097e-01, -3.19068998e-01,  1.28592744e-01,  1.61866590e-01,\n",
      "            2.49298021e-01,  3.35929424e-01, -1.18341036e-01,  3.81030403e-02,\n",
      "           -4.65810448e-01,  1.07836820e-01, -8.34637657e-02,  2.56399751e-01,\n",
      "           -1.92737505e-01, -2.06208140e-01, -1.62288293e-01, -1.52439633e-02,\n",
      "            5.93802035e-01,  1.78529993e-01,  4.02567953e-01,  9.04559996e-03,\n",
      "           -3.08324605e-01,  2.66700774e-01,  9.74941492e-01, -1.00289278e-01,\n",
      "            3.59173343e-02, -3.62948626e-02, -6.50496423e-01,  1.46724224e-01,\n",
      "           -4.54156101e-01, -2.01048944e-02,  4.03839052e-01,  3.46018076e-01,\n",
      "           -2.74034906e-02, -1.28256232e-01,  3.21142077e-02, -8.37061927e-02,\n",
      "           -1.95076913e-01, -2.06359699e-01, -2.48272747e-01,  6.23445094e-01,\n",
      "           -5.86553998e-02, -8.27609841e-03, -1.04091592e-01, -2.58462757e-01,\n",
      "            1.44329980e-01, -3.09590191e-01, -7.11040497e-01, -1.19827405e-01,\n",
      "            2.65798599e-01, -5.89541674e-01, -3.56365964e-02, -1.46010101e-01,\n",
      "           -2.59531736e-01,  1.31941721e-01,  6.45475164e-02, -2.33088598e-01,\n",
      "           -4.90319394e-02,  7.82707706e-02, -2.09790275e-01,  1.87441662e-01,\n",
      "            9.32438374e-02,  2.07990512e-01, -3.46564621e-01, -2.48407826e-01,\n",
      "            6.60615833e-03, -3.85621518e-01, -5.14409244e-01,  1.43059537e-01,\n",
      "           -4.46375877e-01,  2.32978359e-01,  6.55875430e-02,  3.24210942e-01,\n",
      "            2.84070754e-03, -5.21999478e-01, -1.42183214e-01,  3.50776911e-01,\n",
      "            3.48820686e-01,  9.29045230e-02, -1.92359939e-01, -2.98482239e-01,\n",
      "           -3.24267000e-02,  3.19599450e-01,  4.57447441e-03, -2.72921938e-02,\n",
      "            6.78680465e-02,  1.62231866e-02,  5.39199859e-02,  1.73169598e-01,\n",
      "            4.88236994e-02, -3.05723753e-02, -5.27594984e-01,  2.00078934e-01,\n",
      "            1.53760031e-01,  9.42169875e-02,  4.37044978e-01,  4.65519354e-02,\n",
      "           -1.33901119e-01, -1.43365666e-01, -2.03310866e-02,  4.18237984e-01,\n",
      "            7.64329955e-02, -1.02307193e-01, -3.19137365e-01, -1.36627689e-01,\n",
      "            3.53954762e-01,  3.52290988e-01, -1.27993405e-01, -3.11208874e-01,\n",
      "           -4.64880243e-02,  1.34328663e-01, -1.99495524e-01, -2.54794180e-01,\n",
      "            2.21303497e-02, -1.43369678e-02, -3.54111761e-01, -3.19455899e-02,\n",
      "           -9.68909934e-02,  1.00751355e-01,  1.91928521e-02,  4.39196080e-02,\n",
      "            2.05305383e-01, -4.46839593e-02,  1.93320557e-01,  1.03048235e-01,\n",
      "           -5.42742729e-01, -1.08577378e-01,  1.04436941e-01, -1.95328608e-01,\n",
      "            1.90059409e-01, -5.03371537e-01, -4.09393907e-01,  3.10945064e-01,\n",
      "           -1.33780509e-01, -5.74197888e-01, -1.63371444e-01, -5.76444194e-02,\n",
      "           -2.15171382e-01,  1.81317553e-01, -1.79780677e-01,  5.52511625e-02,\n",
      "            1.22159553e+00, -8.99994895e-02,  1.74319923e-01,  6.09743118e-01,\n",
      "            2.35826567e-01, -1.27423853e-01, -3.25949252e-01, -6.23191535e-01,\n",
      "            5.38385570e-01,  2.00943637e+00, -2.44192287e-01,  3.96355152e-01,\n",
      "            7.41221458e-02,  2.77325753e-02,  7.50898644e-02,  1.06218934e-01,\n",
      "           -1.21497564e-01,  1.16069198e+00, -5.13157248e-01,  2.18009830e-01,\n",
      "            9.27224234e-02, -3.63691300e-01, -2.73525268e-01, -9.28905234e-02,\n",
      "           -2.40782857e-01, -1.61701396e-01, -2.97520757e-02,  6.53458774e-01,\n",
      "            9.78001580e-02,  9.97765884e-02,  2.38632113e-01,  4.74784784e-02,\n",
      "            3.97971720e-02, -3.98670405e-01,  2.17228159e-01,  3.13846990e-02,\n",
      "            1.97575703e-01,  2.04220805e-02,  4.68666136e-01, -4.15443033e-01,\n",
      "            2.17537835e-01,  3.27207357e-01, -2.60815710e-01, -4.76693928e-01,\n",
      "           -2.71905631e-01,  3.69639605e-01,  1.22210979e-01, -5.63701838e-02,\n",
      "           -3.65218163e-01, -3.57114315e-01,  1.11177020e-01, -1.49986953e-01,\n",
      "            2.14634553e-01, -1.53439611e-01,  1.82644844e-01, -3.28441232e-01,\n",
      "           -7.92179108e-02,  1.31658807e-01, -2.39777923e-01, -3.00187886e-01,\n",
      "           -1.29534796e-01, -2.47402892e-01,  1.65281937e-01,  1.37063727e-01,\n",
      "            9.33906808e-02,  1.27360314e-01, -5.91867507e-01,  3.11182261e-01,\n",
      "           -2.93944895e-01,  1.01425096e-01,  2.11532861e-01,  1.12959132e-01,\n",
      "            1.42731279e-01, -4.49648276e-02,  8.88581276e-02,  2.26468906e-01,\n",
      "           -3.63131851e-01,  1.01290151e-01, -4.47707564e-01, -1.12274580e-01,\n",
      "            3.57671499e-01, -2.67214924e-01,  3.88399631e-01,  1.34131208e-01,\n",
      "            2.22336471e-01,  4.78039682e-01, -2.45051518e-01,  2.83811837e-02,\n",
      "            8.21318179e-02, -1.55028135e-01,  5.05861759e-01, -3.87811035e-01,\n",
      "           -3.58720958e-01, -4.84210998e-01, -1.06590472e-01,  3.81563067e-01,\n",
      "            5.66260926e-02, -1.28297463e-01,  2.19403133e-01, -2.40092412e-01,\n",
      "           -2.45538771e-01,  3.68228495e-01,  9.28516388e-02,  1.33829877e-01,\n",
      "           -9.86754969e-02,  7.09349439e-02,  1.01289406e-01, -7.18131661e-02,\n",
      "           -1.80362910e-01, -8.42968822e-02,  1.08583011e-01, -4.47695702e-01,\n",
      "            4.80400503e-01, -2.40185052e-01, -1.50511637e-01, -2.38271534e-01,\n",
      "           -4.76584941e-01,  2.21722610e-02,  1.34190947e-01, -1.36677325e-01,\n",
      "           -5.91632187e-01, -4.13019836e-01, -1.66127801e-01,  1.45437326e-02,\n",
      "            3.71482037e-02, -1.83290005e-01, -4.79003675e-02,  1.24684617e-01,\n",
      "           -7.93178529e-02, -3.34590912e-01,  1.76666871e-01, -2.09306493e-01,\n",
      "            1.91134661e-01,  1.36511117e-01, -1.45482421e-01,  3.21755171e-01,\n",
      "            3.05076838e-02, -1.59147128e-01, -5.06240666e-01, -5.58122694e-01,\n",
      "           -2.33544141e-01, -7.41236985e-01,  2.02199936e-01, -2.96339951e-02,\n",
      "           -4.12350535e-01,  9.96783283e-03, -1.08165890e-01,  9.62040648e-02,\n",
      "            3.54941636e-01,  6.36031106e-02, -1.62510887e-01, -3.54404896e-01,\n",
      "            1.79064244e-01, -2.34217077e-01,  3.90528589e-01, -4.67853621e-03,\n",
      "           -4.50861275e-01, -2.59654045e-01, -1.75751016e-01,  3.72327380e-02,\n",
      "            6.70331642e-02, -4.80379462e-01, -9.14281532e-02, -1.70855135e-01,\n",
      "           -1.84391722e-01, -4.42386687e-01,  9.50259641e-02, -1.92360312e-01,\n",
      "            2.73526967e-01,  2.42533430e-01, -1.37133911e-01,  5.26606619e-01,\n",
      "           -1.28159732e-01, -1.18218816e-03,  1.67779196e-02,  5.86786926e-01,\n",
      "           -5.11181056e-01, -6.43456653e-02,  1.21408112e-01, -4.36492503e-01,\n",
      "            1.66685313e-01, -1.08875595e-01,  6.23758994e-02,  1.73722833e-01,\n",
      "            9.92035568e-02, -1.06767423e-01, -9.00868773e-02, -4.47703183e-01,\n",
      "           -2.71161735e-01, -4.61369902e-02, -2.47507483e-01,  1.48781156e-02,\n",
      "            6.67391062e-01,  1.41393887e-02, -1.13436759e-01, -2.64978379e-01,\n",
      "           -5.77801108e-01,  5.57805061e-01,  5.43582141e-02,  1.27707168e-01]),\n",
      "}>\n"
     ]
    }
   ],
   "source": [
    "dataset.reload()\n",
    "print(dataset)\n",
    "print(dataset.last())"
   ]
  },
  {
   "cell_type": "markdown",
   "id": "d486ee56",
   "metadata": {},
   "source": [
    "\n",
    "## 🖥️ Performing Similarity Search with Embeddings\n",
    "\n",
    "With embeddings, we can search for visually similar images by computing the nearest neighbors in the embedding space.\n",
    "FiftyOne provides built-in tools to perform **similarity search** efficiently.\n",
    "\n",
    "🔗 **Relevant Documentation:** [Performing Similarity Search](https://voxel51.com/docs/fiftyone/user_guide/brain.html#similarity-search)\n"
   ]
  },
  {
   "cell_type": "code",
   "execution_count": 4,
   "metadata": {},
   "outputs": [
    {
     "name": "stdout",
     "output_type": "stream",
     "text": [
      "Connected to FiftyOne on port 5152 at localhost.\n",
      "If you are not connecting to a remote session, you may need to start a new session and specify a port\n",
      "Session launched. Run `session.show()` to open the App in a cell output.\n"
     ]
    }
   ],
   "source": [
    "session = fo.launch_app(dataset, port=5152, auto=False)"
   ]
  },
  {
   "cell_type": "markdown",
   "metadata": {},
   "source": [
    "![Image](https://github.com/user-attachments/assets/9706ca45-4e01-4758-992b-f973bb57e91b)"
   ]
  },
  {
   "cell_type": "markdown",
   "id": "186f702f",
   "metadata": {},
   "source": [
    "\n",
    "### Next Steps:\n",
    "Try using different models for embedding extraction, explore clustering techniques, and test similarity search with your own datasets! 🚀\n",
    "\n",
    "🔗 **More Resources:**  \n",
    "- [FiftyOne Docs](https://voxel51.com/docs/fiftyone/)  \n",
    "- [FiftyOne Tutorials](https://voxel51.com/docs/fiftyone/tutorials/index.html)\n"
   ]
  }
 ],
 "metadata": {
  "kernelspec": {
   "display_name": "py311_anomalib200b3",
   "language": "python",
   "name": "python3"
  },
  "language_info": {
   "codemirror_mode": {
    "name": "ipython",
    "version": 3
   },
   "file_extension": ".py",
   "mimetype": "text/x-python",
   "name": "python",
   "nbconvert_exporter": "python",
   "pygments_lexer": "ipython3",
   "version": "3.11.11"
  }
 },
 "nbformat": 4,
 "nbformat_minor": 2
}
