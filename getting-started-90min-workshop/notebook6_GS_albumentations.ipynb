{
 "cells": [
  {
   "cell_type": "markdown",
   "metadata": {},
   "source": [
    "# FiftyOne Workshop: Albumentations Integration for Anomaly Detection (March 12th 2025)\n",
    "\n",
    "In this notebook, we will explore **FiftyOne’s integration with Albumentations**, a powerful image augmentation library. \n",
    "Augmentations can significantly enhance **anomaly detection** models by improving robustness and generalization.\n",
    "\n",
    "![Image](https://github.com/user-attachments/assets/39a511dc-4d6f-485e-bc57-415c032efd0f)\n",
    "\n",
    "## 🏆 Learning Objectives:\n",
    "- Understand the importance of **data augmentation** for anomaly detection.\n",
    "- Use **Albumentations** to apply transformations to datasets in FiftyOne.\n",
    "- Explore different augmentation techniques for improving model performance."
   ]
  },
  {
   "cell_type": "markdown",
   "metadata": {},
   "source": [
    "## 📌 Why Use Augmentations for Anomaly Detection?\n",
    "\n",
    "Anomaly detection models often struggle due to **limited data availability** and **environmental variations**. \n",
    "Data augmentation helps by:\n",
    "- **Simulating real-world variations** (e.g., lighting changes, noise, blur).\n",
    "- **Increasing dataset diversity**, reducing overfitting.\n",
    "- **Improving model robustness** to unseen conditions.\n",
    "\n",
    "Albumentations allows us to apply **realistic transformations**, such as:\n",
    "- **Brightness and contrast adjustments** (simulate different lighting conditions).\n",
    "- **Color jittering** (alter hue, saturation, and intensity).\n",
    "- **Gaussian noise, blur, and distortions** (improve generalization).\n",
    "\n",
    "🔗 **Relevant Documentation:** \n",
    "- [Albumentations Documentation](https://albumentations.ai/docs/)\n",
    "- [Why Data Augmentation Matters](https://docs.voxel51.com/integrations/albumentations.html)"
   ]
  },
  {
   "cell_type": "code",
   "execution_count": null,
   "metadata": {},
   "outputs": [],
   "source": [
    "#!pip install -U albumentations==1.4.24"
   ]
  },
  {
   "cell_type": "code",
   "execution_count": null,
   "metadata": {},
   "outputs": [],
   "source": [
    "#!fiftyone plugins download https://github.com/jacobmarks/fiftyone-albumentations-plugin"
   ]
  },
  {
   "cell_type": "code",
   "execution_count": 1,
   "metadata": {},
   "outputs": [
    {
     "name": "stdout",
     "output_type": "stream",
     "text": [
      "Downloading config file fiftyone.yml from Voxel51/mvtec-ad\n",
      "Loading dataset\n",
      "Importing samples...\n",
      " 100% |███████████████| 5354/5354 [61.3ms elapsed, 0s remaining, 87.3K samples/s]   \n",
      "Migrating dataset 'Voxel51/mvtec-ad' to v1.3.0\n",
      "Dataset 'mvtec-ad_6' exists. Loading...\n"
     ]
    }
   ],
   "source": [
    "import fiftyone as fo # base library and app\n",
    "import fiftyone.utils.huggingface as fouh # Hugging Face integration\n",
    "dataset_ = fouh.load_from_hub(\"Voxel51/mvtec-ad\", persistent=True, overwrite=True)\n",
    "#dataset = fo.load_dataset(\"Voxel51/mvtec-ad\") # Use this CLI if you already have the dataset \n",
    "                                               # in your disk or if this is not the first time you run this notebook \n",
    "# Define the new dataset name\n",
    "dataset_name = \"mvtec-ad_6\"\n",
    "\n",
    "# Check if the dataset exists\n",
    "if dataset_name in fo.list_datasets():\n",
    "    print(f\"Dataset '{dataset_name}' exists. Loading...\")\n",
    "    dataset = fo.load_dataset(dataset_name)\n",
    "else:\n",
    "    print(f\"Dataset '{dataset_name}' does not exist. Creating a new one...\")\n",
    "    # Clone the dataset with a new name and make it persistent\n",
    "    dataset = dataset_.clone(dataset_name, persistent=True) "
   ]
  },
  {
   "cell_type": "code",
   "execution_count": 2,
   "metadata": {},
   "outputs": [],
   "source": [
    "# Try this for already loaded dataset\n",
    "# dataset = fo.load_dataset('mvtec-ad-staging')\n",
    "OBJECTS_LIST = [\n",
    "    'pill',\n",
    "    'zipper',\n",
    "    'tile',\n",
    "    'bottle',\n",
    "    'transistor',\n",
    "    'wood',\n",
    "    'cable',\n",
    "    'capsule',\n",
    "    'carpet',\n",
    "    'grid',\n",
    "    'hazelnut',\n",
    "    'leather',\n",
    "    'metal_nut',\n",
    "    'screw',\n",
    "    'toothbrush'\n",
    "]\n",
    "OBJECT = \"screw\" ## object to select"
   ]
  },
  {
   "cell_type": "code",
   "execution_count": 3,
   "metadata": {},
   "outputs": [
    {
     "name": "stdout",
     "output_type": "stream",
     "text": [
      "Dataset 'mvtec-screw' does not exist. Creating a new one...\n"
     ]
    }
   ],
   "source": [
    "from fiftyone import ViewField as F # helper for defining views\n",
    "\n",
    "# Define the new dataset name for split set\n",
    "dataset_name_split = \"mvtec-screw\"\n",
    "\n",
    "if dataset_name_split in fo.list_datasets():\n",
    "    print(f\"Dataset '{dataset_name_split}' exists. Loading...\")\n",
    "    mvtec_screw = fo.load_dataset(dataset_name_split)\n",
    "else:\n",
    "    print(f\"Dataset '{dataset_name_split}' does not exist. Creating a new one...\")\n",
    "    ## get the test split of the dataset\n",
    "    test_split = dataset.match(F(\"category.label\") == 'screw')\n",
    "\n",
    "    # Clone the dataset into a new one called \"mvtec_bottle\"\n",
    "    mvtec_screw = test_split.clone(\"mvtec-screw\", persistent=True)"
   ]
  },
  {
   "cell_type": "code",
   "execution_count": 4,
   "metadata": {},
   "outputs": [
    {
     "name": "stdout",
     "output_type": "stream",
     "text": [
      "Name:        mvtec-screw\n",
      "Media type:  image\n",
      "Num samples: 480\n",
      "Persistent:  True\n",
      "Tags:        []\n",
      "Sample fields:\n",
      "    id:               fiftyone.core.fields.ObjectIdField\n",
      "    filepath:         fiftyone.core.fields.StringField\n",
      "    tags:             fiftyone.core.fields.ListField(fiftyone.core.fields.StringField)\n",
      "    metadata:         fiftyone.core.fields.EmbeddedDocumentField(fiftyone.core.metadata.ImageMetadata)\n",
      "    created_at:       fiftyone.core.fields.DateTimeField\n",
      "    last_modified_at: fiftyone.core.fields.DateTimeField\n",
      "    category:         fiftyone.core.fields.EmbeddedDocumentField(fiftyone.core.labels.Classification)\n",
      "    defect:           fiftyone.core.fields.EmbeddedDocumentField(fiftyone.core.labels.Classification)\n",
      "    split:            fiftyone.core.fields.StringField\n",
      "    defect_mask:      fiftyone.core.fields.EmbeddedDocumentField(fiftyone.core.labels.Segmentation)\n"
     ]
    }
   ],
   "source": [
    "print(mvtec_screw)"
   ]
  },
  {
   "cell_type": "code",
   "execution_count": 5,
   "metadata": {},
   "outputs": [
    {
     "name": "stdout",
     "output_type": "stream",
     "text": [
      "Session launched. Run `session.show()` to open the App in a cell output.\n"
     ]
    }
   ],
   "source": [
    "session = fo.launch_app(mvtec_screw, port=5156, auto=False)"
   ]
  },
  {
   "cell_type": "markdown",
   "metadata": {},
   "source": [
    "### How to manipulate Plugins\n",
    "\n",
    "[Here](https://docs.voxel51.com/plugins/using_plugins.html#managing-plugins) is a guide you can follow to check your plugins, enable, disable or delete those. \n",
    "\n",
    "```\n",
    "python\n",
    "\n",
    "# List all locally available plugins\n",
    "fiftyone plugins list\n",
    "\n",
    "# List enabled plugins\n",
    "fiftyone plugins list --enabled\n",
    "\n",
    "# List disabled plugins\n",
    "fiftyone plugins list --disabled\n",
    "```\n",
    "\n",
    "You can use the fiftyone plugins info command to view the available metadata about a plugin:\n",
    "```\n",
    "python\n",
    "fiftyone plugins info @voxel51/annotation\n",
    "```\n",
    "\n",
    "You can use the fiftyone plugins enable and fiftyone plugins disable commands to enable and disable plugins that you’ve downloaded:\n",
    "```\n",
    "python\n",
    "# Enable a plugin\n",
    "fiftyone plugins enable <name>\n",
    "\n",
    "# Enable multiple plugins\n",
    "fiftyone plugins enable <name1> <name2> ...\n",
    "\n",
    "# Enable all plugins\n",
    "fiftyone plugins enable --all\n",
    "# Disable a plugin\n",
    "fiftyone plugins disable <name>\n",
    "\n",
    "# Disable multiple plugins\n",
    "fiftyone plugins disable <name1> <name2> ...\n",
    "\n",
    "# Disable all plugins\n",
    "fiftyone plugins disable --all\n",
    "```"
   ]
  }
 ],
 "metadata": {
  "kernelspec": {
   "display_name": "py311_anomalib200b3",
   "language": "python",
   "name": "python3"
  },
  "language_info": {
   "codemirror_mode": {
    "name": "ipython",
    "version": 3
   },
   "file_extension": ".py",
   "mimetype": "text/x-python",
   "name": "python",
   "nbconvert_exporter": "python",
   "pygments_lexer": "ipython3",
   "version": "3.11.11"
  }
 },
 "nbformat": 4,
 "nbformat_minor": 2
}
