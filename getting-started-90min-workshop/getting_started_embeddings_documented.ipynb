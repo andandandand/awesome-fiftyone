{
 "cells": [
  {
   "cell_type": "markdown",
   "id": "6888a2ad",
   "metadata": {},
   "source": [
    "\n",
    "# FiftyOne Workshop: Understanding and Using Embeddings (March 12th 2025)\n",
    "\n",
    "Welcome to this hands-on workshop where we will explore **embeddings** and their importance in Visual AI. \n",
    "Embeddings play a crucial role in **image search, clustering, anomaly detection, and representation learning**.\n",
    "In this notebook, we will learn how to generate, visualize, and explore embeddings using **FiftyOne**.\n",
    "\n",
    "![Image](https://github.com/user-attachments/assets/cba74088-d7d8-47ed-a3f7-d5f39228365e)\n",
    "\n",
    "## 🏆 Learning Objectives:\n",
    "- Understand what embeddings are and why they matter in Visual AI.\n",
    "- Learn how to compute and store embeddings in FiftyOne.\n",
    "- Use embeddings for similarity search and visualization.\n",
    "- Leverage FiftyOne's interactive tools to explore embeddings.\n",
    "\n",
    "---\n"
   ]
  },
  {
   "cell_type": "markdown",
   "id": "cdd4c2d9",
   "metadata": {},
   "source": [
    "\n",
    "## 📌 What Are Embeddings?\n",
    "\n",
    "Embeddings are **vector representations** of data (images, videos, text, etc.) that capture meaningful characteristics. \n",
    "For images, embeddings store compressed feature representations learned by deep learning models. These features enable tasks such as:\n",
    "- **Similarity Search**: Find images that are visually similar.\n",
    "- **Clustering**: Group images with shared characteristics.\n",
    "- **Anomaly Detection**: Identify outliers in datasets.\n",
    "- **Transfer Learning**: Use learned embeddings to improve other AI tasks.\n",
    "\n",
    "### 🔗 Further Reading:\n",
    "- [Introduction to Embeddings](https://www.tensorflow.org/text/guide/word_embeddings)\n",
    "- [Feature Representations in Deep Learning](https://pytorch.org/tutorials/beginner/nlp/word_embeddings_tutorial.html)\n"
   ]
  },
  {
   "cell_type": "markdown",
   "id": "34dbec8d",
   "metadata": {},
   "source": [
    "\n",
    "## 📥 Generating Embeddings in FiftyOne\n",
    "\n",
    "FiftyOne provides seamless integration for embedding computation. \n",
    "You can extract embeddings using pre-trained deep learning models (such as CLIP, ResNet, or custom models) and store them in FiftyOne datasets.\n",
    "\n",
    "### How It Works:\n",
    "1. Load a dataset in FiftyOne.\n",
    "2. Extract embeddings from a model.\n",
    "3. Store and visualize embeddings.\n",
    "\n",
    "🔗 **Relevant Documentation:** [Computing and Storing Embeddings](https://voxel51.com/docs/fiftyone/user_guide/brain.html#computing-embeddings)\n",
    "\n",
    "<div style=\"border-left: 4px solid #3498db; padding: 6px;\">\n",
    "<strong>Note:</strong> You must install the `umap-learn>=0.5` package in order to use UMAP-based visualization. This is recommended, as UMAP is awesome! If you do not wish to install UMAP, try `method='tsne'` instead\n"
   ]
  },
  {
   "cell_type": "code",
   "execution_count": null,
   "metadata": {},
   "outputs": [],
   "source": [
    "#!pip install umap-learn"
   ]
  },
  {
   "cell_type": "code",
   "execution_count": 1,
   "metadata": {},
   "outputs": [],
   "source": [
    "# Compute embeddings for MVTec AD using CLIP\n",
    "import fiftyone as fo\n",
    "import fiftyone.brain as fob\n",
    "import fiftyone.zoo.models as fozm\n",
    "import fiftyone.utils.huggingface as fouh # Hugging Face integration\n",
    "\n",
    "# Load the dataset\n",
    "# dataset = fouh.load_from_hub(\"Voxel51/mvtec-ad\", persistent=True, overwrite=True)\n",
    "dataset = fo.load_dataset(\"Voxel51/mvtec-ad\") # Use this CLI if you already have the dataset \n",
    "                                               # in your disk or if this is not the first time you run this notebook \n",
    "\n",
    "# Load a pre-trained model (e.g., CLIP)\n",
    "model = fozm.load_zoo_model(\"clip-vit-base32-torch\")\n"
   ]
  },
  {
   "cell_type": "markdown",
   "id": "5596cbed",
   "metadata": {},
   "source": [
    "\n",
    "## 🔍 Exploring and Visualizing Embeddings\n",
    "\n",
    "Once embeddings are generated, we can visualize them using **dimensionality reduction techniques** like:\n",
    "- **t-SNE (t-Distributed Stochastic Neighbor Embedding)**\n",
    "- **UMAP (Uniform Manifold Approximation and Projection)**\n",
    "\n",
    "These methods reduce the high-dimensional feature space into 2D/3D representations for interactive visualization.\n",
    "\n",
    "🔗 **Relevant Documentation:** [Visualizing Embeddings in FiftyOne](https://docs.voxel51.com/brain.html#visualizing-embeddings), [Dimensionality Reduction](https://docs.voxel51.com/brain.html#visualizing-embeddings)\n",
    "\n",
    "<div style=\"border-left: 4px solid #3498db; padding: 6px;\">\n",
    "<strong>Note:</strong> Be patience, it will take about 5-10 minutes to compute the embeddings.\n"
   ]
  },
  {
   "cell_type": "code",
   "execution_count": 2,
   "metadata": {},
   "outputs": [
    {
     "name": "stdout",
     "output_type": "stream",
     "text": [
      "Computing embeddings...\n",
      " 100% |███████████████| 5354/5354 [12.2m elapsed, 0s remaining, 7.3 samples/s]      \n",
      "Generating visualization...\n"
     ]
    },
    {
     "name": "stderr",
     "output_type": "stream",
     "text": [
      "/Users/paularamos/Documents/fiftyone_CVPR/py311_anomalib200b3/lib/python3.11/site-packages/sklearn/utils/deprecation.py:151: FutureWarning: 'force_all_finite' was renamed to 'ensure_all_finite' in 1.6 and will be removed in 1.8.\n",
      "  warnings.warn(\n",
      "OMP: Info #276: omp_set_nested routine deprecated, please use omp_set_max_active_levels instead.\n"
     ]
    },
    {
     "name": "stdout",
     "output_type": "stream",
     "text": [
      "UMAP( verbose=True)\n",
      "Mon Mar  3 17:01:53 2025 Construct fuzzy simplicial set\n",
      "Mon Mar  3 17:01:53 2025 Finding Nearest Neighbors\n",
      "Mon Mar  3 17:01:53 2025 Building RP forest with 9 trees\n",
      "Mon Mar  3 17:01:56 2025 NN descent for 12 iterations\n",
      "\t 1  /  12\n",
      "\t 2  /  12\n",
      "\t 3  /  12\n",
      "\tStopping threshold met -- exiting after 3 iterations\n",
      "Mon Mar  3 17:02:00 2025 Finished Nearest Neighbor Search\n",
      "Mon Mar  3 17:02:01 2025 Construct embedding\n"
     ]
    },
    {
     "data": {
      "application/vnd.jupyter.widget-view+json": {
       "model_id": "1bc87de427774f4ebdfea25a8bdfb979",
       "version_major": 2,
       "version_minor": 0
      },
      "text/plain": [
       "Epochs completed:   0%|            0/500 [00:00]"
      ]
     },
     "metadata": {},
     "output_type": "display_data"
    },
    {
     "name": "stdout",
     "output_type": "stream",
     "text": [
      "\tcompleted  0  /  500 epochs\n",
      "\tcompleted  50  /  500 epochs\n",
      "\tcompleted  100  /  500 epochs\n",
      "\tcompleted  150  /  500 epochs\n",
      "\tcompleted  200  /  500 epochs\n",
      "\tcompleted  250  /  500 epochs\n",
      "\tcompleted  300  /  500 epochs\n",
      "\tcompleted  350  /  500 epochs\n",
      "\tcompleted  400  /  500 epochs\n",
      "\tcompleted  450  /  500 epochs\n",
      "Mon Mar  3 17:02:02 2025 Finished embedding\n"
     ]
    },
    {
     "data": {
      "text/plain": [
       "<fiftyone.brain.visualization.VisualizationResults at 0x3409d7d10>"
      ]
     },
     "execution_count": 2,
     "metadata": {},
     "output_type": "execute_result"
    }
   ],
   "source": [
    "fob.compute_visualization(\n",
    "    dataset,\n",
    "    brain_key=\"mvtec_embeddings\",\n",
    "    method=\"umap\",  # Change to \"tsne\" for t-SNE\n",
    "    num_dims=2  # Reduce to 2D\n",
    ")\n"
   ]
  },
  {
   "cell_type": "markdown",
   "id": "d486ee56",
   "metadata": {},
   "source": [
    "\n",
    "## 🖥️ Performing Similarity Search with Embeddings\n",
    "\n",
    "With embeddings, we can search for visually similar images by computing the nearest neighbors in the embedding space.\n",
    "FiftyOne provides built-in tools to perform **similarity search** efficiently.\n",
    "\n",
    "🔗 **Relevant Documentation:** [Performing Similarity Search](https://voxel51.com/docs/fiftyone/user_guide/brain.html#similarity-search)\n"
   ]
  },
  {
   "cell_type": "code",
   "execution_count": 3,
   "metadata": {},
   "outputs": [
    {
     "name": "stdout",
     "output_type": "stream",
     "text": [
      "Connected to FiftyOne on port 5151 at localhost.\n",
      "If you are not connecting to a remote session, you may need to start a new session and specify a port\n"
     ]
    },
    {
     "data": {
      "text/html": [
       "\n",
       "        <iframe\n",
       "            width=\"100%\"\n",
       "            height=\"800\"\n",
       "            src=\"http://localhost:5151/?notebook=True&subscription=93938aec-6960-4ef0-9a3d-70a2ea032a0b\"\n",
       "            frameborder=\"0\"\n",
       "            allowfullscreen\n",
       "            \n",
       "        ></iframe>\n",
       "        "
      ],
      "text/plain": [
       "<IPython.lib.display.IFrame at 0x10a740990>"
      ]
     },
     "metadata": {},
     "output_type": "display_data"
    }
   ],
   "source": [
    "session = fo.launch_app(dataset)"
   ]
  },
  {
   "cell_type": "markdown",
   "id": "186f702f",
   "metadata": {},
   "source": [
    "\n",
    "### Next Steps:\n",
    "Try using different models for embedding extraction, explore clustering techniques, and test similarity search with your own datasets! 🚀\n",
    "\n",
    "🔗 **More Resources:**  \n",
    "- [FiftyOne Docs](https://voxel51.com/docs/fiftyone/)  \n",
    "- [FiftyOne Tutorials](https://voxel51.com/docs/fiftyone/tutorials/index.html)\n"
   ]
  }
 ],
 "metadata": {
  "kernelspec": {
   "display_name": "py311_anomalib200b3",
   "language": "python",
   "name": "python3"
  },
  "language_info": {
   "codemirror_mode": {
    "name": "ipython",
    "version": 3
   },
   "file_extension": ".py",
   "mimetype": "text/x-python",
   "name": "python",
   "nbconvert_exporter": "python",
   "pygments_lexer": "ipython3",
   "version": "3.11.11"
  }
 },
 "nbformat": 4,
 "nbformat_minor": 2
}
