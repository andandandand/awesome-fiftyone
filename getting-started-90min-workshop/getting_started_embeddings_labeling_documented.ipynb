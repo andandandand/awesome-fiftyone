{
 "cells": [
  {
   "cell_type": "markdown",
   "id": "674e0a70",
   "metadata": {},
   "source": [
    "\n",
    "# FiftyOne Workshop: Clustering and Labeling with Embeddings (March 12th 2025)\n",
    "\n",
    "In this notebook, we will explore how to use **embeddings** to cluster and assign labels to dataset samples.\n",
    "This technique is valuable when dealing with unlabeled datasets or when refining existing labels.\n",
    "\n",
    "![Image](https://github.com/user-attachments/assets/fc17ccb3-d936-4c9e-b344-ae1d3d0a8c84)\n",
    "\n",
    "## 🏆 Learning Objectives:\n",
    "- Understand clustering techniques and their role in dataset labeling.\n",
    "- Compute embeddings and cluster dataset samples.\n",
    "- Use FiftyOne Plugin for clustering MVTec dataset\n",
    "- Use FiftyOne for visualization and dataset management.\n",
    "\n",
    "---\n"
   ]
  },
  {
   "cell_type": "markdown",
   "id": "0b1b43a1",
   "metadata": {},
   "source": [
    "\n",
    "## 📌 Why Use Clustering for Labeling?\n",
    "\n",
    "Labeling datasets manually is expensive and time-consuming. **Clustering** helps by automatically grouping similar samples based on embeddings.\n",
    "This method is useful for:\n",
    "- **Unsupervised Learning**: Automatically discovering patterns in unlabeled data.\n",
    "- **Dataset Cleanup**: Detecting mislabeled samples.\n",
    "- **Efficient Annotation**: Pre-labeling groups for human annotators.\n",
    "\n",
    "Common clustering techniques include:\n",
    "- **K-Means** (partition-based clustering)\n",
    "- **DBSCAN** (density-based clustering)\n",
    "- **Hierarchical Clustering** (tree-based grouping)\n",
    "\n",
    "### 🔗 Further Reading:\n",
    "- [Clustering in Machine Learning](https://en.wikipedia.org/wiki/Cluster_analysis)\n",
    "- [Introduction to Unsupervised Learning](https://towardsdatascience.com/a-guide-to-clustering-algorithms-e28af85da0b7/#:~:text=Clustering%20is%20an%20unsupervised%20Machine,and%20even%20some%20use%20cases.)\n"
   ]
  },
  {
   "cell_type": "markdown",
   "metadata": {},
   "source": [
    "## Requirement step: Remove Category Labels (Keep Only Defects)\n",
    "\n",
    "Since category labels in your dataset are stored as `category.label`, you can remove them like is showing in the following cell. This removes all `category.label` fields from the dataset while keeping `defect.label`."
   ]
  },
  {
   "cell_type": "code",
   "execution_count": 1,
   "metadata": {},
   "outputs": [
    {
     "name": "stdout",
     "output_type": "stream",
     "text": [
      "Downloading config file fiftyone.yml from Voxel51/mvtec-ad\n",
      "Loading dataset\n",
      "Importing samples...\n",
      " 100% |███████████████| 5354/5354 [62.2ms elapsed, 0s remaining, 86.1K samples/s]   \n",
      "Migrating dataset 'Voxel51/mvtec-ad' to v1.3.0\n",
      "✅ All category labels removed. Only defect labels remain.\n"
     ]
    }
   ],
   "source": [
    "import fiftyone as fo\n",
    "import fiftyone.utils.huggingface as fouh # Hugging Face integration\n",
    "\n",
    "# Load dataset\n",
    "dataset = fouh.load_from_hub(\"Voxel51/mvtec-ad\", persistent=True, overwrite=True)\n",
    "#dataset = fo.load_dataset(\"Voxel51/mvtec-ad\") # Use this CLI if you already have the dataset \n",
    "                                               # in your disk or if this is not the first time you run this notebook \n",
    "\n",
    "# Iterate over samples and remove category labels\n",
    "for sample in dataset:\n",
    "    sample[\"category\"] = None  # Remove category classification\n",
    "    sample.save()\n",
    "\n",
    "print(\"✅ All category labels removed. Only defect labels remain.\")\n"
   ]
  },
  {
   "cell_type": "code",
   "execution_count": 2,
   "metadata": {},
   "outputs": [
    {
     "name": "stdout",
     "output_type": "stream",
     "text": [
      "<Sample: {\n",
      "    'id': '6621d76a324f6e05d5838ef7',\n",
      "    'media_type': 'image',\n",
      "    'filepath': '/Users/paularamos/fiftyone/huggingface/hub/Voxel51/mvtec-ad/data/data_53/009-101.png',\n",
      "    'tags': [],\n",
      "    'metadata': None,\n",
      "    'created_at': datetime.datetime(2024, 4, 19, 2, 31, 6),\n",
      "    'last_modified_at': datetime.datetime(2025, 3, 4, 13, 43, 31, 811881),\n",
      "    'category': None,\n",
      "    'defect': <Classification: {\n",
      "        'id': '6621d769324f6e05d5837a0c',\n",
      "        'tags': [],\n",
      "        'label': 'thread',\n",
      "        'confidence': None,\n",
      "        'logits': None,\n",
      "    }>,\n",
      "    'split': 'test',\n",
      "    'defect_mask': <Segmentation: {\n",
      "        'id': '6621d769324f6e05d5837a0d',\n",
      "        'tags': [],\n",
      "        'mask': None,\n",
      "        'mask_path': '/Users/paularamos/fiftyone/huggingface/hub/Voxel51/mvtec-ad/fields/defect_mask/defect_mask_12/009_mask-71.png',\n",
      "    }>,\n",
      "}>\n"
     ]
    }
   ],
   "source": [
    "print(dataset.last())"
   ]
  },
  {
   "cell_type": "markdown",
   "id": "7784cd5a",
   "metadata": {},
   "source": [
    "\n",
    "## 📥 Generating Embeddings\n",
    "\n",
    "Before clustering, we must **generate embeddings** that capture meaningful feature representations.\n",
    "FiftyOne provides multiple ways to obtain embeddings:\n",
    "- **Using pre-trained models** from FiftyOne's Model Zoo (e.g., CLIP, ResNet).\n",
    "- **Extracting embeddings from custom models** (e.g., OpenAI, Anomalib, or self-trained networks).\n",
    "\n",
    "```python\n",
    "import fiftyone.zoo as foz\n",
    "\n",
    "model = foz.load_zoo_model(\"open-clip-vit-base32-torch\")\n",
    "\n",
    "# Compute embeddings\n",
    "fob.compute_visualization(dataset, model=model, embeddings=...)\n",
    "```\n",
    "\n",
    "🔗 **Relevant Documentation:** [Computing Embeddings in FiftyOne](https://voxel51.com/docs/fiftyone/user_guide/brain.html#computing-embeddings)\n"
   ]
  },
  {
   "cell_type": "code",
   "execution_count": 3,
   "metadata": {},
   "outputs": [
    {
     "name": "stdout",
     "output_type": "stream",
     "text": [
      "Computing embeddings...\n",
      " 100% |███████████████| 5354/5354 [2.4m elapsed, 0s remaining, 46.5 samples/s]      \n",
      "Generating visualization...\n"
     ]
    },
    {
     "name": "stderr",
     "output_type": "stream",
     "text": [
      "/Users/paularamos/Documents/fiftyone_CVPR/py311_anomalib200b3/lib/python3.11/site-packages/sklearn/utils/deprecation.py:151: FutureWarning: 'force_all_finite' was renamed to 'ensure_all_finite' in 1.6 and will be removed in 1.8.\n",
      "  warnings.warn(\n",
      "OMP: Info #276: omp_set_nested routine deprecated, please use omp_set_max_active_levels instead.\n"
     ]
    },
    {
     "name": "stdout",
     "output_type": "stream",
     "text": [
      "UMAP( verbose=True)\n",
      "Tue Mar  4 08:48:23 2025 Construct fuzzy simplicial set\n",
      "Tue Mar  4 08:48:23 2025 Finding Nearest Neighbors\n",
      "Tue Mar  4 08:48:23 2025 Building RP forest with 9 trees\n",
      "Tue Mar  4 08:48:25 2025 NN descent for 12 iterations\n",
      "\t 1  /  12\n",
      "\t 2  /  12\n",
      "\t 3  /  12\n",
      "\tStopping threshold met -- exiting after 3 iterations\n",
      "Tue Mar  4 08:48:29 2025 Finished Nearest Neighbor Search\n",
      "Tue Mar  4 08:48:30 2025 Construct embedding\n"
     ]
    },
    {
     "data": {
      "application/vnd.jupyter.widget-view+json": {
       "model_id": "23b62546b7b24e06adb4003ae8bcd8e9",
       "version_major": 2,
       "version_minor": 0
      },
      "text/plain": [
       "Epochs completed:   0%|            0/500 [00:00]"
      ]
     },
     "metadata": {},
     "output_type": "display_data"
    },
    {
     "name": "stdout",
     "output_type": "stream",
     "text": [
      "\tcompleted  0  /  500 epochs\n",
      "\tcompleted  50  /  500 epochs\n",
      "\tcompleted  100  /  500 epochs\n",
      "\tcompleted  150  /  500 epochs\n",
      "\tcompleted  200  /  500 epochs\n",
      "\tcompleted  250  /  500 epochs\n",
      "\tcompleted  300  /  500 epochs\n",
      "\tcompleted  350  /  500 epochs\n",
      "\tcompleted  400  /  500 epochs\n",
      "\tcompleted  450  /  500 epochs\n",
      "Tue Mar  4 08:48:31 2025 Finished embedding\n",
      "✅ Embeddings computed.\n"
     ]
    }
   ],
   "source": [
    "import fiftyone.brain as fob\n",
    "import fiftyone.zoo.models as fozm\n",
    "\n",
    "# Load a pretrained model (e.g., CLIP)\n",
    "model = fozm.load_zoo_model(\"clip-vit-base32-torch\")\n",
    "\n",
    "# Compute embeddings for the dataset\n",
    "fob.compute_visualization(\n",
    "    dataset,\n",
    "    model=model,\n",
    "    embeddings=\"clip_embeddings\",\n",
    "    method=\"umap\",\n",
    "    brain_key=\"clip_vis\",\n",
    "    batch_size=10\n",
    ")\n",
    "\n",
    "print(\"✅ Embeddings computed.\")\n"
   ]
  },
  {
   "cell_type": "code",
   "execution_count": 4,
   "metadata": {},
   "outputs": [
    {
     "name": "stdout",
     "output_type": "stream",
     "text": [
      "Name:        Voxel51/mvtec-ad\n",
      "Media type:  image\n",
      "Num samples: 5354\n",
      "Persistent:  True\n",
      "Tags:        []\n",
      "Sample fields:\n",
      "    id:               fiftyone.core.fields.ObjectIdField\n",
      "    filepath:         fiftyone.core.fields.StringField\n",
      "    tags:             fiftyone.core.fields.ListField(fiftyone.core.fields.StringField)\n",
      "    metadata:         fiftyone.core.fields.EmbeddedDocumentField(fiftyone.core.metadata.ImageMetadata)\n",
      "    created_at:       fiftyone.core.fields.DateTimeField\n",
      "    last_modified_at: fiftyone.core.fields.DateTimeField\n",
      "    category:         fiftyone.core.fields.EmbeddedDocumentField(fiftyone.core.labels.Classification)\n",
      "    defect:           fiftyone.core.fields.EmbeddedDocumentField(fiftyone.core.labels.Classification)\n",
      "    split:            fiftyone.core.fields.StringField\n",
      "    defect_mask:      fiftyone.core.fields.EmbeddedDocumentField(fiftyone.core.labels.Segmentation)\n",
      "    clip_embeddings:  fiftyone.core.fields.VectorField\n",
      "<Sample: {\n",
      "    'id': '6621d76a324f6e05d5838ef7',\n",
      "    'media_type': 'image',\n",
      "    'filepath': '/Users/paularamos/fiftyone/huggingface/hub/Voxel51/mvtec-ad/data/data_53/009-101.png',\n",
      "    'tags': [],\n",
      "    'metadata': None,\n",
      "    'created_at': datetime.datetime(2024, 4, 19, 2, 31, 6),\n",
      "    'last_modified_at': datetime.datetime(2025, 3, 4, 13, 48, 21, 726000),\n",
      "    'category': None,\n",
      "    'defect': <Classification: {\n",
      "        'id': '6621d769324f6e05d5837a0c',\n",
      "        'tags': [],\n",
      "        'label': 'thread',\n",
      "        'confidence': None,\n",
      "        'logits': None,\n",
      "    }>,\n",
      "    'split': 'test',\n",
      "    'defect_mask': <Segmentation: {\n",
      "        'id': '6621d769324f6e05d5837a0d',\n",
      "        'tags': [],\n",
      "        'mask': None,\n",
      "        'mask_path': '/Users/paularamos/fiftyone/huggingface/hub/Voxel51/mvtec-ad/fields/defect_mask/defect_mask_12/009_mask-71.png',\n",
      "    }>,\n",
      "    'clip_embeddings': array([-9.28766802e-02,  1.64180905e-01, -3.74797881e-01, -4.43001390e-01,\n",
      "            3.86028141e-01,  1.50726512e-01,  2.94204235e-01,  1.09781873e+00,\n",
      "            1.89438805e-01, -3.63733098e-02,  1.58634305e-01, -1.00730009e-01,\n",
      "           -1.53823063e-01, -3.26453388e-01, -2.21780419e-01,  5.86627498e-02,\n",
      "           -1.71470884e-02,  1.78265661e-01, -6.11011162e-02,  5.82027912e-01,\n",
      "            2.30288967e-01, -7.84283876e-02, -2.47792646e-01,  7.15824068e-02,\n",
      "            1.25575170e-01, -8.76066983e-02, -2.37844739e-04, -1.91079266e-03,\n",
      "           -8.96343663e-02,  1.02408126e-01,  5.74049167e-02, -2.74349302e-01,\n",
      "            2.35032197e-02,  3.39473873e-01, -4.86210763e-01, -1.94934592e-01,\n",
      "           -5.25923610e-01,  1.97867379e-01, -3.40173990e-01, -9.72789168e-01,\n",
      "           -2.88423523e-03, -1.59039572e-01, -1.52795479e-01, -3.52211177e-01,\n",
      "            1.81882337e-01, -5.88594377e-01,  1.60877436e-01, -2.84757912e-02,\n",
      "           -2.34829053e-01, -2.26416543e-01, -6.79775834e-01, -5.16024083e-02,\n",
      "            2.24484131e-01, -3.36759925e-01, -2.12654576e-01,  1.85865700e-01,\n",
      "           -1.46022871e-01, -2.86000609e-01,  1.25391558e-02, -9.73343924e-02,\n",
      "            2.12012082e-01, -8.97600576e-02, -2.67315447e-01, -8.64220709e-02,\n",
      "           -6.06636584e-01, -2.35379100e-01,  1.89495414e-01, -4.68960613e-01,\n",
      "            1.52852386e-01,  9.93812233e-02, -3.54326397e-01,  1.17821209e-02,\n",
      "           -7.31207728e-02, -1.99837700e-01, -2.43268371e-01, -2.71779329e-01,\n",
      "           -2.07025811e-01,  1.16785392e-01,  1.23414911e-01, -2.68769711e-01,\n",
      "            2.47506022e-01,  1.62200719e-01, -6.04837954e-01, -2.37912685e-01,\n",
      "            1.41951442e-01,  3.97790849e-01,  1.31690156e+00, -2.06256315e-01,\n",
      "            3.03132921e-01, -7.07770810e-02, -4.19081211e-01, -2.25270316e-01,\n",
      "           -9.54112053e+00,  7.87482977e-01,  7.19318613e-02,  1.77922353e-01,\n",
      "           -1.62829548e-01,  1.49855763e-01, -4.57981825e-01, -6.83433235e-01,\n",
      "            1.36732534e-01,  3.19284022e-01, -4.47304435e-02, -2.05477208e-01,\n",
      "            4.36930954e-01,  3.03070426e-01, -2.26641870e+00,  4.61190380e-02,\n",
      "           -1.24173090e-01, -8.14766362e-02, -3.15893143e-01, -5.78888774e-01,\n",
      "           -1.03504546e-01, -2.85093665e-01, -2.03636244e-01, -2.40191981e-01,\n",
      "           -4.65769678e-01, -4.34664100e-01,  1.49070174e-02,  4.46961552e-01,\n",
      "            3.16125661e-01, -1.06314979e-01, -1.62697602e-02,  3.59953761e-01,\n",
      "           -1.01280615e-01, -7.43034184e-02, -1.57348931e-01, -1.32474646e-01,\n",
      "            4.73559707e-01,  4.81499881e-01,  1.29258141e-01, -2.63818085e-01,\n",
      "            3.03674221e-01,  1.22197032e+00,  2.36693978e-01, -4.74158190e-02,\n",
      "            5.79685979e-02, -6.38022542e-01, -3.73307854e-01, -3.04637905e-02,\n",
      "           -1.54874280e-01,  1.55894250e-01, -6.78578138e-01, -3.32143456e-02,\n",
      "           -3.69997442e-01,  1.89562455e-01,  6.79676756e-02,  3.46777618e-01,\n",
      "           -2.49330863e-01,  1.22860692e-01, -5.24528861e-01, -9.35033262e-02,\n",
      "            7.45757163e-01, -6.00125231e-02, -5.19816391e-02, -4.89205599e-01,\n",
      "            3.66162300e-01,  4.11347419e-01,  4.67604548e-01,  4.87755954e-01,\n",
      "            2.86345124e-01, -1.62171528e-01,  2.54186332e-01,  1.93382740e-01,\n",
      "           -5.55020683e-02,  4.03951667e-02, -3.64034235e-01,  4.94150221e-01,\n",
      "           -4.74252641e-01,  8.13451260e-02, -5.82972094e-02, -3.09016649e-02,\n",
      "            1.70217097e-01, -3.19068998e-01,  1.28592744e-01,  1.61866590e-01,\n",
      "            2.49298021e-01,  3.35929424e-01, -1.18341036e-01,  3.81030403e-02,\n",
      "           -4.65810448e-01,  1.07836820e-01, -8.34637657e-02,  2.56399751e-01,\n",
      "           -1.92737505e-01, -2.06208140e-01, -1.62288293e-01, -1.52439633e-02,\n",
      "            5.93802035e-01,  1.78529993e-01,  4.02567953e-01,  9.04559996e-03,\n",
      "           -3.08324605e-01,  2.66700774e-01,  9.74941492e-01, -1.00289278e-01,\n",
      "            3.59173343e-02, -3.62948626e-02, -6.50496423e-01,  1.46724224e-01,\n",
      "           -4.54156101e-01, -2.01048944e-02,  4.03839052e-01,  3.46018076e-01,\n",
      "           -2.74034906e-02, -1.28256232e-01,  3.21142077e-02, -8.37061927e-02,\n",
      "           -1.95076913e-01, -2.06359699e-01, -2.48272747e-01,  6.23445094e-01,\n",
      "           -5.86553998e-02, -8.27609841e-03, -1.04091592e-01, -2.58462757e-01,\n",
      "            1.44329980e-01, -3.09590191e-01, -7.11040497e-01, -1.19827405e-01,\n",
      "            2.65798599e-01, -5.89541674e-01, -3.56365964e-02, -1.46010101e-01,\n",
      "           -2.59531736e-01,  1.31941721e-01,  6.45475164e-02, -2.33088598e-01,\n",
      "           -4.90319394e-02,  7.82707706e-02, -2.09790275e-01,  1.87441662e-01,\n",
      "            9.32438374e-02,  2.07990512e-01, -3.46564621e-01, -2.48407826e-01,\n",
      "            6.60615833e-03, -3.85621518e-01, -5.14409244e-01,  1.43059537e-01,\n",
      "           -4.46375877e-01,  2.32978359e-01,  6.55875430e-02,  3.24210942e-01,\n",
      "            2.84070754e-03, -5.21999478e-01, -1.42183214e-01,  3.50776911e-01,\n",
      "            3.48820686e-01,  9.29045230e-02, -1.92359939e-01, -2.98482239e-01,\n",
      "           -3.24267000e-02,  3.19599450e-01,  4.57447441e-03, -2.72921938e-02,\n",
      "            6.78680465e-02,  1.62231866e-02,  5.39199859e-02,  1.73169598e-01,\n",
      "            4.88236994e-02, -3.05723753e-02, -5.27594984e-01,  2.00078934e-01,\n",
      "            1.53760031e-01,  9.42169875e-02,  4.37044978e-01,  4.65519354e-02,\n",
      "           -1.33901119e-01, -1.43365666e-01, -2.03310866e-02,  4.18237984e-01,\n",
      "            7.64329955e-02, -1.02307193e-01, -3.19137365e-01, -1.36627689e-01,\n",
      "            3.53954762e-01,  3.52290988e-01, -1.27993405e-01, -3.11208874e-01,\n",
      "           -4.64880243e-02,  1.34328663e-01, -1.99495524e-01, -2.54794180e-01,\n",
      "            2.21303497e-02, -1.43369678e-02, -3.54111761e-01, -3.19455899e-02,\n",
      "           -9.68909934e-02,  1.00751355e-01,  1.91928521e-02,  4.39196080e-02,\n",
      "            2.05305383e-01, -4.46839593e-02,  1.93320557e-01,  1.03048235e-01,\n",
      "           -5.42742729e-01, -1.08577378e-01,  1.04436941e-01, -1.95328608e-01,\n",
      "            1.90059409e-01, -5.03371537e-01, -4.09393907e-01,  3.10945064e-01,\n",
      "           -1.33780509e-01, -5.74197888e-01, -1.63371444e-01, -5.76444194e-02,\n",
      "           -2.15171382e-01,  1.81317553e-01, -1.79780677e-01,  5.52511625e-02,\n",
      "            1.22159553e+00, -8.99994895e-02,  1.74319923e-01,  6.09743118e-01,\n",
      "            2.35826567e-01, -1.27423853e-01, -3.25949252e-01, -6.23191535e-01,\n",
      "            5.38385570e-01,  2.00943637e+00, -2.44192287e-01,  3.96355152e-01,\n",
      "            7.41221458e-02,  2.77325753e-02,  7.50898644e-02,  1.06218934e-01,\n",
      "           -1.21497564e-01,  1.16069198e+00, -5.13157248e-01,  2.18009830e-01,\n",
      "            9.27224234e-02, -3.63691300e-01, -2.73525268e-01, -9.28905234e-02,\n",
      "           -2.40782857e-01, -1.61701396e-01, -2.97520757e-02,  6.53458774e-01,\n",
      "            9.78001580e-02,  9.97765884e-02,  2.38632113e-01,  4.74784784e-02,\n",
      "            3.97971720e-02, -3.98670405e-01,  2.17228159e-01,  3.13846990e-02,\n",
      "            1.97575703e-01,  2.04220805e-02,  4.68666136e-01, -4.15443033e-01,\n",
      "            2.17537835e-01,  3.27207357e-01, -2.60815710e-01, -4.76693928e-01,\n",
      "           -2.71905631e-01,  3.69639605e-01,  1.22210979e-01, -5.63701838e-02,\n",
      "           -3.65218163e-01, -3.57114315e-01,  1.11177020e-01, -1.49986953e-01,\n",
      "            2.14634553e-01, -1.53439611e-01,  1.82644844e-01, -3.28441232e-01,\n",
      "           -7.92179108e-02,  1.31658807e-01, -2.39777923e-01, -3.00187886e-01,\n",
      "           -1.29534796e-01, -2.47402892e-01,  1.65281937e-01,  1.37063727e-01,\n",
      "            9.33906808e-02,  1.27360314e-01, -5.91867507e-01,  3.11182261e-01,\n",
      "           -2.93944895e-01,  1.01425096e-01,  2.11532861e-01,  1.12959132e-01,\n",
      "            1.42731279e-01, -4.49648276e-02,  8.88581276e-02,  2.26468906e-01,\n",
      "           -3.63131851e-01,  1.01290151e-01, -4.47707564e-01, -1.12274580e-01,\n",
      "            3.57671499e-01, -2.67214924e-01,  3.88399631e-01,  1.34131208e-01,\n",
      "            2.22336471e-01,  4.78039682e-01, -2.45051518e-01,  2.83811837e-02,\n",
      "            8.21318179e-02, -1.55028135e-01,  5.05861759e-01, -3.87811035e-01,\n",
      "           -3.58720958e-01, -4.84210998e-01, -1.06590472e-01,  3.81563067e-01,\n",
      "            5.66260926e-02, -1.28297463e-01,  2.19403133e-01, -2.40092412e-01,\n",
      "           -2.45538771e-01,  3.68228495e-01,  9.28516388e-02,  1.33829877e-01,\n",
      "           -9.86754969e-02,  7.09349439e-02,  1.01289406e-01, -7.18131661e-02,\n",
      "           -1.80362910e-01, -8.42968822e-02,  1.08583011e-01, -4.47695702e-01,\n",
      "            4.80400503e-01, -2.40185052e-01, -1.50511637e-01, -2.38271534e-01,\n",
      "           -4.76584941e-01,  2.21722610e-02,  1.34190947e-01, -1.36677325e-01,\n",
      "           -5.91632187e-01, -4.13019836e-01, -1.66127801e-01,  1.45437326e-02,\n",
      "            3.71482037e-02, -1.83290005e-01, -4.79003675e-02,  1.24684617e-01,\n",
      "           -7.93178529e-02, -3.34590912e-01,  1.76666871e-01, -2.09306493e-01,\n",
      "            1.91134661e-01,  1.36511117e-01, -1.45482421e-01,  3.21755171e-01,\n",
      "            3.05076838e-02, -1.59147128e-01, -5.06240666e-01, -5.58122694e-01,\n",
      "           -2.33544141e-01, -7.41236985e-01,  2.02199936e-01, -2.96339951e-02,\n",
      "           -4.12350535e-01,  9.96783283e-03, -1.08165890e-01,  9.62040648e-02,\n",
      "            3.54941636e-01,  6.36031106e-02, -1.62510887e-01, -3.54404896e-01,\n",
      "            1.79064244e-01, -2.34217077e-01,  3.90528589e-01, -4.67853621e-03,\n",
      "           -4.50861275e-01, -2.59654045e-01, -1.75751016e-01,  3.72327380e-02,\n",
      "            6.70331642e-02, -4.80379462e-01, -9.14281532e-02, -1.70855135e-01,\n",
      "           -1.84391722e-01, -4.42386687e-01,  9.50259641e-02, -1.92360312e-01,\n",
      "            2.73526967e-01,  2.42533430e-01, -1.37133911e-01,  5.26606619e-01,\n",
      "           -1.28159732e-01, -1.18218816e-03,  1.67779196e-02,  5.86786926e-01,\n",
      "           -5.11181056e-01, -6.43456653e-02,  1.21408112e-01, -4.36492503e-01,\n",
      "            1.66685313e-01, -1.08875595e-01,  6.23758994e-02,  1.73722833e-01,\n",
      "            9.92035568e-02, -1.06767423e-01, -9.00868773e-02, -4.47703183e-01,\n",
      "           -2.71161735e-01, -4.61369902e-02, -2.47507483e-01,  1.48781156e-02,\n",
      "            6.67391062e-01,  1.41393887e-02, -1.13436759e-01, -2.64978379e-01,\n",
      "           -5.77801108e-01,  5.57805061e-01,  5.43582141e-02,  1.27707168e-01]),\n",
      "}>\n"
     ]
    }
   ],
   "source": [
    "dataset.reload()\n",
    "print(dataset)\n",
    "print(dataset.last())"
   ]
  },
  {
   "cell_type": "code",
   "execution_count": 5,
   "metadata": {},
   "outputs": [
    {
     "name": "stdout",
     "output_type": "stream",
     "text": [
      "Connected to FiftyOne on port 5151 at localhost.\n",
      "If you are not connecting to a remote session, you may need to start a new session and specify a port\n"
     ]
    },
    {
     "data": {
      "text/html": [
       "\n",
       "        <iframe\n",
       "            width=\"100%\"\n",
       "            height=\"800\"\n",
       "            src=\"http://localhost:5151/?notebook=True&subscription=362c21e0-9e24-4db5-a086-9d985ded9611\"\n",
       "            frameborder=\"0\"\n",
       "            allowfullscreen\n",
       "            \n",
       "        ></iframe>\n",
       "        "
      ],
      "text/plain": [
       "<IPython.lib.display.IFrame at 0x3aef84f10>"
      ]
     },
     "metadata": {},
     "output_type": "display_data"
    }
   ],
   "source": [
    "session = fo.launch_app(dataset)"
   ]
  },
  {
   "cell_type": "markdown",
   "id": "02284e08",
   "metadata": {},
   "source": [
    "\n",
    "## 🔍 Clustering Dataset Samples with a FiftyOne Plugin\n",
    "\n",
    "Once we have embeddings, we can **cluster dataset samples** based on similarity. the theory around that it not complex but it could take some time for running and testing what do you want to do. For Example for clustering samples by similarity you maybe need to use the following code: \n",
    "\n",
    "Example using **K-Means Clustering**:\n",
    "```python\n",
    "from sklearn.cluster import KMeans\n",
    "\n",
    "num_clusters = 5\n",
    "kmeans = KMeans(n_clusters=num_clusters, random_state=42)\n",
    "cluster_labels = kmeans.fit_predict(embeddings)\n",
    "```\n",
    "\n",
    "After clustering, we can assign labels to our dataset:\n",
    "\n",
    "```python\n",
    "import fiftyone as fo\n",
    "\n",
    "# Assign clustering results to FiftyOne dataset\n",
    "for sample, label in zip(dataset, cluster_labels):\n",
    "    sample[\"cluster\"] = int(label)  # Store as an integer field\n",
    "    sample.save()\n",
    "```\n",
    "\n",
    "## 📟 But, What if I teel you you don't need to write a code for doing that\n",
    "\n",
    "FiftyOne provides an extensible plugin system that allows users to enhance their workflows with additional functionalities, such as dataset visualization, embeddings analysis, and automated clustering. A FiftyOne Plugin is a modular component that extends the capabilities of the FiftyOne UI or backend. These plugins can be used for various tasks, including visualization, dataset processing, and machine learning model integration.\n",
    "\n",
    "#### Clustering Plugin in FiftyOne\n",
    "One powerful plugin available in FiftyOne is the Clustering Plugin, which allows users to group similar samples together based on embeddings. This is useful for tasks like:\n",
    "- Understanding patterns in your dataset\n",
    "- Identifying redundant or mislabeled data\n",
    "- Grouping anomalies or outliers\n",
    "\n",
    "🔗 **Relevant Documentation:**  \n",
    "- [Clustering Algorithms](https://en.wikipedia.org/wiki/Cluster_analysis)  \n",
    "- [FiftyOne Dataset Fields](https://docs.voxel51.com/user_guide/using_datasets.html#fields)\n",
    "- [FiftyOne Clustering Plugin](https://github.com/jacobmarks/clustering-plugin)\n"
   ]
  },
  {
   "cell_type": "markdown",
   "metadata": {},
   "source": [
    "## Install the Clustering Plugin\n",
    "\n",
    "Just using:\n",
    "\n",
    "```\n",
    "fiftyone plugins download https://github.com/jacobmarks/clustering-plugin\n",
    "```\n",
    "\n",
    "You can see how FiftyOne App allows you to cluster your dataset using a variety of algorithms: [K-Means](https://scikit-learn.org/stable/modules/generated/sklearn.cluster.KMeans.html#sklearn.cluster.KMeans), [Birch](https://scikit-learn.org/stable/modules/generated/sklearn.cluster.Birch.html#sklearn.cluster.Birch), [Agglomerative](https://scikit-learn.org/stable/modules/generated/sklearn.cluster.AgglomerativeClustering.html#sklearn.cluster.AgglomerativeClustering), [HDBSCAN](https://scikit-learn.org/stable/modules/generated/sklearn.cluster.AgglomerativeClustering.html#sklearn.cluster.HDBSCAN). It also serves as a proof of concept for adding new \"types\" of runs to FiftyOne!!!\n",
    "\n",
    "You will also need to have `scikit-learn` installed:"
   ]
  },
  {
   "cell_type": "code",
   "execution_count": null,
   "metadata": {},
   "outputs": [
    {
     "name": "stdout",
     "output_type": "stream",
     "text": [
      "Downloading jacobmarks/clustering-plugin...\n",
      "  162.8Kb [7.6ms elapsed, ? remaining, 20.8Mb/s]    \n",
      "Skipping existing plugin '@jacobmarks/clustering'\n",
      "Requirement already satisfied: scikit-learn in ./py311_anomalib200b3/lib/python3.11/site-packages (1.6.1)\n",
      "Requirement already satisfied: numpy>=1.19.5 in ./py311_anomalib200b3/lib/python3.11/site-packages (from scikit-learn) (2.1.3)\n",
      "Requirement already satisfied: scipy>=1.6.0 in ./py311_anomalib200b3/lib/python3.11/site-packages (from scikit-learn) (1.15.2)\n",
      "Requirement already satisfied: joblib>=1.2.0 in ./py311_anomalib200b3/lib/python3.11/site-packages (from scikit-learn) (1.4.2)\n",
      "Requirement already satisfied: threadpoolctl>=3.1.0 in ./py311_anomalib200b3/lib/python3.11/site-packages (from scikit-learn) (3.5.0)\n"
     ]
    }
   ],
   "source": [
    "#!fiftyone plugins download https://github.com/jacobmarks/clustering-plugin\n",
    "#!pip install -U scikit-learn"
   ]
  },
  {
   "cell_type": "code",
   "execution_count": null,
   "metadata": {},
   "outputs": [
    {
     "data": {
      "text/html": [
       "\n",
       "<style>\n",
       "@import url(\"https://fonts.googleapis.com/css2?family=Palanquin&display=swap\");\n",
       "\n",
       "body, html {\n",
       "  margin: 0;\n",
       "  padding: 0;\n",
       "  width: 100%;\n",
       "}\n",
       "\n",
       "#focontainer-1eed0b0a-15ef-4094-a2ce-44221b3012cd {\n",
       "  position: relative;\n",
       "  height: 800px;\n",
       "  display: block !important;\n",
       "}\n",
       "#foactivate-1eed0b0a-15ef-4094-a2ce-44221b3012cd {\n",
       "  font-weight: bold;\n",
       "  cursor: pointer;\n",
       "  font-size: 24px;\n",
       "  border-radius: 3px;\n",
       "  text-align: center;\n",
       "  padding: 0.5em;\n",
       "  color: rgb(255, 255, 255);\n",
       "  font-family: \"Palanquin\", sans-serif;\n",
       "  position: absolute;\n",
       "  left: 50%;\n",
       "  top: 50%;\n",
       "  width: 160px;\n",
       "  margin-left: -80px;\n",
       "  margin-top: -23px;\n",
       "  background: hsla(210,11%,15%, 0.8);\n",
       "  border: none;\n",
       "}\n",
       "#foactivate-1eed0b0a-15ef-4094-a2ce-44221b3012cd:focus {\n",
       "  outline: none;\n",
       "}\n",
       "#fooverlay-1eed0b0a-15ef-4094-a2ce-44221b3012cd {\n",
       "  width: 100%;\n",
       "  height: 100%;\n",
       "  background: hsla(208, 7%, 46%, 0.7);\n",
       "  position: absolute;\n",
       "  top: 0;\n",
       "  left: 0;\n",
       "  display: none;\n",
       "  cursor: pointer;\n",
       "}\n",
       "</style>\n",
       "\n",
       "<div id=\"focontainer-1eed0b0a-15ef-4094-a2ce-44221b3012cd\">\n",
       "   <div id=\"fooverlay-1eed0b0a-15ef-4094-a2ce-44221b3012cd\" style=\"display: none;\">\n",
       "      <button id=\"foactivate-1eed0b0a-15ef-4094-a2ce-44221b3012cd\" >Activate</button>\n",
       "   </div>\n",
       "   <img src='data:image/jpeg;base64,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' style=\"width: 100%; max-width: 2162px;\"/>\n",
       "</div>\n",
       "\n",
       "<script type=\"text/javascript\">\n",
       "   (function() {\n",
       "     var container = document.getElementById(\"focontainer-1eed0b0a-15ef-4094-a2ce-44221b3012cd\");\n",
       "     var overlay = document.getElementById(\"fooverlay-1eed0b0a-15ef-4094-a2ce-44221b3012cd\");\n",
       "     fetch(`http://localhost:5151/fiftyone`)\n",
       "     .then(() => {\n",
       "        overlay.addEventListener(\"click\", () => {\n",
       "          fetch(`http://localhost:5151/event`, {\n",
       "            method: \"POST\",\n",
       "            body: JSON.stringify({\n",
       "              event: \"reactivate_notebook_cell\",\n",
       "              data: { subscription: \"1eed0b0a-15ef-4094-a2ce-44221b3012cd\" },\n",
       "              subscription: \"1eed0b0a-15ef-4094-a2ce-44221b3012cd\"\n",
       "            })\n",
       "          })\n",
       "        });\n",
       "        container.addEventListener(\"mouseenter\", () => overlay.style.display = \"block\");\n",
       "        container.addEventListener(\"mouseleave\", () => overlay.style.display = \"none\");\n",
       "     });\n",
       "   })();\n",
       "</script>"
      ],
      "text/plain": [
       "<IPython.core.display.HTML object>"
      ]
     },
     "metadata": {},
     "output_type": "display_data"
    }
   ],
   "source": [
    "session = fo.launch_app(dataset)"
   ]
  },
  {
   "cell_type": "markdown",
   "metadata": {},
   "source": [
    "[![Watch the video](https://github.com/user-attachments/assets/72a20cc7-6e67-420c-90c3-0f7b424f859f)](https://github.com/paularamo/awesome-fiftyone/blob/main/getting-started-90min-workshop/sources/clustering_video.mp4)"
   ]
  },
  {
   "cell_type": "markdown",
   "id": "c994105a",
   "metadata": {},
   "source": [
    "\n",
    "\n",
    "### Next Steps:\n",
    "Try experimenting with different clustering methods (e.g., HDBSCAN, Birch clustering) and evaluate their impact on labeling quality! 🚀\n",
    "\n",
    "🔗 **More Resources:**  \n",
    "- [FiftyOne Docs](https://voxel51.com/docs/fiftyone/)  \n",
    "- [FiftyOne Tutorials](https://voxel51.com/docs/fiftyone/tutorials/index.html)\n"
   ]
  }
 ],
 "metadata": {
  "kernelspec": {
   "display_name": "py311_anomalib200b3",
   "language": "python",
   "name": "python3"
  },
  "language_info": {
   "codemirror_mode": {
    "name": "ipython",
    "version": 3
   },
   "file_extension": ".py",
   "mimetype": "text/x-python",
   "name": "python",
   "nbconvert_exporter": "python",
   "pygments_lexer": "ipython3",
   "version": "3.11.11"
  }
 },
 "nbformat": 4,
 "nbformat_minor": 2
}
