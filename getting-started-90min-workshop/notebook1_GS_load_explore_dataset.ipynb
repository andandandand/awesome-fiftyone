{
  "cells": [
    {
      "cell_type": "markdown",
      "metadata": {
        "id": "3232eaf0"
      },
      "source": [
        "\n",
        "# FiftyOne Workshop: Loading and Exploring Datasets (March 12th 2025)\n",
        "\n",
        "Welcome to this hands-on workshop where we will learn how to load and explore datasets using FiftyOne.\n",
        "This notebook will guide you through programmatic interaction via the **FiftyOne SDK** and visualization using the **FiftyOne App**.\n",
        "\n",
        "![Image](https://github.com/user-attachments/assets/d2830448-530e-4336-b3a4-f8f3838f5c73)\n",
        "\n",
        "## 🏆 Learning Objectives:\n",
        "- Load datasets into FiftyOne from different sources.\n",
        "- Understand the structure and metadata of datasets.\n",
        "- Use FiftyOne’s querying and filtering capabilities.\n",
        "- Interactively explore datasets in the FiftyOne App.\n",
        "\n",
        "In this example, we use HuggingFace Hub for dataset loading, but you are encouraged to explore other sources like local files, cloud storage, or custom dataset loaders.\n",
        "\n",
        "---\n"
      ]
    },
    {
      "cell_type": "markdown",
      "metadata": {
        "id": "9uE5vEKn0Lpb"
      },
      "source": [
        "## Requirements and FiftyOne Installation\n",
        "\n",
        "First thing you need to do is create a Python environment in your system, if you are not familiar with that please take a look of this [ReadmeFile](https://github.com/voxel51/fiftyone-examples?tab=readme-ov-file#-prerequisites-for-beginners-), where we will explain how to create the environment. After that be sure you activate the created environment and install FiftyOne there."
      ]
    },
    {
      "cell_type": "markdown",
      "metadata": {
        "id": "H_z5-LQW0Lpb"
      },
      "source": [
        "## Install FiftyOne\n",
        "\n",
        "Run the line below to install FiftyOne on your machine or Google Colab instance."
      ]
    },
    {
      "cell_type": "code",
      "execution_count": 1,
      "metadata": {
        "id": "L-orWdwA0Lpb",
        "colab": {
          "base_uri": "https://localhost:8080/"
        },
        "outputId": "f4e2f1a4-9cce-468e-85f1-bf642373c395"
      },
      "outputs": [
        {
          "output_type": "stream",
          "name": "stdout",
          "text": [
            "  Installing build dependencies ... \u001b[?25l\u001b[?25hdone\n",
            "  Getting requirements to build wheel ... \u001b[?25l\u001b[?25hdone\n",
            "  Preparing metadata (pyproject.toml) ... \u001b[?25l\u001b[?25hdone\n",
            "\u001b[2K   \u001b[90m━━━━━━━━━━━━━━━━━━━━━━━━━━━━━━━━━━━━━━━━\u001b[0m \u001b[32m10.5/10.5 MB\u001b[0m \u001b[31m73.2 MB/s\u001b[0m eta \u001b[36m0:00:00\u001b[0m\n",
            "\u001b[2K   \u001b[90m━━━━━━━━━━━━━━━━━━━━━━━━━━━━━━━━━━━━━━━━\u001b[0m \u001b[32m99.7/99.7 kB\u001b[0m \u001b[31m10.4 MB/s\u001b[0m eta \u001b[36m0:00:00\u001b[0m\n",
            "\u001b[2K   \u001b[90m━━━━━━━━━━━━━━━━━━━━━━━━━━━━━━━━━━━━━━━━\u001b[0m \u001b[32m61.7/61.7 kB\u001b[0m \u001b[31m5.4 MB/s\u001b[0m eta \u001b[36m0:00:00\u001b[0m\n",
            "\u001b[2K   \u001b[90m━━━━━━━━━━━━━━━━━━━━━━━━━━━━━━━━━━━━━━━━\u001b[0m \u001b[32m79.9/79.9 MB\u001b[0m \u001b[31m9.7 MB/s\u001b[0m eta \u001b[36m0:00:00\u001b[0m\n",
            "\u001b[2K   \u001b[90m━━━━━━━━━━━━━━━━━━━━━━━━━━━━━━━━━━━━━━━━\u001b[0m \u001b[32m112.4/112.4 kB\u001b[0m \u001b[31m9.6 MB/s\u001b[0m eta \u001b[36m0:00:00\u001b[0m\n",
            "\u001b[2K   \u001b[90m━━━━━━━━━━━━━━━━━━━━━━━━━━━━━━━━━━━━━━━━\u001b[0m \u001b[32m74.8/74.8 kB\u001b[0m \u001b[31m6.5 MB/s\u001b[0m eta \u001b[36m0:00:00\u001b[0m\n",
            "\u001b[2K   \u001b[90m━━━━━━━━━━━━━━━━━━━━━━━━━━━━━━━━━━━━━━━━\u001b[0m \u001b[32m1.7/1.7 MB\u001b[0m \u001b[31m68.2 MB/s\u001b[0m eta \u001b[36m0:00:00\u001b[0m\n",
            "\u001b[2K   \u001b[90m━━━━━━━━━━━━━━━━━━━━━━━━━━━━━━━━━━━━━━━━\u001b[0m \u001b[32m72.0/72.0 kB\u001b[0m \u001b[31m7.2 MB/s\u001b[0m eta \u001b[36m0:00:00\u001b[0m\n",
            "\u001b[2K   \u001b[90m━━━━━━━━━━━━━━━━━━━━━━━━━━━━━━━━━━━━━━━━\u001b[0m \u001b[32m943.0/943.0 kB\u001b[0m \u001b[31m48.4 MB/s\u001b[0m eta \u001b[36m0:00:00\u001b[0m\n",
            "\u001b[2K   \u001b[90m━━━━━━━━━━━━━━━━━━━━━━━━━━━━━━━━━━━━━━━━\u001b[0m \u001b[32m43.8/43.8 kB\u001b[0m \u001b[31m3.3 MB/s\u001b[0m eta \u001b[36m0:00:00\u001b[0m\n",
            "\u001b[2K   \u001b[90m━━━━━━━━━━━━━━━━━━━━━━━━━━━━━━━━━━━━━━━━\u001b[0m \u001b[32m139.6/139.6 kB\u001b[0m \u001b[31m11.9 MB/s\u001b[0m eta \u001b[36m0:00:00\u001b[0m\n",
            "\u001b[2K   \u001b[90m━━━━━━━━━━━━━━━━━━━━━━━━━━━━━━━━━━━━━━━━\u001b[0m \u001b[32m44.8/44.8 kB\u001b[0m \u001b[31m3.2 MB/s\u001b[0m eta \u001b[36m0:00:00\u001b[0m\n",
            "\u001b[2K   \u001b[90m━━━━━━━━━━━━━━━━━━━━━━━━━━━━━━━━━━━━━━━━\u001b[0m \u001b[32m102.1/102.1 kB\u001b[0m \u001b[31m9.1 MB/s\u001b[0m eta \u001b[36m0:00:00\u001b[0m\n",
            "\u001b[2K   \u001b[90m━━━━━━━━━━━━━━━━━━━━━━━━━━━━━━━━━━━━━━━━\u001b[0m \u001b[32m541.1/541.1 kB\u001b[0m \u001b[31m34.3 MB/s\u001b[0m eta \u001b[36m0:00:00\u001b[0m\n",
            "\u001b[2K   \u001b[90m━━━━━━━━━━━━━━━━━━━━━━━━━━━━━━━━━━━━━━━━\u001b[0m \u001b[32m296.2/296.2 kB\u001b[0m \u001b[31m19.7 MB/s\u001b[0m eta \u001b[36m0:00:00\u001b[0m\n",
            "\u001b[2K   \u001b[90m━━━━━━━━━━━━━━━━━━━━━━━━━━━━━━━━━━━━━━━━\u001b[0m \u001b[32m13.4/13.4 MB\u001b[0m \u001b[31m67.4 MB/s\u001b[0m eta \u001b[36m0:00:00\u001b[0m\n",
            "\u001b[2K   \u001b[90m━━━━━━━━━━━━━━━━━━━━━━━━━━━━━━━━━━━━━━━━\u001b[0m \u001b[32m313.6/313.6 kB\u001b[0m \u001b[31m23.5 MB/s\u001b[0m eta \u001b[36m0:00:00\u001b[0m\n",
            "\u001b[2K   \u001b[90m━━━━━━━━━━━━━━━━━━━━━━━━━━━━━━━━━━━━━━━━\u001b[0m \u001b[32m203.4/203.4 kB\u001b[0m \u001b[31m17.7 MB/s\u001b[0m eta \u001b[36m0:00:00\u001b[0m\n",
            "\u001b[2K   \u001b[90m━━━━━━━━━━━━━━━━━━━━━━━━━━━━━━━━━━━━━━━━\u001b[0m \u001b[32m84.4/84.4 kB\u001b[0m \u001b[31m7.2 MB/s\u001b[0m eta \u001b[36m0:00:00\u001b[0m\n",
            "\u001b[2K   \u001b[90m━━━━━━━━━━━━━━━━━━━━━━━━━━━━━━━━━━━━━━━━\u001b[0m \u001b[32m119.4/119.4 kB\u001b[0m \u001b[31m9.7 MB/s\u001b[0m eta \u001b[36m0:00:00\u001b[0m\n",
            "\u001b[2K   \u001b[90m━━━━━━━━━━━━━━━━━━━━━━━━━━━━━━━━━━━━━━━━\u001b[0m \u001b[32m67.9/67.9 kB\u001b[0m \u001b[31m6.9 MB/s\u001b[0m eta \u001b[36m0:00:00\u001b[0m\n",
            "\u001b[2K   \u001b[90m━━━━━━━━━━━━━━━━━━━━━━━━━━━━━━━━━━━━━━━━\u001b[0m \u001b[32m2.9/2.9 MB\u001b[0m \u001b[31m67.3 MB/s\u001b[0m eta \u001b[36m0:00:00\u001b[0m\n",
            "\u001b[2K   \u001b[90m━━━━━━━━━━━━━━━━━━━━━━━━━━━━━━━━━━━━━━━━\u001b[0m \u001b[32m96.2/96.2 kB\u001b[0m \u001b[31m9.6 MB/s\u001b[0m eta \u001b[36m0:00:00\u001b[0m\n",
            "\u001b[2K   \u001b[90m━━━━━━━━━━━━━━━━━━━━━━━━━━━━━━━━━━━━━━━━\u001b[0m \u001b[32m50.6/50.6 kB\u001b[0m \u001b[31m3.9 MB/s\u001b[0m eta \u001b[36m0:00:00\u001b[0m\n",
            "\u001b[2K   \u001b[90m━━━━━━━━━━━━━━━━━━━━━━━━━━━━━━━━━━━━━━━━\u001b[0m \u001b[32m2.3/2.3 MB\u001b[0m \u001b[31m60.1 MB/s\u001b[0m eta \u001b[36m0:00:00\u001b[0m\n",
            "\u001b[2K   \u001b[90m━━━━━━━━━━━━━━━━━━━━━━━━━━━━━━━━━━━━━━━━\u001b[0m \u001b[32m141.3/141.3 kB\u001b[0m \u001b[31m13.9 MB/s\u001b[0m eta \u001b[36m0:00:00\u001b[0m\n",
            "\u001b[2K   \u001b[90m━━━━━━━━━━━━━━━━━━━━━━━━━━━━━━━━━━━━━━━━\u001b[0m \u001b[32m413.7/413.7 kB\u001b[0m \u001b[31m25.2 MB/s\u001b[0m eta \u001b[36m0:00:00\u001b[0m\n",
            "\u001b[?25h  Building wheel for fiftyone-db (pyproject.toml) ... \u001b[?25l\u001b[?25hdone\n"
          ]
        }
      ],
      "source": [
        "!pip install fiftyone==1.3.1 -q"
      ]
    },
    {
      "cell_type": "markdown",
      "metadata": {
        "id": "4ee1b1c2"
      },
      "source": [
        "\n",
        "## 📥 Loading a Dataset into FiftyOne\n",
        "\n",
        "FiftyOne provides multiple ways to import datasets, including:\n",
        "- **Hugging Face Hub** (as demonstrated here)\n",
        "- **Local files** (images, videos, or annotations in JSON, COCO, PASCAL VOC, etc.)\n",
        "- **Cloud storage** (AWS S3, Google Drive, etc.) - Just for FiftyOne Enterprise\n",
        "\n",
        "To load a dataset, we specify the source and format, ensuring FiftyOne properly indexes the data.\n",
        "\n",
        "🔗 **Relevant Documentation:** [Dataset Importing in FiftyOne](https://voxel51.com/docs/fiftyone/user_guide/dataset_creation/index.html)\n",
        "\n",
        "We are using [MVTec AD Dataset](https://www.mvtec.com/company/research/datasets/mvtec-ad) from [Voxel51's HuggingFace Hub](https://huggingface.co/datasets/Voxel51/mvtec-ad). The difference between the original resource and the Voxel51's one is the data structure, while in the first one we have a tree directory with category, in the second one we have an unstructured dataset with metadata such as ```categories.label```, and ```defect.label```.\n"
      ]
    },
    {
      "cell_type": "code",
      "execution_count": 2,
      "metadata": {
        "id": "INoOsPVf0Lpc",
        "outputId": "d2687569-f01e-47ca-c5e8-5eb9e740ebe2",
        "colab": {
          "base_uri": "https://localhost:8080/",
          "height": 292,
          "referenced_widgets": [
            "47b9d00822634a0ba10a4acd48945621",
            "d0bd028c885649a4b2fc0ea015dc3106",
            "b69e6d8420004a249e2e542671eb3105",
            "9ea53887abbd477ebe3d40faeeb345aa",
            "3fa62576ffa34afca69f868abe0a41f9",
            "7e1c992b7b7140bdb99bdce587868d2b",
            "0af21416a8e14ff69f05cdbff2ff6ce8",
            "2e126bc3a86845eb96d2e8d210c5fc0b",
            "880b18db2cb149bd93633a20fdff052b",
            "337ed238e2f943598cb1a08da99aef6d",
            "fda57b10e6ac47a8909b407ad96a08b2"
          ]
        }
      },
      "outputs": [
        {
          "output_type": "stream",
          "name": "stdout",
          "text": [
            "Downloading config file fiftyone.yml from Voxel51/mvtec-ad\n"
          ]
        },
        {
          "output_type": "stream",
          "name": "stderr",
          "text": [
            "INFO:fiftyone.utils.huggingface:Downloading config file fiftyone.yml from Voxel51/mvtec-ad\n"
          ]
        },
        {
          "output_type": "display_data",
          "data": {
            "text/plain": [
              "fiftyone.yml:   0%|          | 0.00/127 [00:00<?, ?B/s]"
            ],
            "application/vnd.jupyter.widget-view+json": {
              "version_major": 2,
              "version_minor": 0,
              "model_id": "47b9d00822634a0ba10a4acd48945621"
            }
          },
          "metadata": {}
        },
        {
          "output_type": "stream",
          "name": "stdout",
          "text": [
            "Loading dataset\n"
          ]
        },
        {
          "output_type": "stream",
          "name": "stderr",
          "text": [
            "INFO:fiftyone.utils.huggingface:Loading dataset\n"
          ]
        },
        {
          "output_type": "stream",
          "name": "stdout",
          "text": [
            "Importing samples...\n"
          ]
        },
        {
          "output_type": "stream",
          "name": "stderr",
          "text": [
            "INFO:fiftyone.utils.data.importers:Importing samples...\n"
          ]
        },
        {
          "output_type": "stream",
          "name": "stdout",
          "text": [
            " 100% |███████████████| 5354/5354 [142.1ms elapsed, 0s remaining, 37.7K samples/s]     \n"
          ]
        },
        {
          "output_type": "stream",
          "name": "stderr",
          "text": [
            "INFO:eta.core.utils: 100% |███████████████| 5354/5354 [142.1ms elapsed, 0s remaining, 37.7K samples/s]     \n"
          ]
        },
        {
          "output_type": "stream",
          "name": "stdout",
          "text": [
            "Migrating dataset 'Voxel51/mvtec-ad' to v1.3.1\n"
          ]
        },
        {
          "output_type": "stream",
          "name": "stderr",
          "text": [
            "INFO:fiftyone.migrations.runner:Migrating dataset 'Voxel51/mvtec-ad' to v1.3.1\n"
          ]
        },
        {
          "output_type": "stream",
          "name": "stdout",
          "text": [
            "Downloading 5354 media files...\n"
          ]
        },
        {
          "output_type": "stream",
          "name": "stderr",
          "text": [
            "INFO:fiftyone.utils.huggingface:Downloading 5354 media files...\n",
            "100%|██████████| 54/54 [05:12<00:00,  5.79s/it]\n"
          ]
        },
        {
          "output_type": "stream",
          "name": "stdout",
          "text": [
            "Dataset 'mvtec-ad_1' does not exist. Creating a new one...\n"
          ]
        }
      ],
      "source": [
        "import fiftyone as fo # base library and app\n",
        "import fiftyone.utils.huggingface as fouh # Hugging Face integration\n",
        "dataset_ = fouh.load_from_hub(\"Voxel51/mvtec-ad\", persistent=True, overwrite=True)\n",
        "\n",
        "# Use this CLI if you already have the dataset\n",
        "# in your disk or if this is not the first time you run this notebook\n",
        "#dataset = fo.load_dataset(\"Voxel51/mvtec-ad\")\n",
        "\n",
        "# Define the new dataset name\n",
        "dataset_name = \"mvtec-ad_1\"\n",
        "\n",
        "# Check if the dataset exists\n",
        "if dataset_name in fo.list_datasets():\n",
        "    print(f\"Dataset '{dataset_name}' exists. Loading...\")\n",
        "    dataset = fo.load_dataset(dataset_name)\n",
        "else:\n",
        "    print(f\"Dataset '{dataset_name}' does not exist. Creating a new one...\")\n",
        "    # Clone the dataset with a new name and make it persistent\n",
        "    dataset = dataset_.clone(dataset_name, persistent=True)"
      ]
    },
    {
      "cell_type": "markdown",
      "metadata": {
        "id": "a13ff8a6"
      },
      "source": [
        "\n",
        "## 🧐 Exploring the Dataset\n",
        "\n",
        "Once the dataset is loaded, we can inspect its structure using FiftyOne’s SDK.\n",
        "We will explore:\n",
        "- The number of samples in the dataset.\n",
        "- Available metadata and labels.\n",
        "- How images/videos are structured.\n",
        "\n",
        "🔗 **Relevant Documentation:** [Inspecting Datasets in FiftyOne](https://docs.voxel51.com/user_guide/using_datasets.html#using-fiftyone-datasets)\n"
      ]
    },
    {
      "cell_type": "code",
      "execution_count": 3,
      "metadata": {
        "id": "tbQGqkek0Lpc",
        "colab": {
          "base_uri": "https://localhost:8080/"
        },
        "outputId": "18a7e6d8-cd38-492f-ffce-0dc116645a5b"
      },
      "outputs": [
        {
          "output_type": "stream",
          "name": "stdout",
          "text": [
            "Name:        mvtec-ad_1\n",
            "Media type:  image\n",
            "Num samples: 5354\n",
            "Persistent:  True\n",
            "Tags:        []\n",
            "Sample fields:\n",
            "    id:               fiftyone.core.fields.ObjectIdField\n",
            "    filepath:         fiftyone.core.fields.StringField\n",
            "    tags:             fiftyone.core.fields.ListField(fiftyone.core.fields.StringField)\n",
            "    metadata:         fiftyone.core.fields.EmbeddedDocumentField(fiftyone.core.metadata.ImageMetadata)\n",
            "    created_at:       fiftyone.core.fields.DateTimeField\n",
            "    last_modified_at: fiftyone.core.fields.DateTimeField\n",
            "    category:         fiftyone.core.fields.EmbeddedDocumentField(fiftyone.core.labels.Classification)\n",
            "    defect:           fiftyone.core.fields.EmbeddedDocumentField(fiftyone.core.labels.Classification)\n",
            "    split:            fiftyone.core.fields.StringField\n",
            "    defect_mask:      fiftyone.core.fields.EmbeddedDocumentField(fiftyone.core.labels.Segmentation)\n",
            "<Sample: {\n",
            "    'id': '6621d76a324f6e05d5838ef7',\n",
            "    'media_type': 'image',\n",
            "    'filepath': '/root/fiftyone/huggingface/hub/Voxel51/mvtec-ad/data/data_53/009-101.png',\n",
            "    'tags': [],\n",
            "    'metadata': None,\n",
            "    'created_at': datetime.datetime(2025, 3, 12, 10, 15, 53, 752000),\n",
            "    'last_modified_at': datetime.datetime(2025, 3, 12, 10, 15, 53, 752000),\n",
            "    'category': <Classification: {\n",
            "        'id': '6621d769324f6e05d5837a0b',\n",
            "        'tags': [],\n",
            "        'label': 'grid',\n",
            "        'confidence': None,\n",
            "        'logits': None,\n",
            "    }>,\n",
            "    'defect': <Classification: {\n",
            "        'id': '6621d769324f6e05d5837a0c',\n",
            "        'tags': [],\n",
            "        'label': 'thread',\n",
            "        'confidence': None,\n",
            "        'logits': None,\n",
            "    }>,\n",
            "    'split': 'test',\n",
            "    'defect_mask': <Segmentation: {\n",
            "        'id': '6621d769324f6e05d5837a0d',\n",
            "        'tags': [],\n",
            "        'mask': None,\n",
            "        'mask_path': '/root/fiftyone/huggingface/hub/Voxel51/mvtec-ad/fields/defect_mask/defect_mask_12/009_mask-71.png',\n",
            "    }>,\n",
            "}>\n"
          ]
        }
      ],
      "source": [
        "print(dataset)\n",
        "print(dataset.last())  # Inspect the first or last sample"
      ]
    },
    {
      "cell_type": "code",
      "execution_count": 4,
      "metadata": {
        "id": "5oHDwDVE0Lpc",
        "colab": {
          "base_uri": "https://localhost:8080/"
        },
        "outputId": "ab444cef-ca89-46fa-87b2-53cb4cd72466"
      },
      "outputs": [
        {
          "output_type": "stream",
          "name": "stdout",
          "text": [
            "\r\n",
            "Could not connect session, trying again in 10 seconds\r\n",
            "\n",
            "Session launched. Run `session.show()` to open the App in a cell output.\n"
          ]
        },
        {
          "output_type": "stream",
          "name": "stderr",
          "text": [
            "INFO:fiftyone.core.session.session:Session launched. Run `session.show()` to open the App in a cell output.\n"
          ]
        },
        {
          "output_type": "stream",
          "name": "stdout",
          "text": [
            "\n",
            "Welcome to\n",
            "\n",
            "███████╗██╗███████╗████████╗██╗   ██╗ ██████╗ ███╗   ██╗███████╗\n",
            "██╔════╝██║██╔════╝╚══██╔══╝╚██╗ ██╔╝██╔═══██╗████╗  ██║██╔════╝\n",
            "█████╗  ██║█████╗     ██║    ╚████╔╝ ██║   ██║██╔██╗ ██║█████╗\n",
            "██╔══╝  ██║██╔══╝     ██║     ╚██╔╝  ██║   ██║██║╚██╗██║██╔══╝\n",
            "██║     ██║██║        ██║      ██║   ╚██████╔╝██║ ╚████║███████╗\n",
            "╚═╝     ╚═╝╚═╝        ╚═╝      ╚═╝    ╚═════╝ ╚═╝  ╚═══╝╚══════╝ v1.3.1\n",
            "\n",
            "If you're finding FiftyOne helpful, here's how you can get involved:\n",
            "\n",
            "|\n",
            "|  ⭐⭐⭐ Give the project a star on GitHub ⭐⭐⭐\n",
            "|  https://github.com/voxel51/fiftyone\n",
            "|\n",
            "|  🚀🚀🚀 Join the FiftyOne Discord community 🚀🚀🚀\n",
            "|  https://community.voxel51.com/\n",
            "|\n",
            "\n"
          ]
        },
        {
          "output_type": "stream",
          "name": "stderr",
          "text": [
            "INFO:fiftyone.core.session.session:\n",
            "Welcome to\n",
            "\n",
            "███████╗██╗███████╗████████╗██╗   ██╗ ██████╗ ███╗   ██╗███████╗\n",
            "██╔════╝██║██╔════╝╚══██╔══╝╚██╗ ██╔╝██╔═══██╗████╗  ██║██╔════╝\n",
            "█████╗  ██║█████╗     ██║    ╚████╔╝ ██║   ██║██╔██╗ ██║█████╗\n",
            "██╔══╝  ██║██╔══╝     ██║     ╚██╔╝  ██║   ██║██║╚██╗██║██╔══╝\n",
            "██║     ██║██║        ██║      ██║   ╚██████╔╝██║ ╚████║███████╗\n",
            "╚═╝     ╚═╝╚═╝        ╚═╝      ╚═╝    ╚═════╝ ╚═╝  ╚═══╝╚══════╝ v1.3.1\n",
            "\n",
            "If you're finding FiftyOne helpful, here's how you can get involved:\n",
            "\n",
            "|\n",
            "|  ⭐⭐⭐ Give the project a star on GitHub ⭐⭐⭐\n",
            "|  https://github.com/voxel51/fiftyone\n",
            "|\n",
            "|  🚀🚀🚀 Join the FiftyOne Discord community 🚀🚀🚀\n",
            "|  https://community.voxel51.com/\n",
            "|\n",
            "\n"
          ]
        }
      ],
      "source": [
        "session = fo.launch_app(dataset, port=5151, auto=False)"
      ]
    },
    {
      "cell_type": "markdown",
      "metadata": {
        "id": "QYH7wrPf0Lpc"
      },
      "source": [
        "![Image](https://github.com/user-attachments/assets/82e253a8-d17d-4d39-a957-a406c23d70b6)"
      ]
    },
    {
      "cell_type": "markdown",
      "metadata": {
        "id": "b2f27130"
      },
      "source": [
        "\n",
        "## 🔍 Querying and Filtering\n",
        "\n",
        "FiftyOne provides a powerful querying engine to filter and analyze datasets.\n",
        "We can apply filters to:\n",
        "- Retrieve specific labels (e.g., all images with \"cat\" labels).\n",
        "- Apply confidence thresholds to object detections.\n",
        "- Filter data based on metadata (e.g., image size, timestamp).\n",
        "\n",
        "🔗 **Relevant Documentation:** [Dataset views](https://docs.voxel51.com/user_guide/using_views.html#dataset-views), [Querying Samples](https://docs.voxel51.com/user_guide/using_views.html#querying-samples), [Common filters](https://docs.voxel51.com/user_guide/using_views.html#querying-samples)\n",
        "\n",
        "### Examples:\n",
        "- Show all images containing a particular class.\n",
        "- Retrieve samples with object detection confidence above a threshold.\n",
        "- Filter out low-quality images based on metadata.\n"
      ]
    },
    {
      "cell_type": "code",
      "execution_count": 5,
      "metadata": {
        "id": "7v6uEQLQ0Lpd",
        "colab": {
          "base_uri": "https://localhost:8080/"
        },
        "outputId": "93a4a455-7b69-44c3-ad56-62f3649842e0"
      },
      "outputs": [
        {
          "output_type": "stream",
          "name": "stdout",
          "text": [
            "Dataset:     mvtec-ad_1\n",
            "Media type:  image\n",
            "Num samples: 91\n",
            "Sample fields:\n",
            "    id:               fiftyone.core.fields.ObjectIdField\n",
            "    filepath:         fiftyone.core.fields.StringField\n",
            "    tags:             fiftyone.core.fields.ListField(fiftyone.core.fields.StringField)\n",
            "    metadata:         fiftyone.core.fields.EmbeddedDocumentField(fiftyone.core.metadata.ImageMetadata)\n",
            "    created_at:       fiftyone.core.fields.DateTimeField\n",
            "    last_modified_at: fiftyone.core.fields.DateTimeField\n",
            "    category:         fiftyone.core.fields.EmbeddedDocumentField(fiftyone.core.labels.Classification)\n",
            "    defect:           fiftyone.core.fields.EmbeddedDocumentField(fiftyone.core.labels.Classification)\n",
            "    split:            fiftyone.core.fields.StringField\n",
            "    defect_mask:      fiftyone.core.fields.EmbeddedDocumentField(fiftyone.core.labels.Segmentation)\n",
            "View stages:\n",
            "    1. Match(filter={'$expr': {'$eq': [...]}})\n",
            "Session launched. Run `session.show()` to open the App in a cell output.\n"
          ]
        },
        {
          "output_type": "stream",
          "name": "stderr",
          "text": [
            "INFO:fiftyone.core.session.session:Session launched. Run `session.show()` to open the App in a cell output.\n"
          ]
        }
      ],
      "source": [
        "import fiftyone.core.expressions as foe\n",
        "# Query images where the defect is labeled as \"scratch\"\n",
        "view = dataset.match(foe.ViewField(\"defect.label\") == \"scratch\")\n",
        "print(view)\n",
        "\n",
        "# Launch FiftyOne App with the filtered dataset\n",
        "session = fo.launch_app(view, port=5151, auto=False)\n"
      ]
    },
    {
      "cell_type": "markdown",
      "metadata": {
        "id": "E2xikq8D0Lpd"
      },
      "source": [
        "![Image](https://github.com/user-attachments/assets/a8143d7a-40cb-4f4c-8a04-0daf6f29abe7)"
      ]
    },
    {
      "cell_type": "code",
      "execution_count": 6,
      "metadata": {
        "id": "YHb0i0fY0Lpd",
        "colab": {
          "base_uri": "https://localhost:8080/"
        },
        "outputId": "3262fb81-cb79-444a-f43d-e9384fa9dcbd"
      },
      "outputs": [
        {
          "output_type": "stream",
          "name": "stdout",
          "text": [
            "Dataset:     mvtec-ad_1\n",
            "Media type:  image\n",
            "Num samples: 21\n",
            "Sample fields:\n",
            "    id:               fiftyone.core.fields.ObjectIdField\n",
            "    filepath:         fiftyone.core.fields.StringField\n",
            "    tags:             fiftyone.core.fields.ListField(fiftyone.core.fields.StringField)\n",
            "    metadata:         fiftyone.core.fields.EmbeddedDocumentField(fiftyone.core.metadata.ImageMetadata)\n",
            "    created_at:       fiftyone.core.fields.DateTimeField\n",
            "    last_modified_at: fiftyone.core.fields.DateTimeField\n",
            "    category:         fiftyone.core.fields.EmbeddedDocumentField(fiftyone.core.labels.Classification)\n",
            "    defect:           fiftyone.core.fields.EmbeddedDocumentField(fiftyone.core.labels.Classification)\n",
            "    split:            fiftyone.core.fields.StringField\n",
            "    defect_mask:      fiftyone.core.fields.EmbeddedDocumentField(fiftyone.core.labels.Segmentation)\n",
            "View stages:\n",
            "    1. Match(filter={'$expr': {'$eq': [...]}})\n",
            "    2. Match(filter={'$expr': {'$eq': [...]}})\n"
          ]
        }
      ],
      "source": [
        "filter = view.match(foe.ViewField(\"category.label\") == \"wood\")\n",
        "session.view = filter\n",
        "print(filter)"
      ]
    },
    {
      "cell_type": "code",
      "execution_count": 7,
      "metadata": {
        "id": "a40xP4ax0Lpd",
        "colab": {
          "base_uri": "https://localhost:8080/"
        },
        "outputId": "9c7a245f-d657-404c-bf40-616189e7caa1"
      },
      "outputs": [
        {
          "output_type": "stream",
          "name": "stdout",
          "text": [
            "Session launched. Run `session.show()` to open the App in a cell output.\n"
          ]
        },
        {
          "output_type": "stream",
          "name": "stderr",
          "text": [
            "INFO:fiftyone.core.session.session:Session launched. Run `session.show()` to open the App in a cell output.\n"
          ]
        }
      ],
      "source": [
        "# Launch FiftyOne App with the filtered dataset\n",
        "session = fo.launch_app(filter, port=5151, auto=False)"
      ]
    },
    {
      "cell_type": "markdown",
      "metadata": {
        "id": "lw5LZP_K0Lpd"
      },
      "source": [
        "![Image](https://github.com/user-attachments/assets/961e07d1-f1fe-4a69-93bc-92be0d1a700b)"
      ]
    },
    {
      "cell_type": "code",
      "source": [
        "# Display the FiftyOne app within the notebook\n",
        "session.show()\n"
      ],
      "metadata": {
        "collapsed": true,
        "id": "6WKWVz3m8JvV"
      },
      "execution_count": null,
      "outputs": []
    },
    {
      "cell_type": "markdown",
      "metadata": {
        "id": "7a0766d0"
      },
      "source": [
        "\n",
        "## 🖥️ Interactive Exploration with the FiftyOne App\n",
        "\n",
        "The **FiftyOne App** allows users to interactively browse, filter, and analyze datasets.\n",
        "This visual interface is an essential tool for understanding dataset composition and refining data exploration workflows.\n",
        "\n",
        "Key features of the FiftyOne App:\n",
        "- Interactive filtering of images/videos.\n",
        "- Object detection visualization.\n",
        "- Dataset statistics and metadata overview.\n",
        "\n",
        "🔗 **Relevant Documentation:** [Using the FiftyOne App](https://voxel51.com/docs/fiftyone/user_guide/app.html)\n"
      ]
    },
    {
      "cell_type": "markdown",
      "metadata": {
        "id": "uWZsvsd50Lpd"
      },
      "source": [
        "### Interacting with Plugins to Understand the Dataset\n",
        "\n",
        "FiftyOne provides a powerful [plugin framework](https://docs.voxel51.com/plugins/index.html) that allows for extending and customizing the functionality of the tool to suit your specific needs. In this case we will use the [@voxel51/dashboard](https://github.com/voxel51/fiftyone-plugins/blob/main/plugins/dashboard/README.md) plugin, a plugin that enables users to construct custom dashboards that display statistics of interest about the current dataset (and beyond)"
      ]
    },
    {
      "cell_type": "code",
      "execution_count": 8,
      "metadata": {
        "id": "wDPpS_YX0Lpd"
      },
      "outputs": [],
      "source": [
        "#!fiftyone plugins download https://github.com/voxel51/fiftyone-plugins --plugin-names @voxel51/dashboard"
      ]
    },
    {
      "cell_type": "markdown",
      "metadata": {
        "id": "3DlOC0fG0Lpd"
      },
      "source": [
        "![Image](https://github.com/user-attachments/assets/107f1873-8e19-4c37-abe1-46bb39cb993c)"
      ]
    },
    {
      "cell_type": "markdown",
      "metadata": {
        "id": "MneysvIG0Lpd"
      },
      "source": [
        "## New Dataset\n",
        "\n",
        "Here we create a new FiftyOne dataset containing a copy of the contents of the view."
      ]
    },
    {
      "cell_type": "code",
      "execution_count": 9,
      "metadata": {
        "id": "u2xdNX_U0Lpd",
        "colab": {
          "base_uri": "https://localhost:8080/"
        },
        "outputId": "8d50ee75-df19-4f1c-ae15-72497d0bf017"
      },
      "outputs": [
        {
          "output_type": "stream",
          "name": "stdout",
          "text": [
            "Name:        2025.03.12.10.16.10\n",
            "Media type:  image\n",
            "Num samples: 91\n",
            "Persistent:  False\n",
            "Tags:        []\n",
            "Sample fields:\n",
            "    id:               fiftyone.core.fields.ObjectIdField\n",
            "    filepath:         fiftyone.core.fields.StringField\n",
            "    tags:             fiftyone.core.fields.ListField(fiftyone.core.fields.StringField)\n",
            "    metadata:         fiftyone.core.fields.EmbeddedDocumentField(fiftyone.core.metadata.ImageMetadata)\n",
            "    created_at:       fiftyone.core.fields.DateTimeField\n",
            "    last_modified_at: fiftyone.core.fields.DateTimeField\n",
            "    category:         fiftyone.core.fields.EmbeddedDocumentField(fiftyone.core.labels.Classification)\n",
            "    defect:           fiftyone.core.fields.EmbeddedDocumentField(fiftyone.core.labels.Classification)\n",
            "    split:            fiftyone.core.fields.StringField\n",
            "    defect_mask:      fiftyone.core.fields.EmbeddedDocumentField(fiftyone.core.labels.Segmentation)\n"
          ]
        }
      ],
      "source": [
        "new_dataset = view.clone()\n",
        "print(new_dataset)"
      ]
    },
    {
      "cell_type": "markdown",
      "metadata": {
        "id": "y9No9uM00Lpd"
      },
      "source": [
        "## Exporting `Dataset` to `FiftyOneDataset`\n",
        "\n",
        "FiftyOne supports various dataset formats. In this notebook, we’ve worked with a custom dataset from HuggingFace Hub. Now, we export it into a FiftyOne-compatible dataset to leverage additional capabilities.\n",
        "\n",
        "For more details on the dataset types supported by FiftyOne, refer to this [documentation page.](https://docs.voxel51.com/api/fiftyone.types.dataset_types.html?highlight=dataset%20type#module-fiftyone.types.dataset_types)"
      ]
    },
    {
      "cell_type": "code",
      "execution_count": 10,
      "metadata": {
        "id": "4MoejnXw0Lpd",
        "colab": {
          "base_uri": "https://localhost:8080/"
        },
        "outputId": "6894be60-dc2a-4673-8aaa-d71e094f25ab"
      },
      "outputs": [
        {
          "output_type": "stream",
          "name": "stdout",
          "text": [
            "Exporting samples...\n"
          ]
        },
        {
          "output_type": "stream",
          "name": "stderr",
          "text": [
            "INFO:fiftyone.utils.data.exporters:Exporting samples...\n"
          ]
        },
        {
          "output_type": "stream",
          "name": "stdout",
          "text": [
            " 100% |██████████████████████| 91/91 [808.9ms elapsed, 0s remaining, 112.5 docs/s]      \n"
          ]
        },
        {
          "output_type": "stream",
          "name": "stderr",
          "text": [
            "INFO:eta.core.utils: 100% |██████████████████████| 91/91 [808.9ms elapsed, 0s remaining, 112.5 docs/s]      \n"
          ]
        }
      ],
      "source": [
        "export_dir = \"MVTec_scratch\"\n",
        "new_dataset.export(\n",
        "    export_dir=export_dir,\n",
        "    dataset_type=fo.types.FiftyOneDataset,\n",
        ")"
      ]
    },
    {
      "cell_type": "markdown",
      "metadata": {
        "id": "2ad8719f"
      },
      "source": [
        "## In this notebook, we covered:\n",
        "1. Loading datasets from Hugging Face Hub (extendable to other sources).\n",
        "2. Exploring dataset structure and metadata.\n",
        "3. Applying filtering and querying techniques to analyze data.\n",
        "4. Utilizing the FiftyOne App for interactive visualization.\n",
        "5. Clone dataset views and export your Data in FiftyOne Format\n",
        "\n",
        "\n"
      ]
    },
    {
      "cell_type": "markdown",
      "metadata": {
        "id": "_JciiIY90Lpd"
      },
      "source": [
        "### Next Steps:\n",
        "Try modifying the dataset loading parameters, apply different filters, and explore the FiftyOne App’s visualization features! 🚀\n",
        "\n",
        "🔗 **More Resources:**  \n",
        "- [FiftyOne Docs](https://voxel51.com/docs/fiftyone/)  \n",
        "- [FiftyOne Tutorials](https://voxel51.com/docs/fiftyone/tutorials/index.html)"
      ]
    }
  ],
  "metadata": {
    "kernelspec": {
      "display_name": "py311_anomalib200b3",
      "language": "python",
      "name": "python3"
    },
    "language_info": {
      "codemirror_mode": {
        "name": "ipython",
        "version": 3
      },
      "file_extension": ".py",
      "mimetype": "text/x-python",
      "name": "python",
      "nbconvert_exporter": "python",
      "pygments_lexer": "ipython3",
      "version": "3.11.11"
    },
    "colab": {
      "provenance": [],
      "toc_visible": true
    },
    "widgets": {
      "application/vnd.jupyter.widget-state+json": {
        "47b9d00822634a0ba10a4acd48945621": {
          "model_module": "@jupyter-widgets/controls",
          "model_name": "HBoxModel",
          "model_module_version": "1.5.0",
          "state": {
            "_dom_classes": [],
            "_model_module": "@jupyter-widgets/controls",
            "_model_module_version": "1.5.0",
            "_model_name": "HBoxModel",
            "_view_count": null,
            "_view_module": "@jupyter-widgets/controls",
            "_view_module_version": "1.5.0",
            "_view_name": "HBoxView",
            "box_style": "",
            "children": [
              "IPY_MODEL_d0bd028c885649a4b2fc0ea015dc3106",
              "IPY_MODEL_b69e6d8420004a249e2e542671eb3105",
              "IPY_MODEL_9ea53887abbd477ebe3d40faeeb345aa"
            ],
            "layout": "IPY_MODEL_3fa62576ffa34afca69f868abe0a41f9"
          }
        },
        "d0bd028c885649a4b2fc0ea015dc3106": {
          "model_module": "@jupyter-widgets/controls",
          "model_name": "HTMLModel",
          "model_module_version": "1.5.0",
          "state": {
            "_dom_classes": [],
            "_model_module": "@jupyter-widgets/controls",
            "_model_module_version": "1.5.0",
            "_model_name": "HTMLModel",
            "_view_count": null,
            "_view_module": "@jupyter-widgets/controls",
            "_view_module_version": "1.5.0",
            "_view_name": "HTMLView",
            "description": "",
            "description_tooltip": null,
            "layout": "IPY_MODEL_7e1c992b7b7140bdb99bdce587868d2b",
            "placeholder": "​",
            "style": "IPY_MODEL_0af21416a8e14ff69f05cdbff2ff6ce8",
            "value": "fiftyone.yml: 100%"
          }
        },
        "b69e6d8420004a249e2e542671eb3105": {
          "model_module": "@jupyter-widgets/controls",
          "model_name": "FloatProgressModel",
          "model_module_version": "1.5.0",
          "state": {
            "_dom_classes": [],
            "_model_module": "@jupyter-widgets/controls",
            "_model_module_version": "1.5.0",
            "_model_name": "FloatProgressModel",
            "_view_count": null,
            "_view_module": "@jupyter-widgets/controls",
            "_view_module_version": "1.5.0",
            "_view_name": "ProgressView",
            "bar_style": "success",
            "description": "",
            "description_tooltip": null,
            "layout": "IPY_MODEL_2e126bc3a86845eb96d2e8d210c5fc0b",
            "max": 127,
            "min": 0,
            "orientation": "horizontal",
            "style": "IPY_MODEL_880b18db2cb149bd93633a20fdff052b",
            "value": 127
          }
        },
        "9ea53887abbd477ebe3d40faeeb345aa": {
          "model_module": "@jupyter-widgets/controls",
          "model_name": "HTMLModel",
          "model_module_version": "1.5.0",
          "state": {
            "_dom_classes": [],
            "_model_module": "@jupyter-widgets/controls",
            "_model_module_version": "1.5.0",
            "_model_name": "HTMLModel",
            "_view_count": null,
            "_view_module": "@jupyter-widgets/controls",
            "_view_module_version": "1.5.0",
            "_view_name": "HTMLView",
            "description": "",
            "description_tooltip": null,
            "layout": "IPY_MODEL_337ed238e2f943598cb1a08da99aef6d",
            "placeholder": "​",
            "style": "IPY_MODEL_fda57b10e6ac47a8909b407ad96a08b2",
            "value": " 127/127 [00:00&lt;00:00, 8.32kB/s]"
          }
        },
        "3fa62576ffa34afca69f868abe0a41f9": {
          "model_module": "@jupyter-widgets/base",
          "model_name": "LayoutModel",
          "model_module_version": "1.2.0",
          "state": {
            "_model_module": "@jupyter-widgets/base",
            "_model_module_version": "1.2.0",
            "_model_name": "LayoutModel",
            "_view_count": null,
            "_view_module": "@jupyter-widgets/base",
            "_view_module_version": "1.2.0",
            "_view_name": "LayoutView",
            "align_content": null,
            "align_items": null,
            "align_self": null,
            "border": null,
            "bottom": null,
            "display": null,
            "flex": null,
            "flex_flow": null,
            "grid_area": null,
            "grid_auto_columns": null,
            "grid_auto_flow": null,
            "grid_auto_rows": null,
            "grid_column": null,
            "grid_gap": null,
            "grid_row": null,
            "grid_template_areas": null,
            "grid_template_columns": null,
            "grid_template_rows": null,
            "height": null,
            "justify_content": null,
            "justify_items": null,
            "left": null,
            "margin": null,
            "max_height": null,
            "max_width": null,
            "min_height": null,
            "min_width": null,
            "object_fit": null,
            "object_position": null,
            "order": null,
            "overflow": null,
            "overflow_x": null,
            "overflow_y": null,
            "padding": null,
            "right": null,
            "top": null,
            "visibility": null,
            "width": null
          }
        },
        "7e1c992b7b7140bdb99bdce587868d2b": {
          "model_module": "@jupyter-widgets/base",
          "model_name": "LayoutModel",
          "model_module_version": "1.2.0",
          "state": {
            "_model_module": "@jupyter-widgets/base",
            "_model_module_version": "1.2.0",
            "_model_name": "LayoutModel",
            "_view_count": null,
            "_view_module": "@jupyter-widgets/base",
            "_view_module_version": "1.2.0",
            "_view_name": "LayoutView",
            "align_content": null,
            "align_items": null,
            "align_self": null,
            "border": null,
            "bottom": null,
            "display": null,
            "flex": null,
            "flex_flow": null,
            "grid_area": null,
            "grid_auto_columns": null,
            "grid_auto_flow": null,
            "grid_auto_rows": null,
            "grid_column": null,
            "grid_gap": null,
            "grid_row": null,
            "grid_template_areas": null,
            "grid_template_columns": null,
            "grid_template_rows": null,
            "height": null,
            "justify_content": null,
            "justify_items": null,
            "left": null,
            "margin": null,
            "max_height": null,
            "max_width": null,
            "min_height": null,
            "min_width": null,
            "object_fit": null,
            "object_position": null,
            "order": null,
            "overflow": null,
            "overflow_x": null,
            "overflow_y": null,
            "padding": null,
            "right": null,
            "top": null,
            "visibility": null,
            "width": null
          }
        },
        "0af21416a8e14ff69f05cdbff2ff6ce8": {
          "model_module": "@jupyter-widgets/controls",
          "model_name": "DescriptionStyleModel",
          "model_module_version": "1.5.0",
          "state": {
            "_model_module": "@jupyter-widgets/controls",
            "_model_module_version": "1.5.0",
            "_model_name": "DescriptionStyleModel",
            "_view_count": null,
            "_view_module": "@jupyter-widgets/base",
            "_view_module_version": "1.2.0",
            "_view_name": "StyleView",
            "description_width": ""
          }
        },
        "2e126bc3a86845eb96d2e8d210c5fc0b": {
          "model_module": "@jupyter-widgets/base",
          "model_name": "LayoutModel",
          "model_module_version": "1.2.0",
          "state": {
            "_model_module": "@jupyter-widgets/base",
            "_model_module_version": "1.2.0",
            "_model_name": "LayoutModel",
            "_view_count": null,
            "_view_module": "@jupyter-widgets/base",
            "_view_module_version": "1.2.0",
            "_view_name": "LayoutView",
            "align_content": null,
            "align_items": null,
            "align_self": null,
            "border": null,
            "bottom": null,
            "display": null,
            "flex": null,
            "flex_flow": null,
            "grid_area": null,
            "grid_auto_columns": null,
            "grid_auto_flow": null,
            "grid_auto_rows": null,
            "grid_column": null,
            "grid_gap": null,
            "grid_row": null,
            "grid_template_areas": null,
            "grid_template_columns": null,
            "grid_template_rows": null,
            "height": null,
            "justify_content": null,
            "justify_items": null,
            "left": null,
            "margin": null,
            "max_height": null,
            "max_width": null,
            "min_height": null,
            "min_width": null,
            "object_fit": null,
            "object_position": null,
            "order": null,
            "overflow": null,
            "overflow_x": null,
            "overflow_y": null,
            "padding": null,
            "right": null,
            "top": null,
            "visibility": null,
            "width": null
          }
        },
        "880b18db2cb149bd93633a20fdff052b": {
          "model_module": "@jupyter-widgets/controls",
          "model_name": "ProgressStyleModel",
          "model_module_version": "1.5.0",
          "state": {
            "_model_module": "@jupyter-widgets/controls",
            "_model_module_version": "1.5.0",
            "_model_name": "ProgressStyleModel",
            "_view_count": null,
            "_view_module": "@jupyter-widgets/base",
            "_view_module_version": "1.2.0",
            "_view_name": "StyleView",
            "bar_color": null,
            "description_width": ""
          }
        },
        "337ed238e2f943598cb1a08da99aef6d": {
          "model_module": "@jupyter-widgets/base",
          "model_name": "LayoutModel",
          "model_module_version": "1.2.0",
          "state": {
            "_model_module": "@jupyter-widgets/base",
            "_model_module_version": "1.2.0",
            "_model_name": "LayoutModel",
            "_view_count": null,
            "_view_module": "@jupyter-widgets/base",
            "_view_module_version": "1.2.0",
            "_view_name": "LayoutView",
            "align_content": null,
            "align_items": null,
            "align_self": null,
            "border": null,
            "bottom": null,
            "display": null,
            "flex": null,
            "flex_flow": null,
            "grid_area": null,
            "grid_auto_columns": null,
            "grid_auto_flow": null,
            "grid_auto_rows": null,
            "grid_column": null,
            "grid_gap": null,
            "grid_row": null,
            "grid_template_areas": null,
            "grid_template_columns": null,
            "grid_template_rows": null,
            "height": null,
            "justify_content": null,
            "justify_items": null,
            "left": null,
            "margin": null,
            "max_height": null,
            "max_width": null,
            "min_height": null,
            "min_width": null,
            "object_fit": null,
            "object_position": null,
            "order": null,
            "overflow": null,
            "overflow_x": null,
            "overflow_y": null,
            "padding": null,
            "right": null,
            "top": null,
            "visibility": null,
            "width": null
          }
        },
        "fda57b10e6ac47a8909b407ad96a08b2": {
          "model_module": "@jupyter-widgets/controls",
          "model_name": "DescriptionStyleModel",
          "model_module_version": "1.5.0",
          "state": {
            "_model_module": "@jupyter-widgets/controls",
            "_model_module_version": "1.5.0",
            "_model_name": "DescriptionStyleModel",
            "_view_count": null,
            "_view_module": "@jupyter-widgets/base",
            "_view_module_version": "1.2.0",
            "_view_name": "StyleView",
            "description_width": ""
          }
        }
      }
    }
  },
  "nbformat": 4,
  "nbformat_minor": 0
}