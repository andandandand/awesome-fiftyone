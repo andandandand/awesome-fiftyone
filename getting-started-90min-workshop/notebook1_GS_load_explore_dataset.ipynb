{
 "cells": [
  {
   "cell_type": "markdown",
   "id": "3232eaf0",
   "metadata": {},
   "source": [
    "\n",
    "# FiftyOne Workshop: Loading and Exploring Datasets (March 12th 2025)\n",
    "\n",
    "Welcome to this hands-on workshop where we will learn how to load and explore datasets using FiftyOne. \n",
    "This notebook will guide you through programmatic interaction via the **FiftyOne SDK** and visualization using the **FiftyOne App**.\n",
    "\n",
    "![Image](https://github.com/user-attachments/assets/d2830448-530e-4336-b3a4-f8f3838f5c73)\n",
    "\n",
    "## 🏆 Learning Objectives:\n",
    "- Load datasets into FiftyOne from different sources.\n",
    "- Understand the structure and metadata of datasets.\n",
    "- Use FiftyOne’s querying and filtering capabilities.\n",
    "- Interactively explore datasets in the FiftyOne App.\n",
    "\n",
    "In this example, we use Hugging Face Hub for dataset loading, but you are encouraged to explore other sources like local files, cloud storage, or custom dataset loaders.\n",
    "\n",
    "---\n"
   ]
  },
  {
   "cell_type": "markdown",
   "id": "2ad8719f",
   "metadata": {},
   "source": [
    "## In this notebook, we covered:\n",
    "1. Loading datasets from Hugging Face Hub (extendable to other sources).\n",
    "2. Exploring dataset structure and metadata.\n",
    "3. Applying filtering and querying techniques to analyze data.\n",
    "4. Utilizing the FiftyOne App for interactive visualization.\n",
    "5. Clone dataset views and export your Data in FiftyOne Format \n",
    "\n",
    "\n"
   ]
  },
  {
   "cell_type": "markdown",
   "metadata": {},
   "source": [
    "## Requirements anf FiftyOne Installation\n",
    "\n",
    "First thing you need to do is create a Python environment in your system, if you are not familiar with that please take a look of this [ReadmeFile](https://github.com/voxel51/fiftyone-examples?tab=readme-ov-file#-prerequisites-for-beginners-), where we will explain how to create the environment. After that be sure you activate the created environment and install FiftyOne there."
   ]
  },
  {
   "cell_type": "markdown",
   "metadata": {},
   "source": [
    "## Install FiftyOne"
   ]
  },
  {
   "cell_type": "code",
   "execution_count": null,
   "metadata": {},
   "outputs": [],
   "source": [
    "#!pip install fiftyone"
   ]
  },
  {
   "cell_type": "markdown",
   "id": "4ee1b1c2",
   "metadata": {},
   "source": [
    "\n",
    "## 📥 Loading a Dataset into FiftyOne\n",
    "\n",
    "FiftyOne provides multiple ways to import datasets, including:\n",
    "- **Hugging Face Hub** (as demonstrated here)\n",
    "- **Local files** (images, videos, or annotations in JSON, COCO, PASCAL VOC, etc.)\n",
    "- **Cloud storage** (AWS S3, Google Drive, etc.) - Just for FiftyOne Enterprise\n",
    "\n",
    "To load a dataset, we specify the source and format, ensuring FiftyOne properly indexes the data.\n",
    "\n",
    "🔗 **Relevant Documentation:** [Dataset Importing in FiftyOne](https://voxel51.com/docs/fiftyone/user_guide/dataset_creation/index.html)\n",
    "\n",
    "We are using [MVTec AD Dataset](https://www.mvtec.com/company/research/datasets/mvtec-ad) from [Voxel51 Hugging Face Hub](https://huggingface.co/datasets/Voxel51/mvtec-ad). The difference between the original resource and the Voxel51's one is the data structure, while in the first one we have a tree directory with category,in the second one we have an unstructure dataset with metadata such as ```categories.label```, and ```defect.label```.\n"
   ]
  },
  {
   "cell_type": "code",
   "execution_count": 2,
   "metadata": {},
   "outputs": [
    {
     "name": "stdout",
     "output_type": "stream",
     "text": [
      "Downloading config file fiftyone.yml from Voxel51/mvtec-ad\n",
      "Loading dataset\n",
      "Importing samples...\n",
      " 100% |███████████████| 5354/5354 [69.1ms elapsed, 0s remaining, 77.4K samples/s]   \n",
      "Migrating dataset 'Voxel51/mvtec-ad' to v1.3.0\n",
      "Dataset 'mvtec-ad_1' exists. Loading...\n"
     ]
    }
   ],
   "source": [
    "import fiftyone as fo # base library and app\n",
    "import fiftyone.utils.huggingface as fouh # Hugging Face integration\n",
    "dataset_ = fouh.load_from_hub(\"Voxel51/mvtec-ad\", persistent=True, overwrite=True)\n",
    "#dataset = fo.load_dataset(\"Voxel51/mvtec-ad\") # Use this CLI if you already have the dataset \n",
    "                                               # in your disk or if this is not the first time you run this notebook \n",
    "\n",
    "# Define the new dataset name\n",
    "dataset_name = \"mvtec-ad_1\"\n",
    "\n",
    "# Check if the dataset exists\n",
    "if dataset_name in fo.list_datasets():\n",
    "    print(f\"Dataset '{dataset_name}' exists. Loading...\")\n",
    "    dataset = fo.load_dataset(dataset_name)\n",
    "else:\n",
    "    print(f\"Dataset '{dataset_name}' does not exist. Creating a new one...\")\n",
    "    # Clone the dataset with a new name and make it persistent\n",
    "    dataset = dataset_.clone(dataset_name, persistent=True)"
   ]
  },
  {
   "cell_type": "markdown",
   "id": "a13ff8a6",
   "metadata": {},
   "source": [
    "\n",
    "## 🧐 Exploring the Dataset\n",
    "\n",
    "Once the dataset is loaded, we can inspect its structure using FiftyOne’s SDK.\n",
    "We will explore:\n",
    "- The number of samples in the dataset.\n",
    "- Available metadata and labels.\n",
    "- How images/videos are structured.\n",
    "\n",
    "🔗 **Relevant Documentation:** [Inspecting Datasets in FiftyOne](https://docs.voxel51.com/user_guide/using_datasets.html#using-fiftyone-datasets)\n"
   ]
  },
  {
   "cell_type": "code",
   "execution_count": 3,
   "metadata": {},
   "outputs": [
    {
     "name": "stdout",
     "output_type": "stream",
     "text": [
      "Name:        mvtec-ad_1\n",
      "Media type:  image\n",
      "Num samples: 5354\n",
      "Persistent:  True\n",
      "Tags:        []\n",
      "Sample fields:\n",
      "    id:               fiftyone.core.fields.ObjectIdField\n",
      "    filepath:         fiftyone.core.fields.StringField\n",
      "    tags:             fiftyone.core.fields.ListField(fiftyone.core.fields.StringField)\n",
      "    metadata:         fiftyone.core.fields.EmbeddedDocumentField(fiftyone.core.metadata.ImageMetadata)\n",
      "    created_at:       fiftyone.core.fields.DateTimeField\n",
      "    last_modified_at: fiftyone.core.fields.DateTimeField\n",
      "    category:         fiftyone.core.fields.EmbeddedDocumentField(fiftyone.core.labels.Classification)\n",
      "    defect:           fiftyone.core.fields.EmbeddedDocumentField(fiftyone.core.labels.Classification)\n",
      "    split:            fiftyone.core.fields.StringField\n",
      "    defect_mask:      fiftyone.core.fields.EmbeddedDocumentField(fiftyone.core.labels.Segmentation)\n",
      "<Sample: {\n",
      "    'id': '6621d76a324f6e05d5838ef7',\n",
      "    'media_type': 'image',\n",
      "    'filepath': '/Users/paularamos/fiftyone/huggingface/hub/Voxel51/mvtec-ad/data/data_53/009-101.png',\n",
      "    'tags': [],\n",
      "    'metadata': None,\n",
      "    'created_at': datetime.datetime(2025, 3, 5, 21, 43, 10, 837000),\n",
      "    'last_modified_at': datetime.datetime(2025, 3, 5, 21, 43, 10, 837000),\n",
      "    'category': <Classification: {\n",
      "        'id': '6621d769324f6e05d5837a0b',\n",
      "        'tags': [],\n",
      "        'label': 'grid',\n",
      "        'confidence': None,\n",
      "        'logits': None,\n",
      "    }>,\n",
      "    'defect': <Classification: {\n",
      "        'id': '6621d769324f6e05d5837a0c',\n",
      "        'tags': [],\n",
      "        'label': 'thread',\n",
      "        'confidence': None,\n",
      "        'logits': None,\n",
      "    }>,\n",
      "    'split': 'test',\n",
      "    'defect_mask': <Segmentation: {\n",
      "        'id': '6621d769324f6e05d5837a0d',\n",
      "        'tags': [],\n",
      "        'mask': None,\n",
      "        'mask_path': '/Users/paularamos/fiftyone/huggingface/hub/Voxel51/mvtec-ad/fields/defect_mask/defect_mask_12/009_mask-71.png',\n",
      "    }>,\n",
      "}>\n"
     ]
    }
   ],
   "source": [
    "print(dataset)\n",
    "print(dataset.last())  # Inspect the first or last sample"
   ]
  },
  {
   "cell_type": "code",
   "execution_count": 4,
   "metadata": {},
   "outputs": [
    {
     "name": "stdout",
     "output_type": "stream",
     "text": [
      "Session launched. Run `session.show()` to open the App in a cell output.\n"
     ]
    }
   ],
   "source": [
    "session = fo.launch_app(dataset, port=5151, auto=False)"
   ]
  },
  {
   "cell_type": "markdown",
   "metadata": {},
   "source": [
    "![Image](https://github.com/user-attachments/assets/82e253a8-d17d-4d39-a957-a406c23d70b6)"
   ]
  },
  {
   "cell_type": "markdown",
   "id": "b2f27130",
   "metadata": {},
   "source": [
    "\n",
    "## 🔍 Querying and Filtering\n",
    "\n",
    "FiftyOne provides a powerful querying engine to filter and analyze datasets efficiently.\n",
    "We can apply filters to:\n",
    "- Retrieve specific labels (e.g., all images with \"cat\" labels).\n",
    "- Apply confidence thresholds to object detections.\n",
    "- Filter data based on metadata (e.g., image size, timestamp).\n",
    "\n",
    "🔗 **Relevant Documentation:** [Dataset views](https://docs.voxel51.com/user_guide/using_views.html#dataset-views), [Querying Samples](https://docs.voxel51.com/user_guide/using_views.html#querying-samples), [Common filters](https://docs.voxel51.com/user_guide/using_views.html#querying-samples)\n",
    "\n",
    "### Examples:\n",
    "- Show all images containing a particular class.\n",
    "- Retrieve samples with object detection confidence above a threshold.\n",
    "- Filter out low-quality images based on metadata.\n"
   ]
  },
  {
   "cell_type": "code",
   "execution_count": 5,
   "metadata": {},
   "outputs": [
    {
     "name": "stdout",
     "output_type": "stream",
     "text": [
      "Dataset:     mvtec-ad_1\n",
      "Media type:  image\n",
      "Num samples: 91\n",
      "Sample fields:\n",
      "    id:               fiftyone.core.fields.ObjectIdField\n",
      "    filepath:         fiftyone.core.fields.StringField\n",
      "    tags:             fiftyone.core.fields.ListField(fiftyone.core.fields.StringField)\n",
      "    metadata:         fiftyone.core.fields.EmbeddedDocumentField(fiftyone.core.metadata.ImageMetadata)\n",
      "    created_at:       fiftyone.core.fields.DateTimeField\n",
      "    last_modified_at: fiftyone.core.fields.DateTimeField\n",
      "    category:         fiftyone.core.fields.EmbeddedDocumentField(fiftyone.core.labels.Classification)\n",
      "    defect:           fiftyone.core.fields.EmbeddedDocumentField(fiftyone.core.labels.Classification)\n",
      "    split:            fiftyone.core.fields.StringField\n",
      "    defect_mask:      fiftyone.core.fields.EmbeddedDocumentField(fiftyone.core.labels.Segmentation)\n",
      "View stages:\n",
      "    1. Match(filter={'$expr': {'$eq': [...]}})\n",
      "Session launched. Run `session.show()` to open the App in a cell output.\n"
     ]
    }
   ],
   "source": [
    "import fiftyone.core.expressions as foe\n",
    "# Query images where the defect is labeled as \"scratch\"\n",
    "view = dataset.match(foe.ViewField(\"defect.label\") == \"scratch\")\n",
    "print(view)\n",
    "\n",
    "# Launch FiftyOne App with the filtered dataset\n",
    "session = fo.launch_app(view, port=5151, auto=False)\n"
   ]
  },
  {
   "cell_type": "markdown",
   "metadata": {},
   "source": [
    "![Image](https://github.com/user-attachments/assets/a8143d7a-40cb-4f4c-8a04-0daf6f29abe7)"
   ]
  },
  {
   "cell_type": "code",
   "execution_count": 6,
   "metadata": {},
   "outputs": [
    {
     "name": "stdout",
     "output_type": "stream",
     "text": [
      "Dataset:     mvtec-ad_1\n",
      "Media type:  image\n",
      "Num samples: 21\n",
      "Sample fields:\n",
      "    id:               fiftyone.core.fields.ObjectIdField\n",
      "    filepath:         fiftyone.core.fields.StringField\n",
      "    tags:             fiftyone.core.fields.ListField(fiftyone.core.fields.StringField)\n",
      "    metadata:         fiftyone.core.fields.EmbeddedDocumentField(fiftyone.core.metadata.ImageMetadata)\n",
      "    created_at:       fiftyone.core.fields.DateTimeField\n",
      "    last_modified_at: fiftyone.core.fields.DateTimeField\n",
      "    category:         fiftyone.core.fields.EmbeddedDocumentField(fiftyone.core.labels.Classification)\n",
      "    defect:           fiftyone.core.fields.EmbeddedDocumentField(fiftyone.core.labels.Classification)\n",
      "    split:            fiftyone.core.fields.StringField\n",
      "    defect_mask:      fiftyone.core.fields.EmbeddedDocumentField(fiftyone.core.labels.Segmentation)\n",
      "View stages:\n",
      "    1. Match(filter={'$expr': {'$eq': [...]}})\n",
      "    2. Match(filter={'$expr': {'$eq': [...]}})\n"
     ]
    }
   ],
   "source": [
    "filter = view.match(foe.ViewField(\"category.label\") == \"wood\")\n",
    "session.view = filter\n",
    "print(filter)"
   ]
  },
  {
   "cell_type": "code",
   "execution_count": 7,
   "metadata": {},
   "outputs": [
    {
     "name": "stdout",
     "output_type": "stream",
     "text": [
      "Session launched. Run `session.show()` to open the App in a cell output.\n"
     ]
    }
   ],
   "source": [
    "# Launch FiftyOne App with the filtered dataset\n",
    "session = fo.launch_app(filter, port=5151, auto=False)"
   ]
  },
  {
   "cell_type": "markdown",
   "metadata": {},
   "source": [
    "![Image](https://github.com/user-attachments/assets/961e07d1-f1fe-4a69-93bc-92be0d1a700b)"
   ]
  },
  {
   "cell_type": "markdown",
   "id": "7a0766d0",
   "metadata": {},
   "source": [
    "\n",
    "## 🖥️ Interactive Exploration with the FiftyOne App\n",
    "\n",
    "The **FiftyOne App** allows users to interactively browse, filter, and analyze datasets.\n",
    "This visual interface is an essential tool for understanding dataset composition and refining data exploration workflows.\n",
    "\n",
    "Key features of the FiftyOne App:\n",
    "- Interactive filtering of images/videos.\n",
    "- Object detection visualization.\n",
    "- Dataset statistics and metadata overview.\n",
    "\n",
    "🔗 **Relevant Documentation:** [Using the FiftyOne App](https://voxel51.com/docs/fiftyone/user_guide/app.html)\n"
   ]
  },
  {
   "cell_type": "markdown",
   "metadata": {},
   "source": [
    "### Intereacting with Plugins to understand the dataset\n",
    "\n",
    "FiftyOne provides a powerful [plugin framework](https://docs.voxel51.com/plugins/index.html) that allows for extending and customizing the functionality of the tool to suit your specific needs. In this case we will use the [@voxel51/dashboard](https://github.com/voxel51/fiftyone-plugins/blob/main/plugins/dashboard/README.md) plugin, a plugin that enables users to construct custom dashboards that display statistics of interest about the current dataset (and beyond)"
   ]
  },
  {
   "cell_type": "code",
   "execution_count": null,
   "metadata": {},
   "outputs": [],
   "source": [
    "#!fiftyone plugins download https://github.com/voxel51/fiftyone-plugins --plugin-names @voxel51/dashboard"
   ]
  },
  {
   "cell_type": "markdown",
   "metadata": {},
   "source": [
    "![Image](https://github.com/user-attachments/assets/107f1873-8e19-4c37-abe1-46bb39cb993c)"
   ]
  },
  {
   "cell_type": "markdown",
   "metadata": {},
   "source": [
    "## New dataset\n",
    "\n",
    "Creates a new dataset containing a copy of the contents of the view."
   ]
  },
  {
   "cell_type": "code",
   "execution_count": null,
   "metadata": {},
   "outputs": [],
   "source": [
    "new_dataset= view.clone()\n",
    "print(new_dataset)"
   ]
  },
  {
   "cell_type": "markdown",
   "metadata": {},
   "source": [
    "## Exporting Dataset to FiftyOneDataset\n",
    "\n",
    "FiftyOne supports various dataset formats. In this notebook, we’ve worked with a custom dataset from Hugging Face Hub. Now, we export it into a FiftyOne-compatible dataset to leverage additional capabilities.\n",
    "\n",
    "For more details on the dataset types supported by FiftyOne, refer to this [documentation](https://docs.voxel51.com/api/fiftyone.types.dataset_types.html?highlight=dataset%20type#module-fiftyone.types.dataset_types)"
   ]
  },
  {
   "cell_type": "code",
   "execution_count": null,
   "metadata": {},
   "outputs": [],
   "source": [
    "export_dir = \"MVTec_scratch\"\n",
    "new_dataset.export(\n",
    "    export_dir=export_dir,\n",
    "    dataset_type=fo.types.FiftyOneDataset,\n",
    ")"
   ]
  },
  {
   "cell_type": "markdown",
   "metadata": {},
   "source": [
    "### Next Steps:\n",
    "Try modifying the dataset loading parameters, apply different filters, and explore the FiftyOne App’s visualization features! 🚀\n",
    "\n",
    "🔗 **More Resources:**  \n",
    "- [FiftyOne Docs](https://voxel51.com/docs/fiftyone/)  \n",
    "- [FiftyOne Tutorials](https://voxel51.com/docs/fiftyone/tutorials/index.html)"
   ]
  }
 ],
 "metadata": {
  "kernelspec": {
   "display_name": "py311_anomalib200b3",
   "language": "python",
   "name": "python3"
  },
  "language_info": {
   "codemirror_mode": {
    "name": "ipython",
    "version": 3
   },
   "file_extension": ".py",
   "mimetype": "text/x-python",
   "name": "python",
   "nbconvert_exporter": "python",
   "pygments_lexer": "ipython3",
   "version": "3.11.11"
  }
 },
 "nbformat": 4,
 "nbformat_minor": 2
}
